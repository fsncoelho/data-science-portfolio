{
 "cells": [
  {
   "cell_type": "markdown",
   "metadata": {},
   "source": [
    "### 01 - Teste de gravidez\n",
    "Escreva uma célula com controle de fluxos que tem como premissa a existência das seguintes variáveis:\n",
    "\n",
    "- ```sexo``` como ```str``` indicando os valores '**M**' para masculino e '**F**' para feminino  \n",
    "- ```beta_hcg``` que indica a quantidade do beta-HCG no sangue em mUI/mL.\n",
    "\n",
    "A sua tarefa é escrever um código que imprima como resultado \"indivíduo do sexo masculino\" quando sexo = 'M', caso sexo = 'F', se o valor de beta-HCG for maior que 5, retorne \"Positivo\" indicando que a paciente está grávida, e retorne \"Negativo\" caso contrário.\n",
    "\n",
    "Não mexa nos valores da variável ```sexo``` nem em ```beta_hcg```, e escreva um código que funcione para quaisquer valores possíveis de ambos: ```sexo``` = '**M**' ou '**F**' e ```beta_hcg``` assumindo valores inteiros positivos."
   ]
  },
  {
   "cell_type": "code",
   "execution_count": 21,
   "metadata": {},
   "outputs": [],
   "source": [
    "sexo = 'M'\n",
    "beta_hcg = 0\n",
    "\n",
    "# seu código vem abaixo desta linha\n",
    "def imprime_resultado(sexo, hcg):\n",
    "    if sexo == \"M\":\n",
    "        strSexo = \"Masculino\"\n",
    "        return f\"Indivíduo do sexo {strSexo}.\"\n",
    "    elif sexo == \"F\":\n",
    "        strSexo = \"Feminino\"\n",
    "        if hcg > 0 and hcg > 5:\n",
    "            strRes = \"Positivo\"\n",
    "        elif hcg > 0 and hcg <= 5:\n",
    "            strRes = \"Negativo\"\n",
    "        else:\n",
    "            strRes = \"Erro: hcg inválido\"\n",
    "        return f\"Indivíduo do sexo {strSexo}. Resultado {strRes}.\"\n",
    "    else:\n",
    "        return \"Erro: sexo inválido\"\n",
    "    "
   ]
  },
  {
   "cell_type": "code",
   "execution_count": 5,
   "metadata": {},
   "outputs": [
    {
     "data": {
      "text/plain": [
       "'Indivíduo do sexo Masculino.'"
      ]
     },
     "execution_count": 5,
     "metadata": {},
     "output_type": "execute_result"
    }
   ],
   "source": [
    "# teste 1\n",
    "sex = \"M\"\n",
    "hcg = 0\n",
    "imprime_resultado(sex, hcg)"
   ]
  },
  {
   "cell_type": "code",
   "execution_count": 10,
   "metadata": {},
   "outputs": [
    {
     "data": {
      "text/plain": [
       "'Indivíduo do sexo Feminino. Resultado Negativo.'"
      ]
     },
     "execution_count": 10,
     "metadata": {},
     "output_type": "execute_result"
    }
   ],
   "source": [
    "# teste 2\n",
    "sex = \"F\"\n",
    "hcg = 5\n",
    "imprime_resultado(sex, hcg)"
   ]
  },
  {
   "cell_type": "code",
   "execution_count": 11,
   "metadata": {},
   "outputs": [
    {
     "data": {
      "text/plain": [
       "'Indivíduo do sexo Feminino. Resultado Positivo.'"
      ]
     },
     "execution_count": 11,
     "metadata": {},
     "output_type": "execute_result"
    }
   ],
   "source": [
    "# teste 3\n",
    "sex = \"F\"\n",
    "hcg = 7\n",
    "imprime_resultado(sex, hcg)"
   ]
  },
  {
   "cell_type": "code",
   "execution_count": 16,
   "metadata": {},
   "outputs": [
    {
     "data": {
      "text/plain": [
       "'Indivíduo do sexo Feminino. Resultado Erro: hcg inválido.'"
      ]
     },
     "execution_count": 16,
     "metadata": {},
     "output_type": "execute_result"
    }
   ],
   "source": [
    "# teste 4\n",
    "sex = \"F\"\n",
    "hcg = -1\n",
    "imprime_resultado(sex, hcg)"
   ]
  },
  {
   "cell_type": "code",
   "execution_count": 22,
   "metadata": {},
   "outputs": [
    {
     "data": {
      "text/plain": [
       "'Erro: sexo inválido'"
      ]
     },
     "execution_count": 22,
     "metadata": {},
     "output_type": "execute_result"
    }
   ],
   "source": [
    "# teste 4\n",
    "sex = \"X\"\n",
    "hcg = 3\n",
    "imprime_resultado(sex, hcg)"
   ]
  },
  {
   "cell_type": "markdown",
   "metadata": {},
   "source": [
    "### 02 - Renomeando variáveis\n",
    "\n",
    "Vamos ver adiante que uma forma de renomear variáveis de um conjunto de dados é através de dicionários - o dicionário deve conter como chave o nome original, associando a cada chave um único valor (tipo *str*) que contenha o nome novo.\n",
    "\n",
    "A sua tarefa é escrever um dicionário que possa ser utilizado para traduzir as variáveis ```name``` (nome), ```age``` (idade) e ```income``` (renda). Ou seja, esse dicionário deve relacionar as chaves *name, age* e *income* às suas respectivas traduções."
   ]
  },
  {
   "cell_type": "code",
   "execution_count": 1,
   "metadata": {},
   "outputs": [
    {
     "data": {
      "text/plain": [
       "{'name': 'nome', 'age': 'idade', 'income': 'renda'}"
      ]
     },
     "execution_count": 1,
     "metadata": {},
     "output_type": "execute_result"
    }
   ],
   "source": [
    "dic_renomeacao = {'name': 'nome', \n",
    "                  'age': 'idade', \n",
    "                  'income': 'renda'}\n",
    "dic_renomeacao"
   ]
  },
  {
   "cell_type": "markdown",
   "metadata": {},
   "source": [
    "### 03 - É divisível?\n",
    "A sua tarefa é escrever um código que indique se um número ```N``` é divisível por um número P. Escreva um programa que faça essa verificação para quaisquer combinações de ```N``` e ```M``` e devolva uma mensagem indicativa no output."
   ]
  },
  {
   "cell_type": "code",
   "execution_count": 5,
   "metadata": {},
   "outputs": [
    {
     "name": "stdout",
     "output_type": "stream",
     "text": [
      "O número 42 é divisível por 7.\n"
     ]
    }
   ],
   "source": [
    "N = 42\n",
    "M = 7\n",
    "\n",
    "#Seu código\n",
    "if N % M == 0:\n",
    "    str = f\"O número {N} é divisível por {M}.\"\n",
    "else:\n",
    "    str = f\"O número {N} não é divisível por {M}.\"\n",
    "\n",
    "print(str)"
   ]
  },
  {
   "cell_type": "markdown",
   "metadata": {},
   "source": [
    "### 04 - Números primos\n",
    "> Um número **N** é primo se e somente se é divisível por 1, -1, por **N** e por -**N**.  \n",
    "\n",
    "Escreva um script que verifica se ```N``` é um número primo, verificando se ```N``` é divisível por todos os números de ```1``` a ```N-1```. Você vai precisar usar alguma ferramenta de *loop* que você aprendeu para isto. No final, devolva uma mensagem no output indicando se o número é primo ou não."
   ]
  },
  {
   "cell_type": "markdown",
   "metadata": {},
   "source": [
    "Como já sei (um pouco) de funções em python, utilizarei def "
   ]
  },
  {
   "cell_type": "code",
   "execution_count": 42,
   "metadata": {},
   "outputs": [],
   "source": [
    "N = 47\n",
    "\n",
    "# seu código abaixo\n",
    "def is_prime(x):\n",
    "    count = 1\n",
    "    if x == 0: # condição especial 1\n",
    "        return print(f\"{x} não é um número primo, nem par, nem ímpar.\\n({count} verificação)\")\n",
    "    \n",
    "    elif abs(x)==1 or abs(x)==2: # condição especial 2\n",
    "        return print(f\"{x} é um número primo.\\n({count} verificação)\")\n",
    "    \n",
    "    else:\n",
    "        num = abs(x)\n",
    "        for den in range(2,num):\n",
    "            if num % den == 0:\n",
    "                return print(f\"{x} não é um número primo.\\n({count} verificações)\")\n",
    "            count += 1\n",
    "        return print(f\"{x} é um número primo.\\n({count} verificações)\")"
   ]
  },
  {
   "cell_type": "code",
   "execution_count": 43,
   "metadata": {},
   "outputs": [
    {
     "name": "stdout",
     "output_type": "stream",
     "text": [
      "0 não é um número primo, nem par, nem ímpar.\n",
      "(1 verificação)\n",
      "1 é um número primo.\n",
      "(1 verificação)\n",
      "2 é um número primo.\n",
      "(1 verificação)\n",
      "3 é um número primo.\n",
      "(2 verificações)\n",
      "4 não é um número primo.\n",
      "(1 verificações)\n",
      "5 é um número primo.\n",
      "(4 verificações)\n",
      "6 não é um número primo.\n",
      "(1 verificações)\n",
      "7 é um número primo.\n",
      "(6 verificações)\n",
      "8 não é um número primo.\n",
      "(1 verificações)\n",
      "9 não é um número primo.\n",
      "(2 verificações)\n",
      "10 não é um número primo.\n",
      "(1 verificações)\n",
      "11 é um número primo.\n",
      "(10 verificações)\n",
      "12 não é um número primo.\n",
      "(1 verificações)\n",
      "13 é um número primo.\n",
      "(12 verificações)\n",
      "14 não é um número primo.\n",
      "(1 verificações)\n",
      "15 não é um número primo.\n",
      "(2 verificações)\n",
      "16 não é um número primo.\n",
      "(1 verificações)\n",
      "17 é um número primo.\n",
      "(16 verificações)\n",
      "18 não é um número primo.\n",
      "(1 verificações)\n",
      "19 é um número primo.\n",
      "(18 verificações)\n",
      "20 não é um número primo.\n",
      "(1 verificações)\n",
      "21 não é um número primo.\n",
      "(2 verificações)\n",
      "22 não é um número primo.\n",
      "(1 verificações)\n",
      "23 é um número primo.\n",
      "(22 verificações)\n",
      "24 não é um número primo.\n",
      "(1 verificações)\n",
      "25 não é um número primo.\n",
      "(4 verificações)\n",
      "26 não é um número primo.\n",
      "(1 verificações)\n",
      "27 não é um número primo.\n",
      "(2 verificações)\n",
      "28 não é um número primo.\n",
      "(1 verificações)\n",
      "29 é um número primo.\n",
      "(28 verificações)\n",
      "30 não é um número primo.\n",
      "(1 verificações)\n",
      "31 é um número primo.\n",
      "(30 verificações)\n",
      "32 não é um número primo.\n",
      "(1 verificações)\n",
      "33 não é um número primo.\n",
      "(2 verificações)\n",
      "34 não é um número primo.\n",
      "(1 verificações)\n",
      "35 não é um número primo.\n",
      "(4 verificações)\n",
      "36 não é um número primo.\n",
      "(1 verificações)\n",
      "37 é um número primo.\n",
      "(36 verificações)\n",
      "38 não é um número primo.\n",
      "(1 verificações)\n",
      "39 não é um número primo.\n",
      "(2 verificações)\n",
      "40 não é um número primo.\n",
      "(1 verificações)\n",
      "41 é um número primo.\n",
      "(40 verificações)\n",
      "42 não é um número primo.\n",
      "(1 verificações)\n",
      "43 é um número primo.\n",
      "(42 verificações)\n",
      "44 não é um número primo.\n",
      "(1 verificações)\n",
      "45 não é um número primo.\n",
      "(2 verificações)\n",
      "46 não é um número primo.\n",
      "(1 verificações)\n",
      "47 é um número primo.\n",
      "(46 verificações)\n",
      "48 não é um número primo.\n",
      "(1 verificações)\n",
      "49 não é um número primo.\n",
      "(6 verificações)\n"
     ]
    }
   ],
   "source": [
    "for n in range(0,50):\n",
    "    is_prime(n)"
   ]
  },
  {
   "cell_type": "code",
   "execution_count": 44,
   "metadata": {},
   "outputs": [
    {
     "name": "stdout",
     "output_type": "stream",
     "text": [
      "97 é um número primo.\n",
      "(96 verificações)\n"
     ]
    }
   ],
   "source": [
    "N = 97\n",
    "is_prime(N)"
   ]
  },
  {
   "cell_type": "markdown",
   "metadata": {},
   "source": [
    "### 05 - Desafio\n",
    "O algorítmo do exercício anterior não é o mais eficiente. O que você pode fazer para deixá-lo mais eficiente? Ou seja, executar menos comparações, portanto consumir menos tempo.\n",
    "1. Será que precisamos correr o loop até o final sempre?\n",
    "2. Será que precisamos mesmo verificar **todos** os números?\n",
    "3. Será que precisamos ir até N-1?\n",
    "\n",
    "Essas perguntas levam ao tipo de pensamento voltado a deixar um algoritmo mais eficiente. Veja se você consegue melhorar o seu."
   ]
  },
  {
   "cell_type": "code",
   "execution_count": 26,
   "metadata": {},
   "outputs": [],
   "source": [
    "N = 98\n",
    "\n",
    "# seu código aqui\n",
    "def is_prime_fast(x):\n",
    "    count = 1\n",
    "    if x == 0: # condição especial 1\n",
    "        return print(f\"{x} não é um número primo, nem par, nem ímpar.\\n({count} verificação)\")\n",
    "    \n",
    "    elif abs(x)==1 or abs(x)==2 or abs(x)==3: # condição especial 2\n",
    "        return print(f\"{x} é um número primo.\\n({count} verificação)\")\n",
    "    \n",
    "    elif abs(x) > 2 and abs(x) % 2 == 0: # é par\n",
    "        return print(f\"{x} não é um número primo, pois é par.\\n({count} verificações)\")\n",
    "    \n",
    "    else: # apenas ímpares maiores que 3\n",
    "        num = abs(x)\n",
    "        for den in range(3,num,2):\n",
    "            if num % den == 0:\n",
    "                return print(f\"{x} não é um número primo.\\n({count} verificações)\")\n",
    "            count += 1\n",
    "        return print(f\"{x} é um número primo.\\n({count} verificações)\")"
   ]
  },
  {
   "cell_type": "code",
   "execution_count": 41,
   "metadata": {},
   "outputs": [
    {
     "name": "stdout",
     "output_type": "stream",
     "text": [
      "1117 é um número primo.\n",
      "(1116 verificações)\n",
      "1117 é um número primo.\n",
      "(558 verificações)\n"
     ]
    }
   ],
   "source": [
    "N = 1117\n",
    "is_prime(N)\n",
    "is_prime_fast(N)"
   ]
  },
  {
   "cell_type": "code",
   "execution_count": 45,
   "metadata": {},
   "outputs": [
    {
     "name": "stdout",
     "output_type": "stream",
     "text": [
      "49 não é um número primo.\n",
      "(6 verificações)\n",
      "49 não é um número primo.\n",
      "(3 verificações)\n"
     ]
    }
   ],
   "source": [
    "N = 49\n",
    "is_prime(N)\n",
    "is_prime_fast(N)"
   ]
  },
  {
   "cell_type": "markdown",
   "metadata": {},
   "source": [
    "#### Comentários\n",
    "1. \"is_prime_fast\" reduz pela metade o número de verificações, pois varre apenas números ímpares.\n",
    "2. Condições especiais devem ser mantidas, como:\n",
    "    - 0 não pode ser divisor, logo não é primo por definição;\n",
    "    - abs(-1) e abs(-2) são primos por definição;\n",
    "    - abs(-3) é primo, mas a função retornaria \"3 não é primo\" se caísse na varredura dos ímpares. \n",
    "3. Deve existir maneiras mas elegantes a \"is_prime\" e \"is_prime_fast\"."
   ]
  },
  {
   "cell_type": "markdown",
   "metadata": {},
   "source": [
    "### 06 - Peso ideal 1\n",
    "O IMC (índice de massa corpórea) é um indicador de saúde mais bem aceito que o peso. Ele é calculado como:\n",
    "\n",
    "$$ IMC = \\dfrac{peso}{altura^2}$$\n",
    "\n",
    "Segundo a OMS, valores *normais* são entre 18.5 e 24.9.\n",
    "\n",
    "Sua tarefa é encontrar o ponto médio dessa faixa."
   ]
  },
  {
   "cell_type": "code",
   "execution_count": 46,
   "metadata": {},
   "outputs": [
    {
     "data": {
      "text/plain": [
       "21.7"
      ]
     },
     "execution_count": 46,
     "metadata": {},
     "output_type": "execute_result"
    }
   ],
   "source": [
    "a = 18.5\n",
    "b = 24.9\n",
    "imc_ideal = (a+b)/2\n",
    "imc_ideal"
   ]
  },
  {
   "cell_type": "markdown",
   "metadata": {},
   "source": [
    "### 07 - Peso ideal 2\n",
    "Recebendo um valor de altura, encontre o peso '*ideal*' dessa pessoa, que fornece o IMC encontrado acima"
   ]
  },
  {
   "cell_type": "code",
   "execution_count": 50,
   "metadata": {},
   "outputs": [
    {
     "data": {
      "text/plain": [
       "62.712999999999994"
      ]
     },
     "execution_count": 50,
     "metadata": {},
     "output_type": "execute_result"
    }
   ],
   "source": [
    "altura = 1.70\n",
    "\n",
    "# Seu código\n",
    "h2 = altura ** 2\n",
    "peso_ideal = imc_ideal * h2\n",
    "peso_ideal"
   ]
  },
  {
   "cell_type": "markdown",
   "metadata": {},
   "source": [
    "### 08 - Peso ideal 3\n",
    "Dada uma lista contendo as alturas de pacientes, crie uma nova lista que contenha o peso '*ideal*' (que fornece o IMC calculado em **Peso ideal 1**) desses pacientes."
   ]
  },
  {
   "cell_type": "code",
   "execution_count": 51,
   "metadata": {},
   "outputs": [
    {
     "data": {
      "text/plain": [
       "[82.51424999999999, 91.19425, 62.712999999999994, 59.07824999999999]"
      ]
     },
     "execution_count": 51,
     "metadata": {},
     "output_type": "execute_result"
    }
   ],
   "source": [
    "lista_alturas = [1.95, 2.05, 1.70, 1.65]\n",
    "\n",
    "lista_peso_ideal = []\n",
    "\n",
    "# seu código\n",
    "for h in lista_alturas:\n",
    "    h2 = h**2\n",
    "    lista_peso_ideal.append(imc_ideal*h2)\n",
    "\n",
    "lista_peso_ideal"
   ]
  },
  {
   "cell_type": "markdown",
   "metadata": {},
   "source": [
    "### 09 - Peso ideal 4\n",
    "Dada uma lista de tuplas - cada elemento da lista é uma tupla contendo altura e peso de um paciente - crie uma nova lista com o IMC desses pacientes."
   ]
  },
  {
   "cell_type": "code",
   "execution_count": 52,
   "metadata": {},
   "outputs": [
    {
     "data": {
      "text/plain": [
       "[27.777777777777775, 27.548209366391188, 19.188070502453332]"
      ]
     },
     "execution_count": 52,
     "metadata": {},
     "output_type": "execute_result"
    }
   ],
   "source": [
    "altura_peso = [(1.80, 90), (1.65, 75), (1.91, 70)]\n",
    "\n",
    "imc = []\n",
    "\n",
    "# seu código\n",
    "for k in altura_peso:\n",
    "    h, m = k\n",
    "    h2 = h**2\n",
    "    imc.append(m/h2)\n",
    "imc"
   ]
  },
  {
   "cell_type": "markdown",
   "metadata": {},
   "source": [
    "### 10 - Peso ideal 5\n",
    "Dada uma lista de **listas** - cada elemento da lista é uma **lista** contendo altura e peso de um paciente, adicione mais um elemento à lista de cada paciente contendo o IMC do paciente. Verifique também se é 'baixo', 'normal' ou 'alto' segundo os padrões da OMS em que normal é entre 18.5 e 24.9.\n",
    "\n",
    "Reflexão: por que no problema anterior temos que criar uma nova lista, e não podemos adicionar os dados de cada indivíduo à tupla?"
   ]
  },
  {
   "cell_type": "code",
   "execution_count": 57,
   "metadata": {},
   "outputs": [
    {
     "data": {
      "text/plain": [
       "[[1.8, 90, 27.777777777777775, 'alto'],\n",
       " [1.65, 75, 27.548209366391188, 'alto'],\n",
       " [1.91, 70, 19.188070502453332, 'normal']]"
      ]
     },
     "execution_count": 57,
     "metadata": {},
     "output_type": "execute_result"
    }
   ],
   "source": [
    "altura_peso = [[1.80, 90], [1.65, 75], [1.91, 70]]\n",
    "\n",
    "# seu código\n",
    "for k in altura_peso:\n",
    "    h, m = k\n",
    "    h2 = h**2\n",
    "    imc = m/h2\n",
    "    if imc < 18.5:\n",
    "        lvl = \"baixo\"\n",
    "    elif imc > 24.9:\n",
    "        lvl = \"alto\"\n",
    "    else:\n",
    "        lvl = \"normal\"            \n",
    "    k.append(imc)\n",
    "    k.append(lvl)\n",
    "\n",
    "altura_peso"
   ]
  }
 ],
 "metadata": {
  "kernelspec": {
   "display_name": "Python 3",
   "language": "python",
   "name": "python3"
  },
  "language_info": {
   "codemirror_mode": {
    "name": "ipython",
    "version": 3
   },
   "file_extension": ".py",
   "mimetype": "text/x-python",
   "name": "python",
   "nbconvert_exporter": "python",
   "pygments_lexer": "ipython3",
   "version": "3.8.5"
  }
 },
 "nbformat": 4,
 "nbformat_minor": 4
}
