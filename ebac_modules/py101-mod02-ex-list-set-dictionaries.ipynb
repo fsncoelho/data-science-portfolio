{
 "nbformat": 4,
 "nbformat_minor": 0,
 "metadata": {
  "colab": {
   "name": "modulo_2_exercicios.ipynb",
   "provenance": [],
   "collapsed_sections": []
  },
  "kernelspec": {
   "name": "python3",
   "display_name": "Python 3"
  }
 },
 "cells": [
  {
   "cell_type": "markdown",
   "metadata": {
    "id": "KJqp9AANOCtf"
   },
   "source": [
    "<img src=\"https://raw.githubusercontent.com/andre-marcos-perez/ebac-course-utils/main/media/logo/newebac_logo_black_half.png\" alt=\"ebac-logo\">\n",
    "\n",
    "---\n",
    "\n",
    "# **Módulo 02** | Python: Estruturas de Dados\n",
    "Caderno de **Exercícios**<br> \n",
    "Professor [André Perez](https://www.linkedin.com/in/andremarcosperez/)\n",
    "\n",
    "---"
   ]
  },
  {
   "cell_type": "markdown",
   "metadata": {
    "id": "d9jDtUbDOE1-"
   },
   "source": [
    "# **Tópicos**\n",
    "\n",
    "<ol type=\"1\">\n",
    "  <li>Listas;</li>\n",
    "  <li>Conjuntos;</li>\n",
    "  <li>Dicionários.</li>\n",
    "</ol>"
   ]
  },
  {
   "cell_type": "markdown",
   "metadata": {
    "id": "SmoHgt-lwkpD"
   },
   "source": [
    "---"
   ]
  },
  {
   "cell_type": "markdown",
   "metadata": {
    "id": "GABI6OW8OfQ2"
   },
   "source": [
    "# **Exercícios**"
   ]
  },
  {
   "cell_type": "markdown",
   "metadata": {
    "id": "muD1vxozykSC"
   },
   "source": [
    "## 1\\. Listas"
   ]
  },
  {
   "cell_type": "markdown",
   "metadata": {
    "id": "ahrFfCuBxJKs"
   },
   "source": [
    "Criei uma lista chamada `filmes` com o nome dos 10 primeiros filmes mais bem avaliados no site no [IMDB](https://www.imdb.com/chart/top/). Imprima o resultado."
   ]
  },
  {
   "cell_type": "code",
   "metadata": {
    "id": "OgL6Hv3bzOHI",
    "colab": {
     "base_uri": "https://localhost:8080/"
    },
    "executionInfo": {
     "status": "ok",
     "timestamp": 1626796531379,
     "user_tz": 180,
     "elapsed": 269,
     "user": {
      "displayName": "Felipe De Souza Nogueira Coelho",
      "photoUrl": "https://lh3.googleusercontent.com/a-/AOh14Gj_qS0L5RIoDFqnl-mjIGE7q9QS84gAHMZtMsSr=s64",
      "userId": "08077296764116829509"
     }
    },
    "outputId": "dde6f4ad-6010-48d6-e3c9-8bfbc323b676"
   },
   "source": [
    "top10_movies_original = [\n",
    "                'The Shawshank Redemption',\n",
    "                'The Godfather',\n",
    "                'The Godfather: Part II',\n",
    "                'The Dark Knight',\n",
    "                '12 Angry Men',\n",
    "                'Schindlers List',\n",
    "                'The Lord of the Rings: The Return of the King',\n",
    "                'Pulp Fiction',\n",
    "                'The Good, the Bad and the Ugly',\n",
    "                'The Lord of The Rings: The Fellowship of the Ring'\n",
    "                ]\n",
    "print(top10_movies_original)\n",
    "print(type(top10_movies_original))\n",
    "print(len(top10_movies_original))"
   ],
   "execution_count": 2,
   "outputs": [
    {
     "name": "stdout",
     "output_type": "stream",
     "text": [
      "['The Shawshank Redemption', 'The Godfather', 'The Godfather: Part II', 'The Dark Knight', '12 Angry Men', 'Schindlers List', 'The Lord of the Rings: The Return of the King', 'Pulp Fiction', 'The Good, the Bad and the Ugly', 'The Lord of The Rings: The Fellowship of the Ring']\n",
      "<class 'list'>\n",
      "10\n"
     ]
    }
   ]
  },
  {
   "cell_type": "markdown",
   "metadata": {
    "id": "KI9zQRT2xa7m"
   },
   "source": [
    "Simule a movimentação do *ranking*. Utilize os métodos `insert` e `pop` para trocar a posição do primeiro e do segundo filme da lista. Imprima o resultado.\n",
    "\n"
   ]
  },
  {
   "cell_type": "code",
   "metadata": {
    "id": "zX3mA3_GzrXH",
    "colab": {
     "base_uri": "https://localhost:8080/"
    },
    "executionInfo": {
     "status": "ok",
     "timestamp": 1626796585061,
     "user_tz": 180,
     "elapsed": 281,
     "user": {
      "displayName": "Felipe De Souza Nogueira Coelho",
      "photoUrl": "https://lh3.googleusercontent.com/a-/AOh14Gj_qS0L5RIoDFqnl-mjIGE7q9QS84gAHMZtMsSr=s64",
      "userId": "08077296764116829509"
     }
    },
    "outputId": "c608e099-9a9f-4a6f-aab4-c8eb1feb49b5"
   },
   "source": [
    "# copy oiginal\n",
    "top10_movies = top10_movies_original\n",
    "# 'The Godfather' takes the lead\n",
    "top2 = top10_movies[1]\n",
    "top10_movies.pop(1)\n",
    "top10_movies.insert(0,top2)\n",
    "print(top10_movies)\n",
    "print(len(top10_movies))"
   ],
   "execution_count": 3,
   "outputs": [
    {
     "name": "stdout",
     "output_type": "stream",
     "text": [
      "['The Godfather', 'The Shawshank Redemption', 'The Godfather: Part II', 'The Dark Knight', '12 Angry Men', 'Schindlers List', 'The Lord of the Rings: The Return of the King', 'Pulp Fiction', 'The Good, the Bad and the Ugly', 'The Lord of The Rings: The Fellowship of the Ring']\n",
      "10\n"
     ]
    }
   ]
  },
  {
   "cell_type": "markdown",
   "metadata": {
    "id": "zMN1Q3jdwoJm"
   },
   "source": [
    "---"
   ]
  },
  {
   "cell_type": "markdown",
   "metadata": {
    "id": "lxa5L6uF0ZJE"
   },
   "source": [
    "## 2\\. Conjuntos"
   ]
  },
  {
   "cell_type": "markdown",
   "metadata": {
    "id": "9JahS2Kj0d5u"
   },
   "source": [
    "Aconteceu um erro no seu *ranking*. Simule a duplicação dos três últimos filmes da lista. Imprima o resultado."
   ]
  },
  {
   "cell_type": "code",
   "metadata": {
    "id": "BnjnLBNC6PGe",
    "colab": {
     "base_uri": "https://localhost:8080/"
    },
    "executionInfo": {
     "status": "ok",
     "timestamp": 1626796593925,
     "user_tz": 180,
     "elapsed": 257,
     "user": {
      "displayName": "Felipe De Souza Nogueira Coelho",
      "photoUrl": "https://lh3.googleusercontent.com/a-/AOh14Gj_qS0L5RIoDFqnl-mjIGE7q9QS84gAHMZtMsSr=s64",
      "userId": "08077296764116829509"
     }
    },
    "outputId": "10c6607e-0785-4670-bddc-4b2b264d6658"
   },
   "source": [
    "tail1 = top10_movies[len(top10_movies)-1]\n",
    "tail2 = top10_movies[len(top10_movies)-2]\n",
    "tail3 = top10_movies[len(top10_movies)-3]\n",
    "print(tail1)\n",
    "print(tail2)\n",
    "print(tail3)"
   ],
   "execution_count": 4,
   "outputs": [
    {
     "name": "stdout",
     "output_type": "stream",
     "text": [
      "The Lord of The Rings: The Fellowship of the Ring\n",
      "The Good, the Bad and the Ugly\n",
      "Pulp Fiction\n"
     ]
    }
   ]
  },
  {
   "cell_type": "code",
   "metadata": {
    "colab": {
     "base_uri": "https://localhost:8080/"
    },
    "id": "1HBYu_simDdx",
    "executionInfo": {
     "status": "ok",
     "timestamp": 1626796603824,
     "user_tz": 180,
     "elapsed": 257,
     "user": {
      "displayName": "Felipe De Souza Nogueira Coelho",
      "photoUrl": "https://lh3.googleusercontent.com/a-/AOh14Gj_qS0L5RIoDFqnl-mjIGE7q9QS84gAHMZtMsSr=s64",
      "userId": "08077296764116829509"
     }
    },
    "outputId": "6ecfea4c-a111-4f2b-a302-5b61550b31c6"
   },
   "source": [
    "top10_movies.append(tail1)\n",
    "top10_movies.append(tail2)\n",
    "top10_movies.append(tail3)\n",
    "print(top10_movies)\n",
    "print(len(top10_movies))"
   ],
   "execution_count": 5,
   "outputs": [
    {
     "name": "stdout",
     "output_type": "stream",
     "text": [
      "['The Godfather', 'The Shawshank Redemption', 'The Godfather: Part II', 'The Dark Knight', '12 Angry Men', 'Schindlers List', 'The Lord of the Rings: The Return of the King', 'Pulp Fiction', 'The Good, the Bad and the Ugly', 'The Lord of The Rings: The Fellowship of the Ring', 'The Lord of The Rings: The Fellowship of the Ring', 'The Good, the Bad and the Ugly', 'Pulp Fiction']\n",
      "13\n"
     ]
    }
   ]
  },
  {
   "cell_type": "markdown",
   "metadata": {
    "id": "suxTfCJB6ZiX"
   },
   "source": [
    "Utiliza a conversão `set` e `list` para remover os valores duplicados. Imprima o resultado. "
   ]
  },
  {
   "cell_type": "code",
   "metadata": {
    "id": "ZvUGN-0n6joM",
    "colab": {
     "base_uri": "https://localhost:8080/"
    },
    "executionInfo": {
     "status": "ok",
     "timestamp": 1626796685864,
     "user_tz": 180,
     "elapsed": 280,
     "user": {
      "displayName": "Felipe De Souza Nogueira Coelho",
      "photoUrl": "https://lh3.googleusercontent.com/a-/AOh14Gj_qS0L5RIoDFqnl-mjIGE7q9QS84gAHMZtMsSr=s64",
      "userId": "08077296764116829509"
     }
    },
    "outputId": "9b6ff1da-a4d8-4377-9fe9-037d3e8db87a"
   },
   "source": [
    "top10_movies = list(set(top10_movies))\n",
    "print(top10_movies)\n",
    "print(len(top10_movies))"
   ],
   "execution_count": 6,
   "outputs": [
    {
     "name": "stdout",
     "output_type": "stream",
     "text": [
      "['The Lord of The Rings: The Fellowship of the Ring', '12 Angry Men', 'Schindlers List', 'The Dark Knight', 'Pulp Fiction', 'The Godfather: Part II', 'The Good, the Bad and the Ugly', 'The Godfather', 'The Lord of the Rings: The Return of the King', 'The Shawshank Redemption']\n",
      "10\n"
     ]
    }
   ]
  },
  {
   "cell_type": "markdown",
   "metadata": {
    "id": "ShkK35eQ6pAM"
   },
   "source": [
    "---"
   ]
  },
  {
   "cell_type": "markdown",
   "metadata": {
    "id": "EL_FzmxL6rTv"
   },
   "source": [
    "## 3\\. Dicionários"
   ]
  },
  {
   "cell_type": "markdown",
   "metadata": {
    "id": "i8l0gFqRCpfT"
   },
   "source": [
    "Repita os exercícios da parte 1 (listas). Os elementos da lista `filmes` devem ser dicionários no seguinte formato: `{'nome': <nome-do-filme>, 'ano': <ano do filme>}, 'sinopse': <sinopse do filme>}`. "
   ]
  },
  {
   "cell_type": "code",
   "metadata": {
    "colab": {
     "base_uri": "https://localhost:8080/"
    },
    "id": "gXPK9WSGW-Dv",
    "executionInfo": {
     "status": "ok",
     "timestamp": 1626810863770,
     "user_tz": 180,
     "elapsed": 273,
     "user": {
      "displayName": "Felipe De Souza Nogueira Coelho",
      "photoUrl": "https://lh3.googleusercontent.com/a-/AOh14Gj_qS0L5RIoDFqnl-mjIGE7q9QS84gAHMZtMsSr=s64",
      "userId": "08077296764116829509"
     }
    },
    "outputId": "1a1fa3f3-f43b-434d-a5ee-ae7384122817"
   },
   "source": [
    "top10_movies = dict(\n",
    "                shawshank = {\n",
    "                    'nome':'The Shawshank Redemption', \n",
    "                    'ano':'1972', \n",
    "                    'sinopse': 'Two imprisoned men bond over a number of years, finding solace and eventual redemption through acts of common decency.'\n",
    "                    },\n",
    "                godfather = {\n",
    "                    'nome':'The Godfather', \n",
    "                    'ano':'1994', \n",
    "                    'sinopse': \"An organized crime dynasty's aging patriarch transfers control of his clandestine empire to his reluctant son.\"\n",
    "                    },\n",
    "                godfatherII = {\n",
    "                    'nome':'The Godfather: Part II',\n",
    "                    'ano':'1974',\n",
    "                    'sinopse':'The early life and career of Vito Corleone in 1920s New York City is portrayed, while his son, Michael, expands and tightens his grip on the family crime syndicate.'\n",
    "                    },\n",
    "                darknight = {\n",
    "                    'nome':'The Dark Knight',\n",
    "                    'ano':'2008',\n",
    "                    'sinopse':'When the menace known as the Joker wreaks havoc and chaos on the people of Gotham, Batman must accept one of the greatest psychological and physical tests of his ability to fight injustice.'\n",
    "                    },\n",
    "                angrymen = {\n",
    "                    'nome':'12 Angry Men',\n",
    "                    'ano':'1957',\n",
    "                    'sinopse':'A jury holdout attempts to prevent a miscarriage of justice by forcing his colleagues to reconsider the evidence.'\n",
    "                    },\n",
    "                schindlerslist = {\n",
    "                    'nome':\"Schindler's List\",\n",
    "                    'ano':'1993',\n",
    "                    'sinopse':'In German-occupied Poland during World War II, industrialist Oskar Schindler gradually becomes concerned for his Jewish workforce after witnessing their persecution by the Nazis.'\n",
    "                    },\n",
    "                lordofringsIII = {\n",
    "                    'nome':'The Lord of the Rings: The Return of the King',\n",
    "                    'ano':'2003',\n",
    "                    'sinopse':\"Gandalf and Aragorn lead the World of Men against Sauron's army to draw his gaze from Frodo and Sam as they approach Mount Doom with the One Ring.\"\n",
    "                    },\n",
    "                pulpfiction = {\n",
    "                    'nome':'Pulp Fiction',\n",
    "                    'ano':'1993',\n",
    "                    'sinopse':'The lives of two mob hitmen, a boxer, a gangster and his wife, and a pair of diner bandits intertwine in four tales of violence and redemption.'\n",
    "                    },\n",
    "                 goodbadugly = {\n",
    "                    'nome':'The Good, the Bad and the Ugly',\n",
    "                    'ano':'1966',\n",
    "                    'sinopse':\"A bounty hunting scam joins two men in an uneasy alliance against a third in a race to find a fortune in gold buried in a remote cemetery.\"\n",
    "                    },\n",
    "                 lordofringsI = {\n",
    "                    'nome': 'The Lord of The Rings: The Fellowship of the Ring',\n",
    "                    'ano':'2001',\n",
    "                    'sinopse':\"A meek Hobbit from the Shire and eight companions set out on a journey to destroy the powerful One Ring and save Middle-earth from the Dark Lord Sauron.\"\n",
    "                    }\n",
    "                )\n",
    "print(top10_movies)\n",
    "print(type(top10_movies))\n",
    "print(len(top10_movies))"
   ],
   "execution_count": 7,
   "outputs": [
    {
     "name": "stdout",
     "output_type": "stream",
     "text": [
      "{'shawshank': {'nome': 'The Shawshank Redemption', 'ano': '1972', 'sinopse': 'Two imprisoned men bond over a number of years, finding solace and eventual redemption through acts of common decency.'}, 'godfather': {'nome': 'The Godfather', 'ano': '1994', 'sinopse': \"An organized crime dynasty's aging patriarch transfers control of his clandestine empire to his reluctant son.\"}, 'godfatherII': {'nome': 'The Godfather: Part II', 'ano': '1974', 'sinopse': 'The early life and career of Vito Corleone in 1920s New York City is portrayed, while his son, Michael, expands and tightens his grip on the family crime syndicate.'}, 'darknight': {'nome': 'The Dark Knight', 'ano': '2008', 'sinopse': 'When the menace known as the Joker wreaks havoc and chaos on the people of Gotham, Batman must accept one of the greatest psychological and physical tests of his ability to fight injustice.'}, 'angrymen': {'nome': '12 Angry Men', 'ano': '1957', 'sinopse': 'A jury holdout attempts to prevent a miscarriage of justice by forcing his colleagues to reconsider the evidence.'}, 'schindlerslist': {'nome': \"Schindler's List\", 'ano': '1993', 'sinopse': 'In German-occupied Poland during World War II, industrialist Oskar Schindler gradually becomes concerned for his Jewish workforce after witnessing their persecution by the Nazis.'}, 'lordofringsIII': {'nome': 'The Lord of the Rings: The Return of the King', 'ano': '2003', 'sinopse': \"Gandalf and Aragorn lead the World of Men against Sauron's army to draw his gaze from Frodo and Sam as they approach Mount Doom with the One Ring.\"}, 'pulpfiction': {'nome': 'Pulp Fiction', 'ano': '1993', 'sinopse': 'The lives of two mob hitmen, a boxer, a gangster and his wife, and a pair of diner bandits intertwine in four tales of violence and redemption.'}, 'goodbadugly': {'nome': 'The Good, the Bad and the Ugly', 'ano': '1966', 'sinopse': 'A bounty hunting scam joins two men in an uneasy alliance against a third in a race to find a fortune in gold buried in a remote cemetery.'}, 'lordofringsI': {'nome': 'The Lord of The Rings: The Fellowship of the Ring', 'ano': '2001', 'sinopse': 'A meek Hobbit from the Shire and eight companions set out on a journey to destroy the powerful One Ring and save Middle-earth from the Dark Lord Sauron.'}}\n",
      "<class 'dict'>\n",
      "10\n"
     ]
    }
   ]
  },
  {
   "cell_type": "code",
   "metadata": {
    "colab": {
     "base_uri": "https://localhost:8080/"
    },
    "id": "UoPgUGeDfBsE",
    "executionInfo": {
     "status": "ok",
     "timestamp": 1626810987046,
     "user_tz": 180,
     "elapsed": 270,
     "user": {
      "displayName": "Felipe De Souza Nogueira Coelho",
      "photoUrl": "https://lh3.googleusercontent.com/a-/AOh14Gj_qS0L5RIoDFqnl-mjIGE7q9QS84gAHMZtMsSr=s64",
      "userId": "08077296764116829509"
     }
    },
    "outputId": "8687bf2a-624e-4b18-af76-e876dcd7200d"
   },
   "source": [
    "print(list(top10_movies.keys()))"
   ],
   "execution_count": 8,
   "outputs": [
    {
     "name": "stdout",
     "output_type": "stream",
     "text": [
      "['shawshank', 'godfather', 'godfatherII', 'darknight', 'angrymen', 'schindlerslist', 'lordofringsIII', 'pulpfiction', 'goodbadugly', 'lordofringsI']\n"
     ]
    }
   ]
  },
  {
   "cell_type": "code",
   "metadata": {
    "colab": {
     "base_uri": "https://localhost:8080/"
    },
    "id": "-WzcNUKofdor",
    "executionInfo": {
     "status": "ok",
     "timestamp": 1626811083047,
     "user_tz": 180,
     "elapsed": 262,
     "user": {
      "displayName": "Felipe De Souza Nogueira Coelho",
      "photoUrl": "https://lh3.googleusercontent.com/a-/AOh14Gj_qS0L5RIoDFqnl-mjIGE7q9QS84gAHMZtMsSr=s64",
      "userId": "08077296764116829509"
     }
    },
    "outputId": "3daea62c-b926-4f4a-b67a-986082c160fb"
   },
   "source": [
    "print(top10_movies['lordofringsI']['nome'])\n",
    "print(top10_movies['lordofringsI']['ano'])\n",
    "print(top10_movies['lordofringsI']['sinopse'])"
   ],
   "execution_count": null,
   "outputs": []
  }
 ]
}
