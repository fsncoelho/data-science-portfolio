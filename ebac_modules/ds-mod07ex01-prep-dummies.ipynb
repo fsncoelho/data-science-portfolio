{
 "cells": [
  {
   "cell_type": "markdown",
   "metadata": {},
   "source": [
    "# Módulo 07, Tarefa 01\n",
    "\n",
    "Vamos começar a mexer na nossa base de projeto? Já fizemos um exercício de montar a variável resposta, já pudemos perceber que essa atividade pode não ser trivial. Vamos agora trabalhar a base para que fique propícia ao *scikitlearn* para trabalharmos.\n",
    "\n",
    "Lembrando, a base se chama demo01.csv, e originalmente está publicada [aqui](https://www.kaggle.com/rikdifos/credit-card-approval-prediction)."
   ]
  },
  {
   "cell_type": "markdown",
   "metadata": {},
   "source": [
    "#### 1) Carregue a base e avalie:\n",
    "\n",
    "- As variáveis\n",
    "- Tipos de dados de cada variável\n",
    "- Quantidade de missings\n",
    "- Distribuição da variável resposta (mau)"
   ]
  },
  {
   "cell_type": "code",
   "execution_count": 54,
   "metadata": {},
   "outputs": [],
   "source": [
    "import numpy as np\n",
    "import pandas as pd\n",
    "import seaborn as sns"
   ]
  },
  {
   "cell_type": "code",
   "execution_count": 55,
   "outputs": [
    {
     "data": {
      "text/plain": "  sexo posse_de_veiculo posse_de_imovel  qtd_filhos            tipo_renda   \n0    M                Y               Y           0               Working  \\\n1    F                N               Y           0  Commercial associate   \n2    F                N               Y           0  Commercial associate   \n3    M                Y               Y           0               Working   \n4    F                Y               N           0               Working   \n5    F                Y               N           0               Working   \n6    F                N               Y           0               Working   \n7    F                N               Y           0               Working   \n8    F                N               Y           1               Working   \n9    F                N               Y           1               Working   \n\n                        educacao          estado_civil    tipo_residencia   \n0  Secondary / secondary special               Married  House / apartment  \\\n1  Secondary / secondary special  Single / not married  House / apartment   \n2  Secondary / secondary special  Single / not married  House / apartment   \n3               Higher education               Married  House / apartment   \n4              Incomplete higher               Married  House / apartment   \n5              Incomplete higher               Married  House / apartment   \n6  Secondary / secondary special               Married  House / apartment   \n7  Secondary / secondary special               Married  House / apartment   \n8  Secondary / secondary special  Single / not married  House / apartment   \n9  Secondary / secondary special  Single / not married  House / apartment   \n\n       idade  tempo_emprego  possui_celular  possui_fone_comercial   \n0  58.832877       3.106849               1                      0  \\\n1  52.356164       8.358904               1                      0   \n2  52.356164       8.358904               1                      0   \n3  46.224658       2.106849               1                      1   \n4  29.230137       3.021918               1                      0   \n5  29.230137       3.021918               1                      0   \n6  27.482192       4.024658               1                      0   \n7  27.482192       4.024658               1                      0   \n8  30.049315       4.438356               1                      0   \n9  30.049315       4.438356               1                      0   \n\n   possui_fone  possui_email  qt_pessoas_residencia    mau  \n0            0             0                    2.0  False  \n1            1             1                    1.0  False  \n2            1             1                    1.0  False  \n3            1             1                    2.0  False  \n4            0             0                    2.0  False  \n5            0             0                    2.0  False  \n6            1             0                    2.0  False  \n7            1             0                    2.0  False  \n8            0             0                    2.0  False  \n9            0             0                    2.0  False  ",
      "text/html": "<div>\n<style scoped>\n    .dataframe tbody tr th:only-of-type {\n        vertical-align: middle;\n    }\n\n    .dataframe tbody tr th {\n        vertical-align: top;\n    }\n\n    .dataframe thead th {\n        text-align: right;\n    }\n</style>\n<table border=\"1\" class=\"dataframe\">\n  <thead>\n    <tr style=\"text-align: right;\">\n      <th></th>\n      <th>sexo</th>\n      <th>posse_de_veiculo</th>\n      <th>posse_de_imovel</th>\n      <th>qtd_filhos</th>\n      <th>tipo_renda</th>\n      <th>educacao</th>\n      <th>estado_civil</th>\n      <th>tipo_residencia</th>\n      <th>idade</th>\n      <th>tempo_emprego</th>\n      <th>possui_celular</th>\n      <th>possui_fone_comercial</th>\n      <th>possui_fone</th>\n      <th>possui_email</th>\n      <th>qt_pessoas_residencia</th>\n      <th>mau</th>\n    </tr>\n  </thead>\n  <tbody>\n    <tr>\n      <th>0</th>\n      <td>M</td>\n      <td>Y</td>\n      <td>Y</td>\n      <td>0</td>\n      <td>Working</td>\n      <td>Secondary / secondary special</td>\n      <td>Married</td>\n      <td>House / apartment</td>\n      <td>58.832877</td>\n      <td>3.106849</td>\n      <td>1</td>\n      <td>0</td>\n      <td>0</td>\n      <td>0</td>\n      <td>2.0</td>\n      <td>False</td>\n    </tr>\n    <tr>\n      <th>1</th>\n      <td>F</td>\n      <td>N</td>\n      <td>Y</td>\n      <td>0</td>\n      <td>Commercial associate</td>\n      <td>Secondary / secondary special</td>\n      <td>Single / not married</td>\n      <td>House / apartment</td>\n      <td>52.356164</td>\n      <td>8.358904</td>\n      <td>1</td>\n      <td>0</td>\n      <td>1</td>\n      <td>1</td>\n      <td>1.0</td>\n      <td>False</td>\n    </tr>\n    <tr>\n      <th>2</th>\n      <td>F</td>\n      <td>N</td>\n      <td>Y</td>\n      <td>0</td>\n      <td>Commercial associate</td>\n      <td>Secondary / secondary special</td>\n      <td>Single / not married</td>\n      <td>House / apartment</td>\n      <td>52.356164</td>\n      <td>8.358904</td>\n      <td>1</td>\n      <td>0</td>\n      <td>1</td>\n      <td>1</td>\n      <td>1.0</td>\n      <td>False</td>\n    </tr>\n    <tr>\n      <th>3</th>\n      <td>M</td>\n      <td>Y</td>\n      <td>Y</td>\n      <td>0</td>\n      <td>Working</td>\n      <td>Higher education</td>\n      <td>Married</td>\n      <td>House / apartment</td>\n      <td>46.224658</td>\n      <td>2.106849</td>\n      <td>1</td>\n      <td>1</td>\n      <td>1</td>\n      <td>1</td>\n      <td>2.0</td>\n      <td>False</td>\n    </tr>\n    <tr>\n      <th>4</th>\n      <td>F</td>\n      <td>Y</td>\n      <td>N</td>\n      <td>0</td>\n      <td>Working</td>\n      <td>Incomplete higher</td>\n      <td>Married</td>\n      <td>House / apartment</td>\n      <td>29.230137</td>\n      <td>3.021918</td>\n      <td>1</td>\n      <td>0</td>\n      <td>0</td>\n      <td>0</td>\n      <td>2.0</td>\n      <td>False</td>\n    </tr>\n    <tr>\n      <th>5</th>\n      <td>F</td>\n      <td>Y</td>\n      <td>N</td>\n      <td>0</td>\n      <td>Working</td>\n      <td>Incomplete higher</td>\n      <td>Married</td>\n      <td>House / apartment</td>\n      <td>29.230137</td>\n      <td>3.021918</td>\n      <td>1</td>\n      <td>0</td>\n      <td>0</td>\n      <td>0</td>\n      <td>2.0</td>\n      <td>False</td>\n    </tr>\n    <tr>\n      <th>6</th>\n      <td>F</td>\n      <td>N</td>\n      <td>Y</td>\n      <td>0</td>\n      <td>Working</td>\n      <td>Secondary / secondary special</td>\n      <td>Married</td>\n      <td>House / apartment</td>\n      <td>27.482192</td>\n      <td>4.024658</td>\n      <td>1</td>\n      <td>0</td>\n      <td>1</td>\n      <td>0</td>\n      <td>2.0</td>\n      <td>False</td>\n    </tr>\n    <tr>\n      <th>7</th>\n      <td>F</td>\n      <td>N</td>\n      <td>Y</td>\n      <td>0</td>\n      <td>Working</td>\n      <td>Secondary / secondary special</td>\n      <td>Married</td>\n      <td>House / apartment</td>\n      <td>27.482192</td>\n      <td>4.024658</td>\n      <td>1</td>\n      <td>0</td>\n      <td>1</td>\n      <td>0</td>\n      <td>2.0</td>\n      <td>False</td>\n    </tr>\n    <tr>\n      <th>8</th>\n      <td>F</td>\n      <td>N</td>\n      <td>Y</td>\n      <td>1</td>\n      <td>Working</td>\n      <td>Secondary / secondary special</td>\n      <td>Single / not married</td>\n      <td>House / apartment</td>\n      <td>30.049315</td>\n      <td>4.438356</td>\n      <td>1</td>\n      <td>0</td>\n      <td>0</td>\n      <td>0</td>\n      <td>2.0</td>\n      <td>False</td>\n    </tr>\n    <tr>\n      <th>9</th>\n      <td>F</td>\n      <td>N</td>\n      <td>Y</td>\n      <td>1</td>\n      <td>Working</td>\n      <td>Secondary / secondary special</td>\n      <td>Single / not married</td>\n      <td>House / apartment</td>\n      <td>30.049315</td>\n      <td>4.438356</td>\n      <td>1</td>\n      <td>0</td>\n      <td>0</td>\n      <td>0</td>\n      <td>2.0</td>\n      <td>False</td>\n    </tr>\n  </tbody>\n</table>\n</div>"
     },
     "execution_count": 55,
     "metadata": {},
     "output_type": "execute_result"
    }
   ],
   "source": [
    "df0 = pd.read_csv('demo01.csv')\n",
    "df0.head(10)"
   ],
   "metadata": {
    "collapsed": false
   }
  },
  {
   "cell_type": "code",
   "execution_count": 56,
   "outputs": [
    {
     "name": "stdout",
     "output_type": "stream",
     "text": [
      "<class 'pandas.core.frame.DataFrame'>\n",
      "RangeIndex: 16650 entries, 0 to 16649\n",
      "Data columns (total 16 columns):\n",
      " #   Column                 Non-Null Count  Dtype  \n",
      "---  ------                 --------------  -----  \n",
      " 0   sexo                   16650 non-null  object \n",
      " 1   posse_de_veiculo       16650 non-null  object \n",
      " 2   posse_de_imovel        16650 non-null  object \n",
      " 3   qtd_filhos             16650 non-null  int64  \n",
      " 4   tipo_renda             16650 non-null  object \n",
      " 5   educacao               16650 non-null  object \n",
      " 6   estado_civil           16650 non-null  object \n",
      " 7   tipo_residencia        16650 non-null  object \n",
      " 8   idade                  16650 non-null  float64\n",
      " 9   tempo_emprego          16650 non-null  float64\n",
      " 10  possui_celular         16650 non-null  int64  \n",
      " 11  possui_fone_comercial  16650 non-null  int64  \n",
      " 12  possui_fone            16650 non-null  int64  \n",
      " 13  possui_email           16650 non-null  int64  \n",
      " 14  qt_pessoas_residencia  16650 non-null  float64\n",
      " 15  mau                    16650 non-null  bool   \n",
      "dtypes: bool(1), float64(3), int64(5), object(7)\n",
      "memory usage: 1.9+ MB\n"
     ]
    }
   ],
   "source": [
    "df0.info()"
   ],
   "metadata": {
    "collapsed": false
   }
  },
  {
   "cell_type": "code",
   "execution_count": 57,
   "outputs": [
    {
     "data": {
      "text/plain": "(16650, 16)"
     },
     "execution_count": 57,
     "metadata": {},
     "output_type": "execute_result"
    }
   ],
   "source": [
    "df0.shape"
   ],
   "metadata": {
    "collapsed": false
   }
  },
  {
   "cell_type": "code",
   "execution_count": 58,
   "outputs": [
    {
     "data": {
      "text/plain": "(6770, 16)"
     },
     "execution_count": 58,
     "metadata": {},
     "output_type": "execute_result"
    }
   ],
   "source": [
    "df0.drop_duplicates().shape"
   ],
   "metadata": {
    "collapsed": false
   }
  },
  {
   "cell_type": "code",
   "execution_count": 59,
   "outputs": [
    {
     "data": {
      "text/plain": "sexo                     0\nposse_de_veiculo         0\nposse_de_imovel          0\nqtd_filhos               0\ntipo_renda               0\neducacao                 0\nestado_civil             0\ntipo_residencia          0\nidade                    0\ntempo_emprego            0\npossui_celular           0\npossui_fone_comercial    0\npossui_fone              0\npossui_email             0\nqt_pessoas_residencia    0\nmau                      0\ndtype: int64"
     },
     "execution_count": 59,
     "metadata": {},
     "output_type": "execute_result"
    }
   ],
   "source": [
    "# verifica dados faltentes\n",
    "df0.isna().sum()"
   ],
   "metadata": {
    "collapsed": false
   }
  },
  {
   "cell_type": "code",
   "execution_count": 60,
   "outputs": [
    {
     "data": {
      "text/plain": "sexo                     0\nposse_de_veiculo         0\nposse_de_imovel          0\nqtd_filhos               0\ntipo_renda               0\neducacao                 0\nestado_civil             0\ntipo_residencia          0\nidade                    0\ntempo_emprego            0\npossui_celular           0\npossui_fone_comercial    0\npossui_fone              0\npossui_email             0\nqt_pessoas_residencia    0\nmau                      0\ndtype: int64"
     },
     "execution_count": 60,
     "metadata": {},
     "output_type": "execute_result"
    }
   ],
   "source": [
    "df0.isnull().sum()"
   ],
   "metadata": {
    "collapsed": false
   }
  },
  {
   "cell_type": "code",
   "execution_count": 61,
   "outputs": [
    {
     "data": {
      "text/plain": "mau\nFalse    16260\nTrue       390\nName: count, dtype: int64"
     },
     "execution_count": 61,
     "metadata": {},
     "output_type": "execute_result"
    }
   ],
   "source": [
    "# verifica tipos de valores da var `mau`\n",
    "df0.mau.value_counts()"
   ],
   "metadata": {
    "collapsed": false
   }
  },
  {
   "cell_type": "code",
   "execution_count": 62,
   "outputs": [
    {
     "data": {
      "text/plain": "     sexo posse_de_veiculo posse_de_imovel  qtd_filhos            tipo_renda   \n6765    F                N               Y           1               Working  \\\n6766    F                N               Y           0               Working   \n6767    F                N               Y           0  Commercial associate   \n6768    M                Y               Y           0               Working   \n6769    F                N               Y           0             Pensioner   \n\n                           educacao          estado_civil    tipo_residencia   \n6765  Secondary / secondary special  Single / not married  House / apartment  \\\n6766  Secondary / secondary special        Civil marriage  House / apartment   \n6767  Secondary / secondary special               Married  House / apartment   \n6768  Secondary / secondary special               Married  House / apartment   \n6769               Higher education               Married  House / apartment   \n\n          idade  tempo_emprego  possui_celular  possui_fone_comercial   \n6765  34.857534       3.101370               1                      1  \\\n6766  54.109589       9.884932               1                      0   \n6767  43.389041       7.380822               1                      1   \n6768  30.005479       9.800000               1                      1   \n6769  33.936986       3.630137               1                      0   \n\n      possui_fone  possui_email  qt_pessoas_residencia   mau  \n6765            1             0                    1.0  True  \n6766            0             0                    2.0  True  \n6767            1             0                    2.0  True  \n6768            0             0                    2.0  True  \n6769            1             1                    2.0  True  ",
      "text/html": "<div>\n<style scoped>\n    .dataframe tbody tr th:only-of-type {\n        vertical-align: middle;\n    }\n\n    .dataframe tbody tr th {\n        vertical-align: top;\n    }\n\n    .dataframe thead th {\n        text-align: right;\n    }\n</style>\n<table border=\"1\" class=\"dataframe\">\n  <thead>\n    <tr style=\"text-align: right;\">\n      <th></th>\n      <th>sexo</th>\n      <th>posse_de_veiculo</th>\n      <th>posse_de_imovel</th>\n      <th>qtd_filhos</th>\n      <th>tipo_renda</th>\n      <th>educacao</th>\n      <th>estado_civil</th>\n      <th>tipo_residencia</th>\n      <th>idade</th>\n      <th>tempo_emprego</th>\n      <th>possui_celular</th>\n      <th>possui_fone_comercial</th>\n      <th>possui_fone</th>\n      <th>possui_email</th>\n      <th>qt_pessoas_residencia</th>\n      <th>mau</th>\n    </tr>\n  </thead>\n  <tbody>\n    <tr>\n      <th>6765</th>\n      <td>F</td>\n      <td>N</td>\n      <td>Y</td>\n      <td>1</td>\n      <td>Working</td>\n      <td>Secondary / secondary special</td>\n      <td>Single / not married</td>\n      <td>House / apartment</td>\n      <td>34.857534</td>\n      <td>3.101370</td>\n      <td>1</td>\n      <td>1</td>\n      <td>1</td>\n      <td>0</td>\n      <td>1.0</td>\n      <td>True</td>\n    </tr>\n    <tr>\n      <th>6766</th>\n      <td>F</td>\n      <td>N</td>\n      <td>Y</td>\n      <td>0</td>\n      <td>Working</td>\n      <td>Secondary / secondary special</td>\n      <td>Civil marriage</td>\n      <td>House / apartment</td>\n      <td>54.109589</td>\n      <td>9.884932</td>\n      <td>1</td>\n      <td>0</td>\n      <td>0</td>\n      <td>0</td>\n      <td>2.0</td>\n      <td>True</td>\n    </tr>\n    <tr>\n      <th>6767</th>\n      <td>F</td>\n      <td>N</td>\n      <td>Y</td>\n      <td>0</td>\n      <td>Commercial associate</td>\n      <td>Secondary / secondary special</td>\n      <td>Married</td>\n      <td>House / apartment</td>\n      <td>43.389041</td>\n      <td>7.380822</td>\n      <td>1</td>\n      <td>1</td>\n      <td>1</td>\n      <td>0</td>\n      <td>2.0</td>\n      <td>True</td>\n    </tr>\n    <tr>\n      <th>6768</th>\n      <td>M</td>\n      <td>Y</td>\n      <td>Y</td>\n      <td>0</td>\n      <td>Working</td>\n      <td>Secondary / secondary special</td>\n      <td>Married</td>\n      <td>House / apartment</td>\n      <td>30.005479</td>\n      <td>9.800000</td>\n      <td>1</td>\n      <td>1</td>\n      <td>0</td>\n      <td>0</td>\n      <td>2.0</td>\n      <td>True</td>\n    </tr>\n    <tr>\n      <th>6769</th>\n      <td>F</td>\n      <td>N</td>\n      <td>Y</td>\n      <td>0</td>\n      <td>Pensioner</td>\n      <td>Higher education</td>\n      <td>Married</td>\n      <td>House / apartment</td>\n      <td>33.936986</td>\n      <td>3.630137</td>\n      <td>1</td>\n      <td>0</td>\n      <td>1</td>\n      <td>1</td>\n      <td>2.0</td>\n      <td>True</td>\n    </tr>\n  </tbody>\n</table>\n</div>"
     },
     "execution_count": 62,
     "metadata": {},
     "output_type": "execute_result"
    }
   ],
   "source": [
    "# define novo df enxuto, sem linhas duplicadas\n",
    "# df1=df0.copy()\n",
    "df1=df0.drop_duplicates()\n",
    "df1.reset_index(drop=True, inplace=True)\n",
    "df1.tail()"
   ],
   "metadata": {
    "collapsed": false
   }
  },
  {
   "cell_type": "code",
   "execution_count": 63,
   "outputs": [
    {
     "data": {
      "text/plain": "mau\nFalse    6472\nTrue      298\nName: count, dtype: int64"
     },
     "execution_count": 63,
     "metadata": {},
     "output_type": "execute_result"
    }
   ],
   "source": [
    "# nova contagem de volares da var `mau`\n",
    "df1.mau.value_counts()"
   ],
   "metadata": {
    "collapsed": false
   }
  },
  {
   "cell_type": "markdown",
   "metadata": {},
   "source": [
    "#### 2) Vamos montar um metadados\n",
    "\n",
    "1. Crie um dataframe com os nomes de cada variável e o tipo de dados de cada variável.\n",
    "2. Adicione uma coluna nesse *dataframe* chamada \"qtd_categorias\" e coloque nela o número de categorias correspondente de cada variável. \n",
    "    Dica: \n",
    "        1. inicie uma lista vazia\n",
    "        2. faça um for ao longo dos nomes das variáveis, \n",
    "        3. conte o número de categorias dessa variável \n",
    "        4. acumule essa informação de 3. na lista que você criou em 1. \n",
    "        5. No final, essa lista pode ser atribuída à nossa variável.\n",
    "3. Crie variáveis dummy para as variáveis necessárias (i.e. aquelas que são qualitativas e não estão armazenadas como {0, 1} ou {True, False}."
   ]
  },
  {
   "cell_type": "code",
   "execution_count": 64,
   "metadata": {},
   "outputs": [
    {
     "data": {
      "text/plain": "educacao\nSecondary / secondary special    4695\nHigher education                 1743\nIncomplete higher                 249\nLower secondary                    78\nAcademic degree                     5\nName: count, dtype: int64"
     },
     "execution_count": 64,
     "metadata": {},
     "output_type": "execute_result"
    }
   ],
   "source": [
    "df1.educacao.value_counts()"
   ]
  },
  {
   "cell_type": "code",
   "execution_count": 65,
   "outputs": [
    {
     "data": {
      "text/plain": "5"
     },
     "execution_count": 65,
     "metadata": {},
     "output_type": "execute_result"
    }
   ],
   "source": [
    "df1.educacao.nunique()"
   ],
   "metadata": {
    "collapsed": false
   }
  },
  {
   "cell_type": "code",
   "execution_count": 66,
   "outputs": [
    {
     "data": {
      "text/plain": "sexo                      object\nposse_de_veiculo          object\nposse_de_imovel           object\nqtd_filhos                 int64\ntipo_renda                object\neducacao                  object\nestado_civil              object\ntipo_residencia           object\nidade                    float64\ntempo_emprego            float64\npossui_celular             int64\npossui_fone_comercial      int64\npossui_fone                int64\npossui_email               int64\nqt_pessoas_residencia    float64\nmau                         bool\ndtype: object"
     },
     "execution_count": 66,
     "metadata": {},
     "output_type": "execute_result"
    }
   ],
   "source": [
    "df1.dtypes"
   ],
   "metadata": {
    "collapsed": false
   }
  },
  {
   "cell_type": "code",
   "execution_count": 67,
   "outputs": [
    {
     "data": {
      "text/plain": "                 variavel     tipo  qtd_categorias\n0                    sexo   object             2.0\n1        posse_de_veiculo   object             2.0\n2         posse_de_imovel   object             2.0\n3              qtd_filhos    int64             8.0\n4              tipo_renda   object             5.0\n5                educacao   object             5.0\n6            estado_civil   object             5.0\n7         tipo_residencia   object             6.0\n8                   idade  float64             NaN\n9           tempo_emprego  float64             NaN\n10         possui_celular    int64             1.0\n11  possui_fone_comercial    int64             2.0\n12            possui_fone    int64             2.0\n13           possui_email    int64             2.0\n14  qt_pessoas_residencia  float64             NaN\n15                    mau     bool             2.0",
      "text/html": "<div>\n<style scoped>\n    .dataframe tbody tr th:only-of-type {\n        vertical-align: middle;\n    }\n\n    .dataframe tbody tr th {\n        vertical-align: top;\n    }\n\n    .dataframe thead th {\n        text-align: right;\n    }\n</style>\n<table border=\"1\" class=\"dataframe\">\n  <thead>\n    <tr style=\"text-align: right;\">\n      <th></th>\n      <th>variavel</th>\n      <th>tipo</th>\n      <th>qtd_categorias</th>\n    </tr>\n  </thead>\n  <tbody>\n    <tr>\n      <th>0</th>\n      <td>sexo</td>\n      <td>object</td>\n      <td>2.0</td>\n    </tr>\n    <tr>\n      <th>1</th>\n      <td>posse_de_veiculo</td>\n      <td>object</td>\n      <td>2.0</td>\n    </tr>\n    <tr>\n      <th>2</th>\n      <td>posse_de_imovel</td>\n      <td>object</td>\n      <td>2.0</td>\n    </tr>\n    <tr>\n      <th>3</th>\n      <td>qtd_filhos</td>\n      <td>int64</td>\n      <td>8.0</td>\n    </tr>\n    <tr>\n      <th>4</th>\n      <td>tipo_renda</td>\n      <td>object</td>\n      <td>5.0</td>\n    </tr>\n    <tr>\n      <th>5</th>\n      <td>educacao</td>\n      <td>object</td>\n      <td>5.0</td>\n    </tr>\n    <tr>\n      <th>6</th>\n      <td>estado_civil</td>\n      <td>object</td>\n      <td>5.0</td>\n    </tr>\n    <tr>\n      <th>7</th>\n      <td>tipo_residencia</td>\n      <td>object</td>\n      <td>6.0</td>\n    </tr>\n    <tr>\n      <th>8</th>\n      <td>idade</td>\n      <td>float64</td>\n      <td>NaN</td>\n    </tr>\n    <tr>\n      <th>9</th>\n      <td>tempo_emprego</td>\n      <td>float64</td>\n      <td>NaN</td>\n    </tr>\n    <tr>\n      <th>10</th>\n      <td>possui_celular</td>\n      <td>int64</td>\n      <td>1.0</td>\n    </tr>\n    <tr>\n      <th>11</th>\n      <td>possui_fone_comercial</td>\n      <td>int64</td>\n      <td>2.0</td>\n    </tr>\n    <tr>\n      <th>12</th>\n      <td>possui_fone</td>\n      <td>int64</td>\n      <td>2.0</td>\n    </tr>\n    <tr>\n      <th>13</th>\n      <td>possui_email</td>\n      <td>int64</td>\n      <td>2.0</td>\n    </tr>\n    <tr>\n      <th>14</th>\n      <td>qt_pessoas_residencia</td>\n      <td>float64</td>\n      <td>NaN</td>\n    </tr>\n    <tr>\n      <th>15</th>\n      <td>mau</td>\n      <td>bool</td>\n      <td>2.0</td>\n    </tr>\n  </tbody>\n</table>\n</div>"
     },
     "execution_count": 67,
     "metadata": {},
     "output_type": "execute_result"
    }
   ],
   "source": [
    "# define nova df para guardar tipo e qtd_categorias de cada variavel\n",
    "dfcat = pd.DataFrame(df1.dtypes).reset_index(drop=False)\n",
    "dfcat.columns=['variavel','tipo']\n",
    "# dfcat.head()\n",
    "for idr, row in dfcat.iterrows():\n",
    "    if str(row.tipo) in ['object','bool','int64']:\n",
    "        dfcat.loc[idr, 'qtd_categorias'] = df1[row.variavel].nunique()\n",
    "    else:\n",
    "        dfcat.loc[idr, 'qtd_categorias'] = None\n",
    "\n",
    "dfcat"
   ],
   "metadata": {
    "collapsed": false
   }
  },
  {
   "cell_type": "markdown",
   "metadata": {},
   "source": [
    "#### 3) Crie variáveis dummy para as variáveis necessárias (i.e. aquelas que são qualitativas e não estão armazenadas como {0, 1} ou {True, False}. Crie um *dataframe* apenas com as variáveis apropriadas para entrada no scikitlearn - elimine as variáveis tipo *str*, mantendo apenas suas versões *dummy*."
   ]
  },
  {
   "cell_type": "code",
   "execution_count": 68,
   "metadata": {},
   "outputs": [
    {
     "data": {
      "text/plain": "                 variavel     tipo  qtd_categorias get_dummy\n0                    sexo   object             2.0      True\n1        posse_de_veiculo   object             2.0      True\n2         posse_de_imovel   object             2.0      True\n3              qtd_filhos    int64             8.0     False\n4              tipo_renda   object             5.0      True\n5                educacao   object             5.0      True\n6            estado_civil   object             5.0      True\n7         tipo_residencia   object             6.0      True\n8                   idade  float64             NaN     False\n9           tempo_emprego  float64             NaN     False\n10         possui_celular    int64             1.0     False\n11  possui_fone_comercial    int64             2.0     False\n12            possui_fone    int64             2.0     False\n13           possui_email    int64             2.0     False\n14  qt_pessoas_residencia  float64             NaN     False\n15                    mau     bool             2.0     False",
      "text/html": "<div>\n<style scoped>\n    .dataframe tbody tr th:only-of-type {\n        vertical-align: middle;\n    }\n\n    .dataframe tbody tr th {\n        vertical-align: top;\n    }\n\n    .dataframe thead th {\n        text-align: right;\n    }\n</style>\n<table border=\"1\" class=\"dataframe\">\n  <thead>\n    <tr style=\"text-align: right;\">\n      <th></th>\n      <th>variavel</th>\n      <th>tipo</th>\n      <th>qtd_categorias</th>\n      <th>get_dummy</th>\n    </tr>\n  </thead>\n  <tbody>\n    <tr>\n      <th>0</th>\n      <td>sexo</td>\n      <td>object</td>\n      <td>2.0</td>\n      <td>True</td>\n    </tr>\n    <tr>\n      <th>1</th>\n      <td>posse_de_veiculo</td>\n      <td>object</td>\n      <td>2.0</td>\n      <td>True</td>\n    </tr>\n    <tr>\n      <th>2</th>\n      <td>posse_de_imovel</td>\n      <td>object</td>\n      <td>2.0</td>\n      <td>True</td>\n    </tr>\n    <tr>\n      <th>3</th>\n      <td>qtd_filhos</td>\n      <td>int64</td>\n      <td>8.0</td>\n      <td>False</td>\n    </tr>\n    <tr>\n      <th>4</th>\n      <td>tipo_renda</td>\n      <td>object</td>\n      <td>5.0</td>\n      <td>True</td>\n    </tr>\n    <tr>\n      <th>5</th>\n      <td>educacao</td>\n      <td>object</td>\n      <td>5.0</td>\n      <td>True</td>\n    </tr>\n    <tr>\n      <th>6</th>\n      <td>estado_civil</td>\n      <td>object</td>\n      <td>5.0</td>\n      <td>True</td>\n    </tr>\n    <tr>\n      <th>7</th>\n      <td>tipo_residencia</td>\n      <td>object</td>\n      <td>6.0</td>\n      <td>True</td>\n    </tr>\n    <tr>\n      <th>8</th>\n      <td>idade</td>\n      <td>float64</td>\n      <td>NaN</td>\n      <td>False</td>\n    </tr>\n    <tr>\n      <th>9</th>\n      <td>tempo_emprego</td>\n      <td>float64</td>\n      <td>NaN</td>\n      <td>False</td>\n    </tr>\n    <tr>\n      <th>10</th>\n      <td>possui_celular</td>\n      <td>int64</td>\n      <td>1.0</td>\n      <td>False</td>\n    </tr>\n    <tr>\n      <th>11</th>\n      <td>possui_fone_comercial</td>\n      <td>int64</td>\n      <td>2.0</td>\n      <td>False</td>\n    </tr>\n    <tr>\n      <th>12</th>\n      <td>possui_fone</td>\n      <td>int64</td>\n      <td>2.0</td>\n      <td>False</td>\n    </tr>\n    <tr>\n      <th>13</th>\n      <td>possui_email</td>\n      <td>int64</td>\n      <td>2.0</td>\n      <td>False</td>\n    </tr>\n    <tr>\n      <th>14</th>\n      <td>qt_pessoas_residencia</td>\n      <td>float64</td>\n      <td>NaN</td>\n      <td>False</td>\n    </tr>\n    <tr>\n      <th>15</th>\n      <td>mau</td>\n      <td>bool</td>\n      <td>2.0</td>\n      <td>False</td>\n    </tr>\n  </tbody>\n</table>\n</div>"
     },
     "execution_count": 68,
     "metadata": {},
     "output_type": "execute_result"
    }
   ],
   "source": [
    "for idr, row in dfcat.iterrows():\n",
    "    # print(row.variavel)\n",
    "    # print(df1[row.variavel].unique())\n",
    "    if row.variavel in ['sexo','posse_de_veiculo','posse_de_imovel','tipo_renda','educacao','estado_civil','tipo_residencia']:\n",
    "        dfcat.loc[idr, 'get_dummy'] = True\n",
    "    else:\n",
    "        dfcat.loc[idr, 'get_dummy'] = False\n",
    "\n",
    "dfcat"
   ]
  },
  {
   "cell_type": "code",
   "execution_count": 69,
   "outputs": [
    {
     "data": {
      "text/plain": "   qtd_filhos      idade  tempo_emprego  possui_celular   \n0           0  58.832877       3.106849               1  \\\n1           0  52.356164       8.358904               1   \n2           0  46.224658       2.106849               1   \n3           0  29.230137       3.021918               1   \n4           0  27.482192       4.024658               1   \n\n   possui_fone_comercial  possui_fone  possui_email  qt_pessoas_residencia   \n0                      0            0             0                    2.0  \\\n1                      0            1             1                    1.0   \n2                      1            1             1                    2.0   \n3                      0            0             0                    2.0   \n4                      0            1             0                    2.0   \n\n     mau  sexo_M  ...  educacao_Secondary / secondary special   \n0  False    True  ...                                    True  \\\n1  False   False  ...                                    True   \n2  False    True  ...                                   False   \n3  False   False  ...                                   False   \n4  False   False  ...                                    True   \n\n   estado_civil_Married  estado_civil_Separated   \n0                  True                   False  \\\n1                 False                   False   \n2                  True                   False   \n3                  True                   False   \n4                  True                   False   \n\n   estado_civil_Single / not married  estado_civil_Widow   \n0                              False               False  \\\n1                               True               False   \n2                              False               False   \n3                              False               False   \n4                              False               False   \n\n   tipo_residencia_House / apartment  tipo_residencia_Municipal apartment   \n0                               True                                False  \\\n1                               True                                False   \n2                               True                                False   \n3                               True                                False   \n4                               True                                False   \n\n   tipo_residencia_Office apartment  tipo_residencia_Rented apartment   \n0                             False                             False  \\\n1                             False                             False   \n2                             False                             False   \n3                             False                             False   \n4                             False                             False   \n\n   tipo_residencia_With parents  \n0                         False  \n1                         False  \n2                         False  \n3                         False  \n4                         False  \n\n[5 rows x 29 columns]",
      "text/html": "<div>\n<style scoped>\n    .dataframe tbody tr th:only-of-type {\n        vertical-align: middle;\n    }\n\n    .dataframe tbody tr th {\n        vertical-align: top;\n    }\n\n    .dataframe thead th {\n        text-align: right;\n    }\n</style>\n<table border=\"1\" class=\"dataframe\">\n  <thead>\n    <tr style=\"text-align: right;\">\n      <th></th>\n      <th>qtd_filhos</th>\n      <th>idade</th>\n      <th>tempo_emprego</th>\n      <th>possui_celular</th>\n      <th>possui_fone_comercial</th>\n      <th>possui_fone</th>\n      <th>possui_email</th>\n      <th>qt_pessoas_residencia</th>\n      <th>mau</th>\n      <th>sexo_M</th>\n      <th>...</th>\n      <th>educacao_Secondary / secondary special</th>\n      <th>estado_civil_Married</th>\n      <th>estado_civil_Separated</th>\n      <th>estado_civil_Single / not married</th>\n      <th>estado_civil_Widow</th>\n      <th>tipo_residencia_House / apartment</th>\n      <th>tipo_residencia_Municipal apartment</th>\n      <th>tipo_residencia_Office apartment</th>\n      <th>tipo_residencia_Rented apartment</th>\n      <th>tipo_residencia_With parents</th>\n    </tr>\n  </thead>\n  <tbody>\n    <tr>\n      <th>0</th>\n      <td>0</td>\n      <td>58.832877</td>\n      <td>3.106849</td>\n      <td>1</td>\n      <td>0</td>\n      <td>0</td>\n      <td>0</td>\n      <td>2.0</td>\n      <td>False</td>\n      <td>True</td>\n      <td>...</td>\n      <td>True</td>\n      <td>True</td>\n      <td>False</td>\n      <td>False</td>\n      <td>False</td>\n      <td>True</td>\n      <td>False</td>\n      <td>False</td>\n      <td>False</td>\n      <td>False</td>\n    </tr>\n    <tr>\n      <th>1</th>\n      <td>0</td>\n      <td>52.356164</td>\n      <td>8.358904</td>\n      <td>1</td>\n      <td>0</td>\n      <td>1</td>\n      <td>1</td>\n      <td>1.0</td>\n      <td>False</td>\n      <td>False</td>\n      <td>...</td>\n      <td>True</td>\n      <td>False</td>\n      <td>False</td>\n      <td>True</td>\n      <td>False</td>\n      <td>True</td>\n      <td>False</td>\n      <td>False</td>\n      <td>False</td>\n      <td>False</td>\n    </tr>\n    <tr>\n      <th>2</th>\n      <td>0</td>\n      <td>46.224658</td>\n      <td>2.106849</td>\n      <td>1</td>\n      <td>1</td>\n      <td>1</td>\n      <td>1</td>\n      <td>2.0</td>\n      <td>False</td>\n      <td>True</td>\n      <td>...</td>\n      <td>False</td>\n      <td>True</td>\n      <td>False</td>\n      <td>False</td>\n      <td>False</td>\n      <td>True</td>\n      <td>False</td>\n      <td>False</td>\n      <td>False</td>\n      <td>False</td>\n    </tr>\n    <tr>\n      <th>3</th>\n      <td>0</td>\n      <td>29.230137</td>\n      <td>3.021918</td>\n      <td>1</td>\n      <td>0</td>\n      <td>0</td>\n      <td>0</td>\n      <td>2.0</td>\n      <td>False</td>\n      <td>False</td>\n      <td>...</td>\n      <td>False</td>\n      <td>True</td>\n      <td>False</td>\n      <td>False</td>\n      <td>False</td>\n      <td>True</td>\n      <td>False</td>\n      <td>False</td>\n      <td>False</td>\n      <td>False</td>\n    </tr>\n    <tr>\n      <th>4</th>\n      <td>0</td>\n      <td>27.482192</td>\n      <td>4.024658</td>\n      <td>1</td>\n      <td>0</td>\n      <td>1</td>\n      <td>0</td>\n      <td>2.0</td>\n      <td>False</td>\n      <td>False</td>\n      <td>...</td>\n      <td>True</td>\n      <td>True</td>\n      <td>False</td>\n      <td>False</td>\n      <td>False</td>\n      <td>True</td>\n      <td>False</td>\n      <td>False</td>\n      <td>False</td>\n      <td>False</td>\n    </tr>\n  </tbody>\n</table>\n<p>5 rows × 29 columns</p>\n</div>"
     },
     "execution_count": 69,
     "metadata": {},
     "output_type": "execute_result"
    }
   ],
   "source": [
    "# define dummies\n",
    "x=dfcat[dfcat.get_dummy==True].variavel\n",
    "dfnew = pd.get_dummies(df1, columns=x, drop_first=True)\n",
    "dfnew.head()"
   ],
   "metadata": {
    "collapsed": false
   }
  },
  {
   "cell_type": "markdown",
   "metadata": {},
   "source": [
    "#### 4) Qual variável é mais poderosa?\n",
    "\n",
    "Considere as variáveis ```possui_email``` e ```posse_de_veiculo```. Faça uma tabela cruzada entre elas e responda qual delas te parece mais poderosa para prever a probabilidade de ```mau = 1```?"
   ]
  },
  {
   "cell_type": "code",
   "execution_count": 70,
   "outputs": [
    {
     "data": {
      "text/plain": "posse_de_veiculo_Y  False  True \npossui_email                    \n0                    3878   2327\n1                     333    232",
      "text/html": "<div>\n<style scoped>\n    .dataframe tbody tr th:only-of-type {\n        vertical-align: middle;\n    }\n\n    .dataframe tbody tr th {\n        vertical-align: top;\n    }\n\n    .dataframe thead th {\n        text-align: right;\n    }\n</style>\n<table border=\"1\" class=\"dataframe\">\n  <thead>\n    <tr style=\"text-align: right;\">\n      <th>posse_de_veiculo_Y</th>\n      <th>False</th>\n      <th>True</th>\n    </tr>\n    <tr>\n      <th>possui_email</th>\n      <th></th>\n      <th></th>\n    </tr>\n  </thead>\n  <tbody>\n    <tr>\n      <th>0</th>\n      <td>3878</td>\n      <td>2327</td>\n    </tr>\n    <tr>\n      <th>1</th>\n      <td>333</td>\n      <td>232</td>\n    </tr>\n  </tbody>\n</table>\n</div>"
     },
     "execution_count": 70,
     "metadata": {},
     "output_type": "execute_result"
    }
   ],
   "source": [
    "pd.crosstab(dfnew.possui_email, dfnew.posse_de_veiculo_Y)"
   ],
   "metadata": {
    "collapsed": false
   }
  },
  {
   "cell_type": "code",
   "execution_count": 74,
   "metadata": {},
   "outputs": [
    {
     "data": {
      "text/plain": "possui_email     0    1\nmau                    \nFalse         5927  545\nTrue           278   20",
      "text/html": "<div>\n<style scoped>\n    .dataframe tbody tr th:only-of-type {\n        vertical-align: middle;\n    }\n\n    .dataframe tbody tr th {\n        vertical-align: top;\n    }\n\n    .dataframe thead th {\n        text-align: right;\n    }\n</style>\n<table border=\"1\" class=\"dataframe\">\n  <thead>\n    <tr style=\"text-align: right;\">\n      <th>possui_email</th>\n      <th>0</th>\n      <th>1</th>\n    </tr>\n    <tr>\n      <th>mau</th>\n      <th></th>\n      <th></th>\n    </tr>\n  </thead>\n  <tbody>\n    <tr>\n      <th>False</th>\n      <td>5927</td>\n      <td>545</td>\n    </tr>\n    <tr>\n      <th>True</th>\n      <td>278</td>\n      <td>20</td>\n    </tr>\n  </tbody>\n</table>\n</div>"
     },
     "execution_count": 74,
     "metadata": {},
     "output_type": "execute_result"
    }
   ],
   "source": [
    "pd.crosstab(dfnew.mau, dfnew.possui_email)"
   ]
  },
  {
   "cell_type": "code",
   "execution_count": 75,
   "outputs": [
    {
     "data": {
      "text/plain": "posse_de_veiculo_Y  False  True \nmau                             \nFalse                4021   2451\nTrue                  190    108",
      "text/html": "<div>\n<style scoped>\n    .dataframe tbody tr th:only-of-type {\n        vertical-align: middle;\n    }\n\n    .dataframe tbody tr th {\n        vertical-align: top;\n    }\n\n    .dataframe thead th {\n        text-align: right;\n    }\n</style>\n<table border=\"1\" class=\"dataframe\">\n  <thead>\n    <tr style=\"text-align: right;\">\n      <th>posse_de_veiculo_Y</th>\n      <th>False</th>\n      <th>True</th>\n    </tr>\n    <tr>\n      <th>mau</th>\n      <th></th>\n      <th></th>\n    </tr>\n  </thead>\n  <tbody>\n    <tr>\n      <th>False</th>\n      <td>4021</td>\n      <td>2451</td>\n    </tr>\n    <tr>\n      <th>True</th>\n      <td>190</td>\n      <td>108</td>\n    </tr>\n  </tbody>\n</table>\n</div>"
     },
     "execution_count": 75,
     "metadata": {},
     "output_type": "execute_result"
    }
   ],
   "source": [
    "pd.crosstab(dfnew.mau, dfnew.posse_de_veiculo_Y)"
   ],
   "metadata": {
    "collapsed": false
   }
  },
  {
   "cell_type": "code",
   "execution_count": 85,
   "outputs": [
    {
     "data": {
      "text/plain": "                                  mau\npossui_email posse_de_veiculo_Y      \n0            False               3696\n             True                2231\n1            False                325\n             True                 220",
      "text/html": "<div>\n<style scoped>\n    .dataframe tbody tr th:only-of-type {\n        vertical-align: middle;\n    }\n\n    .dataframe tbody tr th {\n        vertical-align: top;\n    }\n\n    .dataframe thead th {\n        text-align: right;\n    }\n</style>\n<table border=\"1\" class=\"dataframe\">\n  <thead>\n    <tr style=\"text-align: right;\">\n      <th></th>\n      <th></th>\n      <th>mau</th>\n    </tr>\n    <tr>\n      <th>possui_email</th>\n      <th>posse_de_veiculo_Y</th>\n      <th></th>\n    </tr>\n  </thead>\n  <tbody>\n    <tr>\n      <th rowspan=\"2\" valign=\"top\">0</th>\n      <th>False</th>\n      <td>3696</td>\n    </tr>\n    <tr>\n      <th>True</th>\n      <td>2231</td>\n    </tr>\n    <tr>\n      <th rowspan=\"2\" valign=\"top\">1</th>\n      <th>False</th>\n      <td>325</td>\n    </tr>\n    <tr>\n      <th>True</th>\n      <td>220</td>\n    </tr>\n  </tbody>\n</table>\n</div>"
     },
     "execution_count": 85,
     "metadata": {},
     "output_type": "execute_result"
    }
   ],
   "source": [
    "dfnew[['possui_email','posse_de_veiculo_Y','mau']].loc[dfnew.mau==False].groupby(['possui_email','posse_de_veiculo_Y']).count()"
   ],
   "metadata": {
    "collapsed": false
   }
  },
  {
   "cell_type": "markdown",
   "source": [
    ">Embora não exista uma correlação entre as variáveis `possui_email` e `posse_de_veiculo`, nem dessas com a variável `mau`, apostar em `possui_email` tem maior probabilidade de acertar o valor de `mau`, pois `possui_email=0` compreende um montante significativo de `mau=False`."
   ],
   "metadata": {
    "collapsed": false
   }
  },
  {
   "cell_type": "code",
   "execution_count": 88,
   "outputs": [
    {
     "data": {
      "text/plain": "possui_email     0    1\nmau                    \nFalse         5927  545\nTrue           278   20",
      "text/html": "<div>\n<style scoped>\n    .dataframe tbody tr th:only-of-type {\n        vertical-align: middle;\n    }\n\n    .dataframe tbody tr th {\n        vertical-align: top;\n    }\n\n    .dataframe thead th {\n        text-align: right;\n    }\n</style>\n<table border=\"1\" class=\"dataframe\">\n  <thead>\n    <tr style=\"text-align: right;\">\n      <th>possui_email</th>\n      <th>0</th>\n      <th>1</th>\n    </tr>\n    <tr>\n      <th>mau</th>\n      <th></th>\n      <th></th>\n    </tr>\n  </thead>\n  <tbody>\n    <tr>\n      <th>False</th>\n      <td>5927</td>\n      <td>545</td>\n    </tr>\n    <tr>\n      <th>True</th>\n      <td>278</td>\n      <td>20</td>\n    </tr>\n  </tbody>\n</table>\n</div>"
     },
     "execution_count": 88,
     "metadata": {},
     "output_type": "execute_result"
    }
   ],
   "source": [
    "pd.crosstab(dfnew.mau, dfnew.possui_email)"
   ],
   "metadata": {
    "collapsed": false
   }
  },
  {
   "cell_type": "markdown",
   "metadata": {},
   "source": [
    "#### 5) Salve a base, pois ela será utilizada no final deste módulo."
   ]
  },
  {
   "cell_type": "code",
   "execution_count": 73,
   "outputs": [],
   "source": [
    "dfnew.to_csv('./minhabase.csv')"
   ],
   "metadata": {
    "collapsed": false
   }
  }
 ],
 "metadata": {
  "kernelspec": {
   "display_name": "Python 3",
   "language": "python",
   "name": "python3"
  },
  "language_info": {
   "codemirror_mode": {
    "name": "ipython",
    "version": 3
   },
   "file_extension": ".py",
   "mimetype": "text/x-python",
   "name": "python",
   "nbconvert_exporter": "python",
   "pygments_lexer": "ipython3",
   "version": "3.8.5"
  }
 },
 "nbformat": 4,
 "nbformat_minor": 4
}
