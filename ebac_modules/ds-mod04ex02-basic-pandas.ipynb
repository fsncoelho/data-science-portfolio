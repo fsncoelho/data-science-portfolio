{
 "cells": [
  {
   "cell_type": "markdown",
   "metadata": {},
   "source": [
    "## Exercício 1: Vestibular\n",
    "\n",
    "Considere que a os dados gerados na célula abaixo contêm o número de acertos de 100 alunos em um vestibular para um curso de exatas, divididas pelos respectivos assuntos. Considere que cada assunto possui um número de questões conforme a tabela abaixo:\n",
    "\n",
    "| assunto | número de questões |\n",
    "|:---:|:---:|\n",
    "| Matemática | 24 |\n",
    "| Português | 18 |\n",
    "| Geografia | 8 |\n",
    "| Inglês | 8 |\n",
    "| História | 8 |\n",
    "| Física | 12 |\n",
    "| Química | 12 |\n",
    "\n",
    "Usando os comandos de operações com DataFrames que você aprendeu na Aula 03, calcule:\n",
    "\n",
    "1. (operações com escalar) Calcule o percentual de acerto dos alunos por assunto.  \n",
    "2. (operações entre *DataFrames) Calcule o total de acertos de cada aluno.  \n",
    "3. Calcule o porcentual geral de cada aluno.  \n",
    "4. Suponha que a nota de corte para a segunda fase seja 45. Quantos alunos tiveram nota maior que 45?  "
   ]
  },
  {
   "cell_type": "code",
   "execution_count": 41,
   "metadata": {},
   "outputs": [],
   "source": [
    "import pandas as pd\n",
    "import numpy as np\n",
    "\n",
    "np.random.seed(42)\n",
    "df_mat = pd.DataFrame(np.random.randint(24, size=(100, 1)), columns=['Qt_acertos'])\n",
    "\n",
    "df_por = pd.DataFrame(np.random.randint(18, size=(100, 1)), columns=['Qt_acertos'])\n",
    "\n",
    "df_geo = pd.DataFrame(np.random.randint(8, size=(100, 1)), columns=['Qt_acertos'])\n",
    "\n",
    "df_ing = pd.DataFrame(np.random.randint(8, size=(100, 1)), columns=['Qt_acertos'])\n",
    "\n",
    "df_his = pd.DataFrame(np.random.randint(8, size=(100, 1)), columns=['Qt_acertos'])\n",
    "\n",
    "df_fis = pd.DataFrame(np.random.randint(12, size=(100, 1)), columns=['Qt_acertos'])\n",
    "\n",
    "df_qui = pd.DataFrame(np.random.randint(12, size=(100, 1)), columns=['Qt_acertos'])"
   ]
  },
  {
   "cell_type": "code",
   "execution_count": 42,
   "metadata": {},
   "outputs": [],
   "source": [
    "# 1) Seu código aqui\n",
    "df_mat['Pc_acertos'] = df_mat['Qt_acertos'] / 24\n",
    "df_por['Pc_acertos'] = df_por['Qt_acertos'] / 18\n",
    "df_geo['Pc_acertos'] = df_geo['Qt_acertos'] / 8\n",
    "df_ing['Pc_acertos'] = df_ing['Qt_acertos'] / 8\n",
    "df_his['Pc_acertos'] = df_his['Qt_acertos'] / 8\n",
    "df_fis['Pc_acertos'] = df_fis['Qt_acertos'] / 8\n",
    "df_qui['Pc_acertos'] = df_qui['Qt_acertos'] / 8\n",
    "\n",
    "# pc_mat = df_mat / 24\n",
    "# pc_por = df_por / 18\n",
    "# pc_geo = df_geo /  8\n",
    "# pc_ing = df_ing /  8\n",
    "# pc_his = df_his /  8\n",
    "# pc_fis = df_fis /  8\n",
    "# pc_qui = df_qui /  8\n",
    "\n",
    "# df_mat['Pc_acertos'] = pc_mat\n",
    "# df_por['Pc_acertos'] = pc_por\n",
    "# df_geo['Pc_acertos'] = pc_geo\n",
    "# df_ing['Pc_acertos'] = pc_ing\n",
    "# df_his['Pc_acertos'] = pc_his\n",
    "# df_fis['Pc_acertos'] = pc_fis\n",
    "# df_qui['Pc_acertos'] = pc_qui"
   ]
  },
  {
   "cell_type": "code",
   "execution_count": 43,
   "outputs": [
    {
     "data": {
      "text/plain": "    Qt_acertos  Pc_acertos\n0            6    0.250000\n1           19    0.791667\n2           14    0.583333\n3           10    0.416667\n4            7    0.291667\n..         ...         ...\n95           6    0.250000\n96           8    0.333333\n97          23    0.958333\n98           0    0.000000\n99          11    0.458333\n\n[100 rows x 2 columns]",
      "text/html": "<div>\n<style scoped>\n    .dataframe tbody tr th:only-of-type {\n        vertical-align: middle;\n    }\n\n    .dataframe tbody tr th {\n        vertical-align: top;\n    }\n\n    .dataframe thead th {\n        text-align: right;\n    }\n</style>\n<table border=\"1\" class=\"dataframe\">\n  <thead>\n    <tr style=\"text-align: right;\">\n      <th></th>\n      <th>Qt_acertos</th>\n      <th>Pc_acertos</th>\n    </tr>\n  </thead>\n  <tbody>\n    <tr>\n      <th>0</th>\n      <td>6</td>\n      <td>0.250000</td>\n    </tr>\n    <tr>\n      <th>1</th>\n      <td>19</td>\n      <td>0.791667</td>\n    </tr>\n    <tr>\n      <th>2</th>\n      <td>14</td>\n      <td>0.583333</td>\n    </tr>\n    <tr>\n      <th>3</th>\n      <td>10</td>\n      <td>0.416667</td>\n    </tr>\n    <tr>\n      <th>4</th>\n      <td>7</td>\n      <td>0.291667</td>\n    </tr>\n    <tr>\n      <th>...</th>\n      <td>...</td>\n      <td>...</td>\n    </tr>\n    <tr>\n      <th>95</th>\n      <td>6</td>\n      <td>0.250000</td>\n    </tr>\n    <tr>\n      <th>96</th>\n      <td>8</td>\n      <td>0.333333</td>\n    </tr>\n    <tr>\n      <th>97</th>\n      <td>23</td>\n      <td>0.958333</td>\n    </tr>\n    <tr>\n      <th>98</th>\n      <td>0</td>\n      <td>0.000000</td>\n    </tr>\n    <tr>\n      <th>99</th>\n      <td>11</td>\n      <td>0.458333</td>\n    </tr>\n  </tbody>\n</table>\n<p>100 rows × 2 columns</p>\n</div>"
     },
     "execution_count": 43,
     "metadata": {},
     "output_type": "execute_result"
    }
   ],
   "source": [
    "df_mat"
   ],
   "metadata": {
    "collapsed": false
   }
  },
  {
   "cell_type": "code",
   "execution_count": 44,
   "outputs": [
    {
     "data": {
      "text/plain": "82"
     },
     "execution_count": 44,
     "metadata": {},
     "output_type": "execute_result"
    }
   ],
   "source": [
    "nquestoes= 24+18+5*8\n",
    "nquestoes"
   ],
   "metadata": {
    "collapsed": false
   }
  },
  {
   "cell_type": "code",
   "execution_count": 45,
   "metadata": {},
   "outputs": [
    {
     "data": {
      "text/plain": "0     35\n1     48\n2     50\n3     32\n4     30\n      ..\n95    34\n96    27\n97    40\n98    40\n99    42\nName: Total, Length: 100, dtype: int64"
     },
     "execution_count": 45,
     "metadata": {},
     "output_type": "execute_result"
    }
   ],
   "source": [
    "# 2) Seu código aqui\n",
    "df_totals = pd.DataFrame(\n",
    "       data={\n",
    "              'Mat':list(df_mat['Qt_acertos']),\n",
    "              'Por':list(df_por['Qt_acertos']),\n",
    "              'Geo':list(df_geo['Qt_acertos']),\n",
    "              'Ing':list(df_ing['Qt_acertos']),\n",
    "              'His':list(df_his['Qt_acertos']),\n",
    "              'Fis':list(df_fis['Qt_acertos']),\n",
    "              'Qui':list(df_qui['Qt_acertos']),\n",
    "              'Total':list(df_mat['Qt_acertos'] + df_por['Qt_acertos'] + df_geo['Qt_acertos'] + df_ing['Qt_acertos'] + df_his['Qt_acertos'] + df_fis['Qt_acertos'] + df_qui['Qt_acertos'])\n",
    "       }\n",
    ")\n",
    "\n",
    "df_totals.Total"
   ]
  },
  {
   "cell_type": "code",
   "execution_count": 46,
   "metadata": {},
   "outputs": [
    {
     "data": {
      "text/plain": "    Mat  Por  Geo  Ing  His  Fis  Qui  Total  Pc_geral\n0     6    7    7    3    1    8    3     35  0.426829\n1    19   10    0    0    0   11    8     48  0.585366\n2    14   16    0    5    7    4    4     50  0.609756\n3    10    7    3    4    0    0    8     32  0.390244\n4     7    2    2    7    0    9    3     30  0.365854\n..  ...  ...  ...  ...  ...  ...  ...    ...       ...\n95    6    4    7    1    4    9    3     34  0.414634\n96    8    1    4    6    1    4    3     27  0.329268\n97   23    5    0    2    4    1    5     40  0.487805\n98    0   10    3    1    5   10   11     40  0.487805\n99   11   15    0    1    6    7    2     42  0.512195\n\n[100 rows x 9 columns]",
      "text/html": "<div>\n<style scoped>\n    .dataframe tbody tr th:only-of-type {\n        vertical-align: middle;\n    }\n\n    .dataframe tbody tr th {\n        vertical-align: top;\n    }\n\n    .dataframe thead th {\n        text-align: right;\n    }\n</style>\n<table border=\"1\" class=\"dataframe\">\n  <thead>\n    <tr style=\"text-align: right;\">\n      <th></th>\n      <th>Mat</th>\n      <th>Por</th>\n      <th>Geo</th>\n      <th>Ing</th>\n      <th>His</th>\n      <th>Fis</th>\n      <th>Qui</th>\n      <th>Total</th>\n      <th>Pc_geral</th>\n    </tr>\n  </thead>\n  <tbody>\n    <tr>\n      <th>0</th>\n      <td>6</td>\n      <td>7</td>\n      <td>7</td>\n      <td>3</td>\n      <td>1</td>\n      <td>8</td>\n      <td>3</td>\n      <td>35</td>\n      <td>0.426829</td>\n    </tr>\n    <tr>\n      <th>1</th>\n      <td>19</td>\n      <td>10</td>\n      <td>0</td>\n      <td>0</td>\n      <td>0</td>\n      <td>11</td>\n      <td>8</td>\n      <td>48</td>\n      <td>0.585366</td>\n    </tr>\n    <tr>\n      <th>2</th>\n      <td>14</td>\n      <td>16</td>\n      <td>0</td>\n      <td>5</td>\n      <td>7</td>\n      <td>4</td>\n      <td>4</td>\n      <td>50</td>\n      <td>0.609756</td>\n    </tr>\n    <tr>\n      <th>3</th>\n      <td>10</td>\n      <td>7</td>\n      <td>3</td>\n      <td>4</td>\n      <td>0</td>\n      <td>0</td>\n      <td>8</td>\n      <td>32</td>\n      <td>0.390244</td>\n    </tr>\n    <tr>\n      <th>4</th>\n      <td>7</td>\n      <td>2</td>\n      <td>2</td>\n      <td>7</td>\n      <td>0</td>\n      <td>9</td>\n      <td>3</td>\n      <td>30</td>\n      <td>0.365854</td>\n    </tr>\n    <tr>\n      <th>...</th>\n      <td>...</td>\n      <td>...</td>\n      <td>...</td>\n      <td>...</td>\n      <td>...</td>\n      <td>...</td>\n      <td>...</td>\n      <td>...</td>\n      <td>...</td>\n    </tr>\n    <tr>\n      <th>95</th>\n      <td>6</td>\n      <td>4</td>\n      <td>7</td>\n      <td>1</td>\n      <td>4</td>\n      <td>9</td>\n      <td>3</td>\n      <td>34</td>\n      <td>0.414634</td>\n    </tr>\n    <tr>\n      <th>96</th>\n      <td>8</td>\n      <td>1</td>\n      <td>4</td>\n      <td>6</td>\n      <td>1</td>\n      <td>4</td>\n      <td>3</td>\n      <td>27</td>\n      <td>0.329268</td>\n    </tr>\n    <tr>\n      <th>97</th>\n      <td>23</td>\n      <td>5</td>\n      <td>0</td>\n      <td>2</td>\n      <td>4</td>\n      <td>1</td>\n      <td>5</td>\n      <td>40</td>\n      <td>0.487805</td>\n    </tr>\n    <tr>\n      <th>98</th>\n      <td>0</td>\n      <td>10</td>\n      <td>3</td>\n      <td>1</td>\n      <td>5</td>\n      <td>10</td>\n      <td>11</td>\n      <td>40</td>\n      <td>0.487805</td>\n    </tr>\n    <tr>\n      <th>99</th>\n      <td>11</td>\n      <td>15</td>\n      <td>0</td>\n      <td>1</td>\n      <td>6</td>\n      <td>7</td>\n      <td>2</td>\n      <td>42</td>\n      <td>0.512195</td>\n    </tr>\n  </tbody>\n</table>\n<p>100 rows × 9 columns</p>\n</div>"
     },
     "execution_count": 46,
     "metadata": {},
     "output_type": "execute_result"
    }
   ],
   "source": [
    "# 3) Seu código aqui\n",
    "# total/90\n",
    "df_totals['Pc_geral'] = df_totals.Total / nquestoes\n",
    "df_totals"
   ]
  },
  {
   "cell_type": "code",
   "execution_count": 66,
   "metadata": {},
   "outputs": [
    {
     "data": {
      "text/plain": "31"
     },
     "execution_count": 66,
     "metadata": {},
     "output_type": "execute_result"
    }
   ],
   "source": [
    "# 4) Seu código aqui\n",
    "# total_gt_45 =\n",
    "# total_gt_45.count()\n",
    "\n",
    "df_totals[\"Aprovado\"] = df_totals['Total'] > 45\n",
    "num_aprovados = df_totals[df_totals['Aprovado']==True].Aprovado.count()\n",
    "# aprovados = df_totals.Aprovado[df_totals.Aprovado==True].count()\n",
    "num_aprovados"
   ]
  },
  {
   "cell_type": "markdown",
   "metadata": {},
   "source": [
    "## 2) Vestibular II\n",
    "\n",
    "Ainda sobre o mesmo banco de dados:\n",
    "\n",
    "1. Neste vestibular, quem 'zera' em matemática, física ou química está desqualificado. Monte um novo *DataFrame* com os alunos desqualificados por este critério.\n",
    "2. Quantos são esses alunos?\n",
    "3. Qual a média desses alunos em história e geografia?\n",
    "4. Monte um *DataFrame* com os alunos que passaram para a segunda fase. Repare que estes alunos não podem ter sido desqualificados."
   ]
  },
  {
   "cell_type": "code",
   "execution_count": 88,
   "metadata": {},
   "outputs": [
    {
     "data": {
      "text/plain": "    Mat  Por  Geo  Ing  His  Fis  Qui  Total  Pc_geral  Aprovado  Eliminado   \n0     6    7    7    3    1    8    3     35  0.426829     False      False  \\\n1    19   10    0    0    0   11    8     48  0.585366      True      False   \n2    14   16    0    5    7    4    4     50  0.609756      True      False   \n3    10    7    3    4    0    0    8     32  0.390244     False       True   \n4     7    2    2    7    0    9    3     30  0.365854     False      False   \n..  ...  ...  ...  ...  ...  ...  ...    ...       ...       ...        ...   \n95    6    4    7    1    4    9    3     34  0.414634     False      False   \n96    8    1    4    6    1    4    3     27  0.329268     False      False   \n97   23    5    0    2    4    1    5     40  0.487805     False      False   \n98    0   10    3    1    5   10   11     40  0.487805     False       True   \n99   11   15    0    1    6    7    2     42  0.512195     False      False   \n\n    Fase2  \n0   False  \n1    True  \n2    True  \n3   False  \n4   False  \n..    ...  \n95  False  \n96  False  \n97  False  \n98  False  \n99  False  \n\n[100 rows x 12 columns]",
      "text/html": "<div>\n<style scoped>\n    .dataframe tbody tr th:only-of-type {\n        vertical-align: middle;\n    }\n\n    .dataframe tbody tr th {\n        vertical-align: top;\n    }\n\n    .dataframe thead th {\n        text-align: right;\n    }\n</style>\n<table border=\"1\" class=\"dataframe\">\n  <thead>\n    <tr style=\"text-align: right;\">\n      <th></th>\n      <th>Mat</th>\n      <th>Por</th>\n      <th>Geo</th>\n      <th>Ing</th>\n      <th>His</th>\n      <th>Fis</th>\n      <th>Qui</th>\n      <th>Total</th>\n      <th>Pc_geral</th>\n      <th>Aprovado</th>\n      <th>Eliminado</th>\n      <th>Fase2</th>\n    </tr>\n  </thead>\n  <tbody>\n    <tr>\n      <th>0</th>\n      <td>6</td>\n      <td>7</td>\n      <td>7</td>\n      <td>3</td>\n      <td>1</td>\n      <td>8</td>\n      <td>3</td>\n      <td>35</td>\n      <td>0.426829</td>\n      <td>False</td>\n      <td>False</td>\n      <td>False</td>\n    </tr>\n    <tr>\n      <th>1</th>\n      <td>19</td>\n      <td>10</td>\n      <td>0</td>\n      <td>0</td>\n      <td>0</td>\n      <td>11</td>\n      <td>8</td>\n      <td>48</td>\n      <td>0.585366</td>\n      <td>True</td>\n      <td>False</td>\n      <td>True</td>\n    </tr>\n    <tr>\n      <th>2</th>\n      <td>14</td>\n      <td>16</td>\n      <td>0</td>\n      <td>5</td>\n      <td>7</td>\n      <td>4</td>\n      <td>4</td>\n      <td>50</td>\n      <td>0.609756</td>\n      <td>True</td>\n      <td>False</td>\n      <td>True</td>\n    </tr>\n    <tr>\n      <th>3</th>\n      <td>10</td>\n      <td>7</td>\n      <td>3</td>\n      <td>4</td>\n      <td>0</td>\n      <td>0</td>\n      <td>8</td>\n      <td>32</td>\n      <td>0.390244</td>\n      <td>False</td>\n      <td>True</td>\n      <td>False</td>\n    </tr>\n    <tr>\n      <th>4</th>\n      <td>7</td>\n      <td>2</td>\n      <td>2</td>\n      <td>7</td>\n      <td>0</td>\n      <td>9</td>\n      <td>3</td>\n      <td>30</td>\n      <td>0.365854</td>\n      <td>False</td>\n      <td>False</td>\n      <td>False</td>\n    </tr>\n    <tr>\n      <th>...</th>\n      <td>...</td>\n      <td>...</td>\n      <td>...</td>\n      <td>...</td>\n      <td>...</td>\n      <td>...</td>\n      <td>...</td>\n      <td>...</td>\n      <td>...</td>\n      <td>...</td>\n      <td>...</td>\n      <td>...</td>\n    </tr>\n    <tr>\n      <th>95</th>\n      <td>6</td>\n      <td>4</td>\n      <td>7</td>\n      <td>1</td>\n      <td>4</td>\n      <td>9</td>\n      <td>3</td>\n      <td>34</td>\n      <td>0.414634</td>\n      <td>False</td>\n      <td>False</td>\n      <td>False</td>\n    </tr>\n    <tr>\n      <th>96</th>\n      <td>8</td>\n      <td>1</td>\n      <td>4</td>\n      <td>6</td>\n      <td>1</td>\n      <td>4</td>\n      <td>3</td>\n      <td>27</td>\n      <td>0.329268</td>\n      <td>False</td>\n      <td>False</td>\n      <td>False</td>\n    </tr>\n    <tr>\n      <th>97</th>\n      <td>23</td>\n      <td>5</td>\n      <td>0</td>\n      <td>2</td>\n      <td>4</td>\n      <td>1</td>\n      <td>5</td>\n      <td>40</td>\n      <td>0.487805</td>\n      <td>False</td>\n      <td>False</td>\n      <td>False</td>\n    </tr>\n    <tr>\n      <th>98</th>\n      <td>0</td>\n      <td>10</td>\n      <td>3</td>\n      <td>1</td>\n      <td>5</td>\n      <td>10</td>\n      <td>11</td>\n      <td>40</td>\n      <td>0.487805</td>\n      <td>False</td>\n      <td>True</td>\n      <td>False</td>\n    </tr>\n    <tr>\n      <th>99</th>\n      <td>11</td>\n      <td>15</td>\n      <td>0</td>\n      <td>1</td>\n      <td>6</td>\n      <td>7</td>\n      <td>2</td>\n      <td>42</td>\n      <td>0.512195</td>\n      <td>False</td>\n      <td>False</td>\n      <td>False</td>\n    </tr>\n  </tbody>\n</table>\n<p>100 rows × 12 columns</p>\n</div>"
     },
     "execution_count": 88,
     "metadata": {},
     "output_type": "execute_result"
    }
   ],
   "source": [
    "# seu código aqui\n",
    "# df_eliminados = total[(df_mat['Qt_acertos'] == 0) |\n",
    "#                       (df_fis['Qt_acertos'] == 0) |\n",
    "#                       (df_qui['Qt_acertos'] == 0)]\n",
    "df_totals['Eliminado'] = None\n",
    "df_totals['Fase2'] = None\n",
    "df_totals['Eliminado'] = (df_totals.Mat == 0) | (df_totals.Fis == 0) | (df_totals.Qui == 0)\n",
    "df_totals['Fase2'] = (df_totals.Aprovado == True) & (df_totals.Eliminado == False)\n",
    "df_totals"
   ]
  },
  {
   "cell_type": "code",
   "execution_count": 89,
   "outputs": [
    {
     "data": {
      "text/plain": "23"
     },
     "execution_count": 89,
     "metadata": {},
     "output_type": "execute_result"
    }
   ],
   "source": [
    "# Numero de desqualificados/eliminados\n",
    "num_eleimandos = df_totals[df_totals.Eliminado == True].Eliminado.count()\n",
    "num_eleimandos"
   ],
   "metadata": {
    "collapsed": false
   }
  },
  {
   "cell_type": "code",
   "execution_count": 91,
   "outputs": [
    {
     "data": {
      "text/plain": "3.4347826086956523"
     },
     "execution_count": 91,
     "metadata": {},
     "output_type": "execute_result"
    }
   ],
   "source": [
    "# Media em Historia dos candidatos eliminados\n",
    "df_totals[df_totals.Eliminado==True].His.mean()"
   ],
   "metadata": {
    "collapsed": false
   }
  },
  {
   "cell_type": "code",
   "execution_count": 92,
   "outputs": [
    {
     "data": {
      "text/plain": "3.217391304347826"
     },
     "execution_count": 92,
     "metadata": {},
     "output_type": "execute_result"
    }
   ],
   "source": [
    "# Media em Geografia dos candidatos eliminados\n",
    "df_totals[df_totals.Eliminado==True].Geo.mean()"
   ],
   "metadata": {
    "collapsed": false
   }
  },
  {
   "cell_type": "code",
   "execution_count": 95,
   "outputs": [
    {
     "data": {
      "text/plain": "    Mat  Por  Geo  Ing  His  Fis  Qui  Total  Pc_geral  Aprovado  Eliminado   \n1    19   10    0    0    0   11    8     48  0.585366      True      False  \\\n2    14   16    0    5    7    4    4     50  0.609756      True      False   \n5    20    2    5    3    2    9    9     50  0.609756      True      False   \n7    18    4    4    7    7    1    8     49  0.597561      True      False   \n8    22    9    2    7    6    5    7     58  0.707317      True      False   \n17   21   15    2    2    4    2    6     52  0.634146      True      False   \n18   20    4    3    5    3   11    4     50  0.609756      True      False   \n24   20    2    7    5    3   11    2     50  0.609756      True      False   \n31   15   13    3    1    3    9   10     54  0.658537      True      False   \n36   22    9    6    6    1    4    8     56  0.682927      True      False   \n37   19   12    5    7    1    6    2     52  0.634146      True      False   \n39    4   16    2    4    6    9    8     49  0.597561      True      False   \n40   18    3    6    3    6    5    6     47  0.573171      True      False   \n42   20    6    7    7    2    3    3     48  0.585366      True      False   \n45   17   10    0    2    6    9    4     48  0.585366      True      False   \n48   17    6    0    7    5    9   11     55  0.670732      True      False   \n60   16    8    0    4    4    7    9     48  0.585366      True      False   \n62   17    6    2    4    7    1    9     46  0.560976      True      False   \n67   21    0    7    2    4    2   10     46  0.560976      True      False   \n70   21   14    0    3    5   11    8     62  0.756098      True      False   \n71   17    8    7    6    4    2    9     53  0.646341      True      False   \n77   15    2    5    7    6   11    7     53  0.646341      True      False   \n78   14   16    7    2    7   11    9     66  0.804878      True      False   \n81   22   16    2    0    4    1   10     55  0.670732      True      False   \n88   20    1    1    5    7    9    7     50  0.609756      True      False   \n93   12   16    5    5    6    6    6     56  0.682927      True      False   \n\n    Fase2  \n1    True  \n2    True  \n5    True  \n7    True  \n8    True  \n17   True  \n18   True  \n24   True  \n31   True  \n36   True  \n37   True  \n39   True  \n40   True  \n42   True  \n45   True  \n48   True  \n60   True  \n62   True  \n67   True  \n70   True  \n71   True  \n77   True  \n78   True  \n81   True  \n88   True  \n93   True  ",
      "text/html": "<div>\n<style scoped>\n    .dataframe tbody tr th:only-of-type {\n        vertical-align: middle;\n    }\n\n    .dataframe tbody tr th {\n        vertical-align: top;\n    }\n\n    .dataframe thead th {\n        text-align: right;\n    }\n</style>\n<table border=\"1\" class=\"dataframe\">\n  <thead>\n    <tr style=\"text-align: right;\">\n      <th></th>\n      <th>Mat</th>\n      <th>Por</th>\n      <th>Geo</th>\n      <th>Ing</th>\n      <th>His</th>\n      <th>Fis</th>\n      <th>Qui</th>\n      <th>Total</th>\n      <th>Pc_geral</th>\n      <th>Aprovado</th>\n      <th>Eliminado</th>\n      <th>Fase2</th>\n    </tr>\n  </thead>\n  <tbody>\n    <tr>\n      <th>1</th>\n      <td>19</td>\n      <td>10</td>\n      <td>0</td>\n      <td>0</td>\n      <td>0</td>\n      <td>11</td>\n      <td>8</td>\n      <td>48</td>\n      <td>0.585366</td>\n      <td>True</td>\n      <td>False</td>\n      <td>True</td>\n    </tr>\n    <tr>\n      <th>2</th>\n      <td>14</td>\n      <td>16</td>\n      <td>0</td>\n      <td>5</td>\n      <td>7</td>\n      <td>4</td>\n      <td>4</td>\n      <td>50</td>\n      <td>0.609756</td>\n      <td>True</td>\n      <td>False</td>\n      <td>True</td>\n    </tr>\n    <tr>\n      <th>5</th>\n      <td>20</td>\n      <td>2</td>\n      <td>5</td>\n      <td>3</td>\n      <td>2</td>\n      <td>9</td>\n      <td>9</td>\n      <td>50</td>\n      <td>0.609756</td>\n      <td>True</td>\n      <td>False</td>\n      <td>True</td>\n    </tr>\n    <tr>\n      <th>7</th>\n      <td>18</td>\n      <td>4</td>\n      <td>4</td>\n      <td>7</td>\n      <td>7</td>\n      <td>1</td>\n      <td>8</td>\n      <td>49</td>\n      <td>0.597561</td>\n      <td>True</td>\n      <td>False</td>\n      <td>True</td>\n    </tr>\n    <tr>\n      <th>8</th>\n      <td>22</td>\n      <td>9</td>\n      <td>2</td>\n      <td>7</td>\n      <td>6</td>\n      <td>5</td>\n      <td>7</td>\n      <td>58</td>\n      <td>0.707317</td>\n      <td>True</td>\n      <td>False</td>\n      <td>True</td>\n    </tr>\n    <tr>\n      <th>17</th>\n      <td>21</td>\n      <td>15</td>\n      <td>2</td>\n      <td>2</td>\n      <td>4</td>\n      <td>2</td>\n      <td>6</td>\n      <td>52</td>\n      <td>0.634146</td>\n      <td>True</td>\n      <td>False</td>\n      <td>True</td>\n    </tr>\n    <tr>\n      <th>18</th>\n      <td>20</td>\n      <td>4</td>\n      <td>3</td>\n      <td>5</td>\n      <td>3</td>\n      <td>11</td>\n      <td>4</td>\n      <td>50</td>\n      <td>0.609756</td>\n      <td>True</td>\n      <td>False</td>\n      <td>True</td>\n    </tr>\n    <tr>\n      <th>24</th>\n      <td>20</td>\n      <td>2</td>\n      <td>7</td>\n      <td>5</td>\n      <td>3</td>\n      <td>11</td>\n      <td>2</td>\n      <td>50</td>\n      <td>0.609756</td>\n      <td>True</td>\n      <td>False</td>\n      <td>True</td>\n    </tr>\n    <tr>\n      <th>31</th>\n      <td>15</td>\n      <td>13</td>\n      <td>3</td>\n      <td>1</td>\n      <td>3</td>\n      <td>9</td>\n      <td>10</td>\n      <td>54</td>\n      <td>0.658537</td>\n      <td>True</td>\n      <td>False</td>\n      <td>True</td>\n    </tr>\n    <tr>\n      <th>36</th>\n      <td>22</td>\n      <td>9</td>\n      <td>6</td>\n      <td>6</td>\n      <td>1</td>\n      <td>4</td>\n      <td>8</td>\n      <td>56</td>\n      <td>0.682927</td>\n      <td>True</td>\n      <td>False</td>\n      <td>True</td>\n    </tr>\n    <tr>\n      <th>37</th>\n      <td>19</td>\n      <td>12</td>\n      <td>5</td>\n      <td>7</td>\n      <td>1</td>\n      <td>6</td>\n      <td>2</td>\n      <td>52</td>\n      <td>0.634146</td>\n      <td>True</td>\n      <td>False</td>\n      <td>True</td>\n    </tr>\n    <tr>\n      <th>39</th>\n      <td>4</td>\n      <td>16</td>\n      <td>2</td>\n      <td>4</td>\n      <td>6</td>\n      <td>9</td>\n      <td>8</td>\n      <td>49</td>\n      <td>0.597561</td>\n      <td>True</td>\n      <td>False</td>\n      <td>True</td>\n    </tr>\n    <tr>\n      <th>40</th>\n      <td>18</td>\n      <td>3</td>\n      <td>6</td>\n      <td>3</td>\n      <td>6</td>\n      <td>5</td>\n      <td>6</td>\n      <td>47</td>\n      <td>0.573171</td>\n      <td>True</td>\n      <td>False</td>\n      <td>True</td>\n    </tr>\n    <tr>\n      <th>42</th>\n      <td>20</td>\n      <td>6</td>\n      <td>7</td>\n      <td>7</td>\n      <td>2</td>\n      <td>3</td>\n      <td>3</td>\n      <td>48</td>\n      <td>0.585366</td>\n      <td>True</td>\n      <td>False</td>\n      <td>True</td>\n    </tr>\n    <tr>\n      <th>45</th>\n      <td>17</td>\n      <td>10</td>\n      <td>0</td>\n      <td>2</td>\n      <td>6</td>\n      <td>9</td>\n      <td>4</td>\n      <td>48</td>\n      <td>0.585366</td>\n      <td>True</td>\n      <td>False</td>\n      <td>True</td>\n    </tr>\n    <tr>\n      <th>48</th>\n      <td>17</td>\n      <td>6</td>\n      <td>0</td>\n      <td>7</td>\n      <td>5</td>\n      <td>9</td>\n      <td>11</td>\n      <td>55</td>\n      <td>0.670732</td>\n      <td>True</td>\n      <td>False</td>\n      <td>True</td>\n    </tr>\n    <tr>\n      <th>60</th>\n      <td>16</td>\n      <td>8</td>\n      <td>0</td>\n      <td>4</td>\n      <td>4</td>\n      <td>7</td>\n      <td>9</td>\n      <td>48</td>\n      <td>0.585366</td>\n      <td>True</td>\n      <td>False</td>\n      <td>True</td>\n    </tr>\n    <tr>\n      <th>62</th>\n      <td>17</td>\n      <td>6</td>\n      <td>2</td>\n      <td>4</td>\n      <td>7</td>\n      <td>1</td>\n      <td>9</td>\n      <td>46</td>\n      <td>0.560976</td>\n      <td>True</td>\n      <td>False</td>\n      <td>True</td>\n    </tr>\n    <tr>\n      <th>67</th>\n      <td>21</td>\n      <td>0</td>\n      <td>7</td>\n      <td>2</td>\n      <td>4</td>\n      <td>2</td>\n      <td>10</td>\n      <td>46</td>\n      <td>0.560976</td>\n      <td>True</td>\n      <td>False</td>\n      <td>True</td>\n    </tr>\n    <tr>\n      <th>70</th>\n      <td>21</td>\n      <td>14</td>\n      <td>0</td>\n      <td>3</td>\n      <td>5</td>\n      <td>11</td>\n      <td>8</td>\n      <td>62</td>\n      <td>0.756098</td>\n      <td>True</td>\n      <td>False</td>\n      <td>True</td>\n    </tr>\n    <tr>\n      <th>71</th>\n      <td>17</td>\n      <td>8</td>\n      <td>7</td>\n      <td>6</td>\n      <td>4</td>\n      <td>2</td>\n      <td>9</td>\n      <td>53</td>\n      <td>0.646341</td>\n      <td>True</td>\n      <td>False</td>\n      <td>True</td>\n    </tr>\n    <tr>\n      <th>77</th>\n      <td>15</td>\n      <td>2</td>\n      <td>5</td>\n      <td>7</td>\n      <td>6</td>\n      <td>11</td>\n      <td>7</td>\n      <td>53</td>\n      <td>0.646341</td>\n      <td>True</td>\n      <td>False</td>\n      <td>True</td>\n    </tr>\n    <tr>\n      <th>78</th>\n      <td>14</td>\n      <td>16</td>\n      <td>7</td>\n      <td>2</td>\n      <td>7</td>\n      <td>11</td>\n      <td>9</td>\n      <td>66</td>\n      <td>0.804878</td>\n      <td>True</td>\n      <td>False</td>\n      <td>True</td>\n    </tr>\n    <tr>\n      <th>81</th>\n      <td>22</td>\n      <td>16</td>\n      <td>2</td>\n      <td>0</td>\n      <td>4</td>\n      <td>1</td>\n      <td>10</td>\n      <td>55</td>\n      <td>0.670732</td>\n      <td>True</td>\n      <td>False</td>\n      <td>True</td>\n    </tr>\n    <tr>\n      <th>88</th>\n      <td>20</td>\n      <td>1</td>\n      <td>1</td>\n      <td>5</td>\n      <td>7</td>\n      <td>9</td>\n      <td>7</td>\n      <td>50</td>\n      <td>0.609756</td>\n      <td>True</td>\n      <td>False</td>\n      <td>True</td>\n    </tr>\n    <tr>\n      <th>93</th>\n      <td>12</td>\n      <td>16</td>\n      <td>5</td>\n      <td>5</td>\n      <td>6</td>\n      <td>6</td>\n      <td>6</td>\n      <td>56</td>\n      <td>0.682927</td>\n      <td>True</td>\n      <td>False</td>\n      <td>True</td>\n    </tr>\n  </tbody>\n</table>\n</div>"
     },
     "execution_count": 95,
     "metadata": {},
     "output_type": "execute_result"
    }
   ],
   "source": [
    "# Aprovados para a 2a fase\n",
    "df_fase2 = df_totals[df_totals.Fase2 == True]\n",
    "df_fase2"
   ],
   "metadata": {
    "collapsed": false
   }
  },
  {
   "cell_type": "markdown",
   "metadata": {},
   "source": [
    "## 3) Vacinações no Acre\n",
    "Vamos trabalhar agora com a base de vacinações no Acre. Para facilitar a sua vida, copiamos o link do arquivo na célula abaixo.\n",
    "\n",
    "1. Quantas vacinas estão registradas nessa base?  \n",
    "2. Quantos pacientes foram vacinados? (considere um paciente para cada valor único de ```paciente_id```)  \n",
    "3. Quantos pacientes únicos tomaram a primeira dose? OBS: Há um caractere especial neste campo. Receba os valores do campo com o método ```.unique()```.   \n",
    "4. Quantos pacientes com menos de 18 anos foram vacinados?  \n",
    "5. Quantos estabelecimentos aplicaram vacina no Acre?\n",
    "\n",
    "\n",
    "**OBS:** O portal do DATASUS pode apresentar instabilidades, retornando um erro na segunda célula abaixo. Por este motivo está disponível uma base estática, que se for baixada para o seu *working directory* pode ser lida com este comando: ```df = pd.read_csv('registros de vacinacao covid ACRE.csv', sep=';')```.\n",
    "\n",
    "**OBS2:** Para saber qual é o seu working directory, rode no jupyter: ```!pwd```."
   ]
  },
  {
   "cell_type": "code",
   "execution_count": 99,
   "metadata": {},
   "outputs": [],
   "source": [
    "# arquivo = 'https://s3-sa-east-1.amazonaws.com/ckan.saude.gov.br/PNI/vacina/uf/2021-05-23/uf%3DAC/part-00000-63e5bee2-3684-4286-b709-7fe85483b04e.c000.csv'\n",
    "\n",
    "arquivo = 'E:/myArchive/7 EBAC/modulo-4-IntroPandas/registros de vacinacao covid ACRE.csv'"
   ]
  },
  {
   "cell_type": "code",
   "execution_count": 100,
   "metadata": {},
   "outputs": [
    {
     "data": {
      "text/plain": "                                 document_id   \n0  b19cd280-474c-4c22-a35d-8c06bc04a4e0-i0b0  \\\n1  a1acc0b6-1cf6-4c4b-adcb-06b473a0faaf-i0b0   \n2  af279a98-ba1f-47ea-8214-314a98040b0d-i0b0   \n3  4879308e-5050-46bb-b8e2-11fa5646a05c-i0b0   \n4  000e911b-e3a4-4114-a735-d1f2e6e3797f-i0b0   \n\n                                         paciente_id  paciente_idade   \n0  2e091c9a37d3f50d1d705fc80c6448c6fc69b44da9e936...              69  \\\n1  f4e17a9e5354cb45e223d85eda02fb2f76048c801675f5...              81   \n2  6734b26bccf826130ebffa66575977bbe71477b12bcf42...              69   \n3  84a341fd350c1ba7117fccbb4d2df417bc0fac0fffac37...              51   \n4  c59571e19f368d4b0cf08cd3bcabb32e5cd8baad5340f6...              65   \n\n  paciente_datanascimento paciente_enumsexobiologico  paciente_racacor_codigo   \n0              1951-12-28                          F                        3  \\\n1              1939-11-22                          M                        3   \n2              1951-08-14                          M                        4   \n3              1969-12-15                          F                        3   \n4              1955-11-21                          M                        3   \n\n  paciente_racacor_valor  paciente_endereco_coibgemunicipio   \n0                  PARDA                           120050.0  \\\n1                  PARDA                           120040.0   \n2                AMARELA                           120020.0   \n3                  PARDA                           120040.0   \n4                  PARDA                           120040.0   \n\n   paciente_endereco_copais paciente_endereco_nmmunicipio  ...   vacina_lote   \n0                      10.0                SENA MADUREIRA  ...       210052A  \\\n1                      10.0                    RIO BRANCO  ...        210110   \n2                      10.0               CRUZEIRO DO SUL  ...        210135   \n3                      10.0                    RIO BRANCO  ...     202010040   \n4                      10.0                    RIO BRANCO  ...  212VCD001ZVB   \n\n  vacina_fabricante_nome  vacina_fabricante_referencia vacina_dataaplicacao   \n0      FUNDACAO BUTANTAN   Organization/61189445000156           2021-03-23  \\\n1      FUNDACAO BUTANTAN   Organization/61189445000156           2021-04-29   \n2      FUNDACAO BUTANTAN   Organization/61189445000156           2021-04-16   \n3      FUNDACAO BUTANTAN   Organization/61189445000156           2021-02-19   \n4  FUNDACAO OSWALDO CRUZ   Organization/33781055000135           2021-03-29   \n\n   vacina_descricao_dose vacina_codigo                          vacina_nome   \n0                1ª Dose            86  Covid-19-Coronavac-Sinovac/Butantan  \\\n1                2ª Dose            86  Covid-19-Coronavac-Sinovac/Butantan   \n2                1ª Dose            86  Covid-19-Coronavac-Sinovac/Butantan   \n3                2ª Dose            86  Covid-19-Coronavac-Sinovac/Butantan   \n4                1ª Dose            85         Vacina Covid-19 - Covishield   \n\n   sistema_origem      data_importacao_rnds id_sistema_origem  \n0        Novo PNI  2021-03-25T03:27:19.000Z               NaN  \n1        Novo PNI  2021-04-30T16:03:14.000Z               NaN  \n2        Novo PNI  2021-04-16T15:54:39.000Z               NaN  \n3        Novo PNI  2021-03-10T14:40:54.000Z               NaN  \n4        Novo PNI  2021-04-03T19:44:28.000Z               NaN  \n\n[5 rows x 34 columns]",
      "text/html": "<div>\n<style scoped>\n    .dataframe tbody tr th:only-of-type {\n        vertical-align: middle;\n    }\n\n    .dataframe tbody tr th {\n        vertical-align: top;\n    }\n\n    .dataframe thead th {\n        text-align: right;\n    }\n</style>\n<table border=\"1\" class=\"dataframe\">\n  <thead>\n    <tr style=\"text-align: right;\">\n      <th></th>\n      <th>document_id</th>\n      <th>paciente_id</th>\n      <th>paciente_idade</th>\n      <th>paciente_datanascimento</th>\n      <th>paciente_enumsexobiologico</th>\n      <th>paciente_racacor_codigo</th>\n      <th>paciente_racacor_valor</th>\n      <th>paciente_endereco_coibgemunicipio</th>\n      <th>paciente_endereco_copais</th>\n      <th>paciente_endereco_nmmunicipio</th>\n      <th>...</th>\n      <th>vacina_lote</th>\n      <th>vacina_fabricante_nome</th>\n      <th>vacina_fabricante_referencia</th>\n      <th>vacina_dataaplicacao</th>\n      <th>vacina_descricao_dose</th>\n      <th>vacina_codigo</th>\n      <th>vacina_nome</th>\n      <th>sistema_origem</th>\n      <th>data_importacao_rnds</th>\n      <th>id_sistema_origem</th>\n    </tr>\n  </thead>\n  <tbody>\n    <tr>\n      <th>0</th>\n      <td>b19cd280-474c-4c22-a35d-8c06bc04a4e0-i0b0</td>\n      <td>2e091c9a37d3f50d1d705fc80c6448c6fc69b44da9e936...</td>\n      <td>69</td>\n      <td>1951-12-28</td>\n      <td>F</td>\n      <td>3</td>\n      <td>PARDA</td>\n      <td>120050.0</td>\n      <td>10.0</td>\n      <td>SENA MADUREIRA</td>\n      <td>...</td>\n      <td>210052A</td>\n      <td>FUNDACAO BUTANTAN</td>\n      <td>Organization/61189445000156</td>\n      <td>2021-03-23</td>\n      <td>1ª Dose</td>\n      <td>86</td>\n      <td>Covid-19-Coronavac-Sinovac/Butantan</td>\n      <td>Novo PNI</td>\n      <td>2021-03-25T03:27:19.000Z</td>\n      <td>NaN</td>\n    </tr>\n    <tr>\n      <th>1</th>\n      <td>a1acc0b6-1cf6-4c4b-adcb-06b473a0faaf-i0b0</td>\n      <td>f4e17a9e5354cb45e223d85eda02fb2f76048c801675f5...</td>\n      <td>81</td>\n      <td>1939-11-22</td>\n      <td>M</td>\n      <td>3</td>\n      <td>PARDA</td>\n      <td>120040.0</td>\n      <td>10.0</td>\n      <td>RIO BRANCO</td>\n      <td>...</td>\n      <td>210110</td>\n      <td>FUNDACAO BUTANTAN</td>\n      <td>Organization/61189445000156</td>\n      <td>2021-04-29</td>\n      <td>2ª Dose</td>\n      <td>86</td>\n      <td>Covid-19-Coronavac-Sinovac/Butantan</td>\n      <td>Novo PNI</td>\n      <td>2021-04-30T16:03:14.000Z</td>\n      <td>NaN</td>\n    </tr>\n    <tr>\n      <th>2</th>\n      <td>af279a98-ba1f-47ea-8214-314a98040b0d-i0b0</td>\n      <td>6734b26bccf826130ebffa66575977bbe71477b12bcf42...</td>\n      <td>69</td>\n      <td>1951-08-14</td>\n      <td>M</td>\n      <td>4</td>\n      <td>AMARELA</td>\n      <td>120020.0</td>\n      <td>10.0</td>\n      <td>CRUZEIRO DO SUL</td>\n      <td>...</td>\n      <td>210135</td>\n      <td>FUNDACAO BUTANTAN</td>\n      <td>Organization/61189445000156</td>\n      <td>2021-04-16</td>\n      <td>1ª Dose</td>\n      <td>86</td>\n      <td>Covid-19-Coronavac-Sinovac/Butantan</td>\n      <td>Novo PNI</td>\n      <td>2021-04-16T15:54:39.000Z</td>\n      <td>NaN</td>\n    </tr>\n    <tr>\n      <th>3</th>\n      <td>4879308e-5050-46bb-b8e2-11fa5646a05c-i0b0</td>\n      <td>84a341fd350c1ba7117fccbb4d2df417bc0fac0fffac37...</td>\n      <td>51</td>\n      <td>1969-12-15</td>\n      <td>F</td>\n      <td>3</td>\n      <td>PARDA</td>\n      <td>120040.0</td>\n      <td>10.0</td>\n      <td>RIO BRANCO</td>\n      <td>...</td>\n      <td>202010040</td>\n      <td>FUNDACAO BUTANTAN</td>\n      <td>Organization/61189445000156</td>\n      <td>2021-02-19</td>\n      <td>2ª Dose</td>\n      <td>86</td>\n      <td>Covid-19-Coronavac-Sinovac/Butantan</td>\n      <td>Novo PNI</td>\n      <td>2021-03-10T14:40:54.000Z</td>\n      <td>NaN</td>\n    </tr>\n    <tr>\n      <th>4</th>\n      <td>000e911b-e3a4-4114-a735-d1f2e6e3797f-i0b0</td>\n      <td>c59571e19f368d4b0cf08cd3bcabb32e5cd8baad5340f6...</td>\n      <td>65</td>\n      <td>1955-11-21</td>\n      <td>M</td>\n      <td>3</td>\n      <td>PARDA</td>\n      <td>120040.0</td>\n      <td>10.0</td>\n      <td>RIO BRANCO</td>\n      <td>...</td>\n      <td>212VCD001ZVB</td>\n      <td>FUNDACAO OSWALDO CRUZ</td>\n      <td>Organization/33781055000135</td>\n      <td>2021-03-29</td>\n      <td>1ª Dose</td>\n      <td>85</td>\n      <td>Vacina Covid-19 - Covishield</td>\n      <td>Novo PNI</td>\n      <td>2021-04-03T19:44:28.000Z</td>\n      <td>NaN</td>\n    </tr>\n  </tbody>\n</table>\n<p>5 rows × 34 columns</p>\n</div>"
     },
     "execution_count": 100,
     "metadata": {},
     "output_type": "execute_result"
    }
   ],
   "source": [
    "df = pd.read_csv(arquivo, sep=';')\n",
    "df.head()"
   ]
  },
  {
   "cell_type": "code",
   "execution_count": 55,
   "metadata": {},
   "outputs": [
    {
     "data": {
      "text/plain": [
       "174191"
      ]
     },
     "execution_count": 55,
     "metadata": {},
     "output_type": "execute_result"
    }
   ],
   "source": [
    "# 1) Numero de vacinas registradas na base\n",
    "df.shape[0]"
   ]
  },
  {
   "cell_type": "code",
   "execution_count": 101,
   "metadata": {},
   "outputs": [
    {
     "data": {
      "text/plain": "120517"
     },
     "execution_count": 101,
     "metadata": {},
     "output_type": "execute_result"
    }
   ],
   "source": [
    "# 2) Quantos pacientes foram vacinados? (considere um paciente para cada valor único de paciente_id)\n",
    "df['paciente_id'].nunique()"
   ]
  },
  {
   "cell_type": "code",
   "execution_count": 106,
   "metadata": {},
   "outputs": [
    {
     "data": {
      "text/plain": "array(['\\xa0\\xa0\\xa0\\xa01ª\\xa0Dose', '\\xa0\\xa0\\xa0\\xa02ª\\xa0Dose',\n       '\\xa0\\xa0\\xa0\\xa0Dose\\xa0'], dtype=object)"
     },
     "execution_count": 106,
     "metadata": {},
     "output_type": "execute_result"
    }
   ],
   "source": [
    "# 3) Quantos pacientes únicos tomaram a primeira dose?\n",
    "primeira_dose = df['vacina_descricao_dose'].unique()\n",
    "primeira_dose"
   ]
  },
  {
   "cell_type": "code",
   "execution_count": 107,
   "outputs": [
    {
     "data": {
      "text/plain": "119713"
     },
     "execution_count": 107,
     "metadata": {},
     "output_type": "execute_result"
    }
   ],
   "source": [
    "df['paciente_id'].loc[df['vacina_descricao_dose'] == primeira_dose[0]].nunique()"
   ],
   "metadata": {
    "collapsed": false
   }
  },
  {
   "cell_type": "code",
   "execution_count": 108,
   "metadata": {},
   "outputs": [
    {
     "data": {
      "text/plain": "119713"
     },
     "execution_count": 108,
     "metadata": {},
     "output_type": "execute_result"
    }
   ],
   "source": [
    "# 3) (solução alternativa)\n",
    "primeira_dose = df['vacina_descricao_dose'].unique()[0]\n",
    "df_primeira_dose = df[df['vacina_descricao_dose'] == primeira_dose]\n",
    "df_primeira_dose['paciente_id'].nunique()"
   ]
  },
  {
   "cell_type": "code",
   "execution_count": 109,
   "metadata": {},
   "outputs": [
    {
     "data": {
      "text/plain": "47"
     },
     "execution_count": 109,
     "metadata": {},
     "output_type": "execute_result"
    }
   ],
   "source": [
    "# 4) Qauntos pacientes com menos de 18 anos foram vacinados?\n",
    "df_menor = df[df[\"paciente_idade\"]<18]\n",
    "df_menor['paciente_id'].nunique()"
   ]
  },
  {
   "cell_type": "code",
   "execution_count": 110,
   "metadata": {},
   "outputs": [
    {
     "data": {
      "text/plain": "42"
     },
     "execution_count": 110,
     "metadata": {},
     "output_type": "execute_result"
    }
   ],
   "source": [
    "# 5) Quantos estabelecimentos aplicaram vacina no Acre?\n",
    "df['estabelecimento_razaosocial'].nunique()"
   ]
  },
  {
   "cell_type": "markdown",
   "metadata": {},
   "source": [
    "## 4) Vacinação II\n",
    "Gere um *DataFrame* que contenha somente os estabelecimentos que aplicaram vcinas a menores de 18 anos. Nesse *DataFrame* devem conter somente os dados dos estabelecimentos, mais uma coluna sendo a quantidade de vacinas que o estabelecimento aplicou a menores de 18 anos.  \n",
    "  \n",
    "1. crie uma cópia do *DataFrame* original, contendo somente os registros de vacinas realizadas a menores de 18 anos.  \n",
    "2. crie uma lista das colunas desse *DataFrame* com o atributo de *DataFrame* **.columns()**  \n",
    "3. Nesse *DataFrame* faça uma contagem do campo ```vacina_categoria_nome```.\n",
    "3. a partir da lista de colunas, escolha somente aquelas que são referentes ao estabelecimento, faça uma lista com esses valores.  \n",
    "4. usando o método *.loc*, selecione somente essas variáveis  \n",
    "5. Aplique o método **.drop_duplicates** e crie uma lista com uma linha para cada estabelecimento, com os dados do estabelecimento  "
   ]
  },
  {
   "cell_type": "code",
   "execution_count": 111,
   "metadata": {},
   "outputs": [],
   "source": [
    "# 1) \n",
    "df_menor = df[df[\"paciente_idade\"]<18].copy()"
   ]
  },
  {
   "cell_type": "code",
   "execution_count": 112,
   "metadata": {},
   "outputs": [
    {
     "data": {
      "text/plain": "Index(['document_id', 'paciente_id', 'paciente_idade',\n       'paciente_datanascimento', 'paciente_enumsexobiologico',\n       'paciente_racacor_codigo', 'paciente_racacor_valor',\n       'paciente_endereco_coibgemunicipio', 'paciente_endereco_copais',\n       'paciente_endereco_nmmunicipio', 'paciente_endereco_nmpais',\n       'paciente_endereco_uf', 'paciente_endereco_cep',\n       'paciente_nacionalidade_enumnacionalidade', 'estabelecimento_valor',\n       'estabelecimento_razaosocial', 'estalecimento_nofantasia',\n       'estabelecimento_municipio_codigo', 'estabelecimento_municipio_nome',\n       'estabelecimento_uf', 'vacina_grupoatendimento_codigo',\n       'vacina_grupoatendimento_nome', 'vacina_categoria_codigo',\n       'vacina_categoria_nome', 'vacina_lote', 'vacina_fabricante_nome',\n       'vacina_fabricante_referencia', 'vacina_dataaplicacao',\n       'vacina_descricao_dose', 'vacina_codigo', 'vacina_nome',\n       'sistema_origem', 'data_importacao_rnds', 'id_sistema_origem'],\n      dtype='object')"
     },
     "execution_count": 112,
     "metadata": {},
     "output_type": "execute_result"
    }
   ],
   "source": [
    "# 2) \n",
    "df_menor.columns"
   ]
  },
  {
   "cell_type": "code",
   "execution_count": 113,
   "metadata": {},
   "outputs": [
    {
     "data": {
      "text/plain": "vacina_categoria_nome\nPovos Indígenas                     33\nTrabalhadores de Saúde               9\nPovos e Comunidades Tradicionais     9\nComorbidades                         2\nFaixa Etária                         1\nName: count, dtype: int64"
     },
     "execution_count": 113,
     "metadata": {},
     "output_type": "execute_result"
    }
   ],
   "source": [
    "# 3)\n",
    "df_menor['vacina_categoria_nome'].value_counts()"
   ]
  },
  {
   "cell_type": "code",
   "execution_count": 116,
   "metadata": {},
   "outputs": [
    {
     "data": {
      "text/plain": "       estabelecimento_valor   \n1567                 2001314  \\\n6250                 6917291   \n9569                 6159087   \n11338                2000040   \n15144                7625855   \n\n                             estabelecimento_razaosocial   \n1567              PREFEITURA MUNICIPAL DE EPITACIOLANDIA  \\\n6250                  PREFEITURA MUNICIPAL DE RIO BRANCO   \n9569             PREFEITURA MUNICIPAL DE CRUZEIRO DO SUL   \n11338                      PREFEITURA MUNICIPAL DE FEIJO   \n15144  DISTRITO SANITARIO ESPECIAL INDIGENA ALTO RIO ...   \n\n                                estalecimento_nofantasia   \n1567                             ESF JOAO ALVES DA SILVA  \\\n6250   DEPARTAMENTO DE VIGILANCIA EPIDEMIOLOGICA E AM...   \n9569    SECRETARIA MUNICIPAL DE SAUDE DE CRUZEIRO DO SUL   \n11338                  CENTRO DE SAUDE DIAMANTINO MACEDO   \n15144                  POLO BASE DE MARECHAL THAUMATURGO   \n\n       estabelecimento_municipio_codigo estabelecimento_municipio_nome   \n1567                             120025                 EPITACIOLANDIA  \\\n6250                             120040                     RIO BRANCO   \n9569                             120020                CRUZEIRO DO SUL   \n11338                            120030                          FEIJO   \n15144                            120035           MARECHAL THAUMATURGO   \n\n      estabelecimento_uf  \n1567                  AC  \n6250                  AC  \n9569                  AC  \n11338                 AC  \n15144                 AC  ",
      "text/html": "<div>\n<style scoped>\n    .dataframe tbody tr th:only-of-type {\n        vertical-align: middle;\n    }\n\n    .dataframe tbody tr th {\n        vertical-align: top;\n    }\n\n    .dataframe thead th {\n        text-align: right;\n    }\n</style>\n<table border=\"1\" class=\"dataframe\">\n  <thead>\n    <tr style=\"text-align: right;\">\n      <th></th>\n      <th>estabelecimento_valor</th>\n      <th>estabelecimento_razaosocial</th>\n      <th>estalecimento_nofantasia</th>\n      <th>estabelecimento_municipio_codigo</th>\n      <th>estabelecimento_municipio_nome</th>\n      <th>estabelecimento_uf</th>\n    </tr>\n  </thead>\n  <tbody>\n    <tr>\n      <th>1567</th>\n      <td>2001314</td>\n      <td>PREFEITURA MUNICIPAL DE EPITACIOLANDIA</td>\n      <td>ESF JOAO ALVES DA SILVA</td>\n      <td>120025</td>\n      <td>EPITACIOLANDIA</td>\n      <td>AC</td>\n    </tr>\n    <tr>\n      <th>6250</th>\n      <td>6917291</td>\n      <td>PREFEITURA MUNICIPAL DE RIO BRANCO</td>\n      <td>DEPARTAMENTO DE VIGILANCIA EPIDEMIOLOGICA E AM...</td>\n      <td>120040</td>\n      <td>RIO BRANCO</td>\n      <td>AC</td>\n    </tr>\n    <tr>\n      <th>9569</th>\n      <td>6159087</td>\n      <td>PREFEITURA MUNICIPAL DE CRUZEIRO DO SUL</td>\n      <td>SECRETARIA MUNICIPAL DE SAUDE DE CRUZEIRO DO SUL</td>\n      <td>120020</td>\n      <td>CRUZEIRO DO SUL</td>\n      <td>AC</td>\n    </tr>\n    <tr>\n      <th>11338</th>\n      <td>2000040</td>\n      <td>PREFEITURA MUNICIPAL DE FEIJO</td>\n      <td>CENTRO DE SAUDE DIAMANTINO MACEDO</td>\n      <td>120030</td>\n      <td>FEIJO</td>\n      <td>AC</td>\n    </tr>\n    <tr>\n      <th>15144</th>\n      <td>7625855</td>\n      <td>DISTRITO SANITARIO ESPECIAL INDIGENA ALTO RIO ...</td>\n      <td>POLO BASE DE MARECHAL THAUMATURGO</td>\n      <td>120035</td>\n      <td>MARECHAL THAUMATURGO</td>\n      <td>AC</td>\n    </tr>\n  </tbody>\n</table>\n</div>"
     },
     "execution_count": 116,
     "metadata": {},
     "output_type": "execute_result"
    }
   ],
   "source": [
    "# 4)\n",
    "lista_variaveis = ['estabelecimento_valor',\n",
    "       'estabelecimento_razaosocial', 'estalecimento_nofantasia',\n",
    "       'estabelecimento_municipio_codigo', 'estabelecimento_municipio_nome',\n",
    "       'estabelecimento_uf']\n",
    "df_menor_lista = df_menor.loc[:,lista_variaveis]\n",
    "df_menor_lista.head()"
   ]
  },
  {
   "cell_type": "code",
   "execution_count": 117,
   "metadata": {},
   "outputs": [
    {
     "data": {
      "text/plain": "(18, 6)"
     },
     "execution_count": 117,
     "metadata": {},
     "output_type": "execute_result"
    }
   ],
   "source": [
    "# 5)\n",
    "df_menor_lista = df_menor_lista.drop_duplicates()\n",
    "df_menor_lista.shape"
   ]
  }
 ],
 "metadata": {
  "kernelspec": {
   "display_name": "Python 3",
   "language": "python",
   "name": "python3"
  },
  "language_info": {
   "codemirror_mode": {
    "name": "ipython",
    "version": 3
   },
   "file_extension": ".py",
   "mimetype": "text/x-python",
   "name": "python",
   "nbconvert_exporter": "python",
   "pygments_lexer": "ipython3",
   "version": "3.8.5"
  },
  "toc": {
   "base_numbering": 1,
   "nav_menu": {},
   "number_sections": false,
   "sideBar": true,
   "skip_h1_title": true,
   "title_cell": "Índice",
   "title_sidebar": "Conteúdo",
   "toc_cell": false,
   "toc_position": {},
   "toc_section_display": true,
   "toc_window_display": false
  },
  "varInspector": {
   "cols": {
    "lenName": 16,
    "lenType": 16,
    "lenVar": 40
   },
   "kernels_config": {
    "python": {
     "delete_cmd_postfix": "",
     "delete_cmd_prefix": "del ",
     "library": "var_list.py",
     "varRefreshCmd": "print(var_dic_list())"
    },
    "r": {
     "delete_cmd_postfix": ") ",
     "delete_cmd_prefix": "rm(",
     "library": "var_list.r",
     "varRefreshCmd": "cat(var_dic_list()) "
    }
   },
   "types_to_exclude": [
    "module",
    "function",
    "builtin_function_or_method",
    "instance",
    "_Feature"
   ],
   "window_display": false
  }
 },
 "nbformat": 4,
 "nbformat_minor": 4
}
