{
 "nbformat": 4,
 "nbformat_minor": 0,
 "metadata": {
  "colab": {
   "name": "modulo_5_exercicios.ipynb",
   "provenance": [],
   "collapsed_sections": []
  },
  "kernelspec": {
   "name": "python3",
   "display_name": "Python 3"
  }
 },
 "cells": [
  {
   "cell_type": "markdown",
   "metadata": {
    "id": "KJqp9AANOCtf"
   },
   "source": [
    "<img src=\"https://raw.githubusercontent.com/andre-marcos-perez/ebac-course-utils/main/media/logo/newebac_logo_black_half.png\" alt=\"ebac-logo\">\n",
    "\n",
    "---\n",
    "\n",
    "# **Módulo** | Python: Programação Funcional\n",
    "Caderno de **Exercícios**<br> \n",
    "Professor [André Perez](https://www.linkedin.com/in/andremarcosperez/)\n",
    "\n",
    "---"
   ]
  },
  {
   "cell_type": "markdown",
   "metadata": {
    "id": "d9jDtUbDOE1-"
   },
   "source": [
    "# **Tópicos**\n",
    "\n",
    "<ol type=\"1\">\n",
    "  <li>Função lambda;</li>\n",
    "  <li>Função map;</li>\n",
    "  <li>Função filter;</li>\n",
    "  <li>Função reduce.</li>\n",
    "</ol>"
   ]
  },
  {
   "cell_type": "markdown",
   "metadata": {
    "id": "SmoHgt-lwkpD"
   },
   "source": [
    "---"
   ]
  },
  {
   "cell_type": "markdown",
   "metadata": {
    "id": "GABI6OW8OfQ2"
   },
   "source": [
    "# **Exercícios**"
   ]
  },
  {
   "cell_type": "markdown",
   "metadata": {
    "id": "muD1vxozykSC"
   },
   "source": [
    "## 0\\. Preparação do ambiente "
   ]
  },
  {
   "cell_type": "markdown",
   "metadata": {
    "id": "ahrFfCuBxJKs"
   },
   "source": [
    "Neste exercício vamos trabalhar com o arquivo csv com dados de crédito, definido abaixo. Execute cada uma das células de código para escrever os arquivos na sua máquina virtual."
   ]
  },
  {
   "cell_type": "code",
   "metadata": {
    "id": "Kjt3HvFX7C3A",
    "colab": {
     "base_uri": "https://localhost:8080/"
    },
    "outputId": "8c2fc0c8-4aaf-4e4e-80da-63a033ab6517"
   },
   "source": [
    "%%writefile credito.csv\n",
    "id_vendedor,valor_emprestimos,quantidade_emprestimos,data\n",
    "104271,448.0,1,20161208\n",
    "21476,826.7,3,20161208\n",
    "87440,313.6,3,20161208\n",
    "15980,-8008.0,6,20161208\n",
    "215906,2212.0,5,20161208\n",
    "33696,2771.3,2,20161208\n",
    "33893,2240.0,3,20161208\n",
    "214946,-4151.0,18,20161208\n",
    "123974,2021.95,2,20161208\n",
    "225870,4039.0,2,20161208"
   ],
   "execution_count": 1,
   "outputs": [
    {
     "name": "stdout",
     "output_type": "stream",
     "text": [
      "Writing credito.csv\n"
     ]
    }
   ]
  },
  {
   "cell_type": "markdown",
   "metadata": {
    "id": "tnhM9v2X7yGS"
   },
   "source": [
    "Vamos ler o conteúdo do arquivo em uma lista onde cada elemento é um dicionário representando as linhas do arquivo."
   ]
  },
  {
   "cell_type": "code",
   "metadata": {
    "id": "T00Y_WIh7uPU"
   },
   "source": [
    "emprestimos = []\n",
    "with open(file='./credito.csv', mode='r', encoding='utf8') as fp:\n",
    "  fp.readline() # cabeçalho\n",
    "  linha = fp.readline()\n",
    "  while linha:\n",
    "    linha_emprestimo = {}\n",
    "    linha_elementos = linha.strip().split(sep=',')\n",
    "    linha_emprestimo['id_vendedor'] = linha_elementos[0]\n",
    "    linha_emprestimo['valor_emprestimos'] = linha_elementos[1]\n",
    "    linha_emprestimo['quantidade_emprestimos'] = linha_elementos[2]\n",
    "    linha_emprestimo['data'] = linha_elementos[3]\n",
    "    emprestimos.append(linha_emprestimo)\n",
    "    linha = fp.readline()"
   ],
   "execution_count": 2,
   "outputs": []
  },
  {
   "cell_type": "code",
   "metadata": {
    "id": "Bp0ZgdTM84bw",
    "colab": {
     "base_uri": "https://localhost:8080/"
    },
    "outputId": "f18afc6e-9cd3-49c8-b1f3-77e6fcfc5a0d"
   },
   "source": [
    "for emprestimo in emprestimos:\n",
    "  print(emprestimo)"
   ],
   "execution_count": 3,
   "outputs": [
    {
     "name": "stdout",
     "output_type": "stream",
     "text": [
      "{'id_vendedor': '104271', 'valor_emprestimos': '448.0', 'quantidade_emprestimos': '1', 'data': '20161208'}\n",
      "{'id_vendedor': '21476', 'valor_emprestimos': '826.7', 'quantidade_emprestimos': '3', 'data': '20161208'}\n",
      "{'id_vendedor': '87440', 'valor_emprestimos': '313.6', 'quantidade_emprestimos': '3', 'data': '20161208'}\n",
      "{'id_vendedor': '15980', 'valor_emprestimos': '-8008.0', 'quantidade_emprestimos': '6', 'data': '20161208'}\n",
      "{'id_vendedor': '215906', 'valor_emprestimos': '2212.0', 'quantidade_emprestimos': '5', 'data': '20161208'}\n",
      "{'id_vendedor': '33696', 'valor_emprestimos': '2771.3', 'quantidade_emprestimos': '2', 'data': '20161208'}\n",
      "{'id_vendedor': '33893', 'valor_emprestimos': '2240.0', 'quantidade_emprestimos': '3', 'data': '20161208'}\n",
      "{'id_vendedor': '214946', 'valor_emprestimos': '-4151.0', 'quantidade_emprestimos': '18', 'data': '20161208'}\n",
      "{'id_vendedor': '123974', 'valor_emprestimos': '2021.95', 'quantidade_emprestimos': '2', 'data': '20161208'}\n",
      "{'id_vendedor': '225870', 'valor_emprestimos': '4039.0', 'quantidade_emprestimos': '2', 'data': '20161208'}\n"
     ]
    }
   ]
  },
  {
   "cell_type": "markdown",
   "metadata": {
    "id": "KI9zQRT2xa7m"
   },
   "source": [
    "## 1\\. Função `map`\n",
    "\n"
   ]
  },
  {
   "cell_type": "markdown",
   "metadata": {
    "id": "U63MjM7H7o1Y"
   },
   "source": [
    "Aplique a função map na lista de `emprestimos` para extrair os valores da chave `valor_emprestimos` na lista `valor_emprestimos_lista`. Faça também a conversão de `str` para `float`."
   ]
  },
  {
   "cell_type": "code",
   "metadata": {
    "id": "-yAW4PJh9h7a"
   },
   "source": [
    "valor_emprestimos_lista = list(map(lambda X: float(X.get('valor_emprestimos')), emprestimos))"
   ],
   "execution_count": 4,
   "outputs": []
  },
  {
   "cell_type": "code",
   "metadata": {
    "id": "MQUvYdzJ9ndC",
    "colab": {
     "base_uri": "https://localhost:8080/"
    },
    "outputId": "722b914b-0908-4435-8f0d-41d67efcf6b3"
   },
   "source": [
    "print(valor_emprestimos_lista) # [448.0, 826.7, ..., 4039.0]"
   ],
   "execution_count": 5,
   "outputs": [
    {
     "name": "stdout",
     "output_type": "stream",
     "text": [
      "[448.0, 826.7, 313.6, -8008.0, 2212.0, 2771.3, 2240.0, -4151.0, 2021.95, 4039.0]\n"
     ]
    }
   ]
  },
  {
   "cell_type": "markdown",
   "metadata": {
    "id": "zMN1Q3jdwoJm"
   },
   "source": [
    "---"
   ]
  },
  {
   "cell_type": "markdown",
   "metadata": {
    "id": "WKHvMtFX_JKH"
   },
   "source": [
    "## 2\\. Função `filter`\n",
    "\n"
   ]
  },
  {
   "cell_type": "markdown",
   "metadata": {
    "id": "6V34N3Lf_gUM"
   },
   "source": [
    "Aplique a função filter na lista de `valor_emprestimos_lista` para filtrar apenas os valores maiores que zero (os valores negativas são erros na base de dados). Salve os valores na lista `valor_emprestimos_lista_filtrada`."
   ]
  },
  {
   "cell_type": "code",
   "metadata": {
    "id": "3y7Vmm0yACuk"
   },
   "source": [
    "valor_emprestimos_lista_filtrada = list(filter(lambda x: x > 0, valor_emprestimos_lista))"
   ],
   "execution_count": 6,
   "outputs": []
  },
  {
   "cell_type": "code",
   "metadata": {
    "id": "socxMS6NADsM",
    "colab": {
     "base_uri": "https://localhost:8080/"
    },
    "outputId": "1bae5458-bfbc-4f8c-ce57-a5690af5f94f"
   },
   "source": [
    "print(valor_emprestimos_lista_filtrada) # [448.0, 826.7, ..., 4039.0]"
   ],
   "execution_count": 7,
   "outputs": [
    {
     "name": "stdout",
     "output_type": "stream",
     "text": [
      "[448.0, 826.7, 313.6, 2212.0, 2771.3, 2240.0, 2021.95, 4039.0]\n"
     ]
    }
   ]
  },
  {
   "cell_type": "markdown",
   "metadata": {
    "id": "4yqCAVCo_Yp3"
   },
   "source": [
    "---"
   ]
  },
  {
   "cell_type": "markdown",
   "metadata": {
    "id": "s4TzfRxC_Yp4"
   },
   "source": [
    "## 3\\. Função `reduce`\n",
    "\n"
   ]
  },
  {
   "cell_type": "markdown",
   "metadata": {
    "id": "RwV4V7gDAWfJ"
   },
   "source": [
    "Com a nossa lista de valores de emprestimo pronta, vamos extrair algumas métricas."
   ]
  },
  {
   "cell_type": "markdown",
   "metadata": {
    "id": "zjXA6H0LAf1_"
   },
   "source": [
    "### 3\\.1\\. Função `reduce` para extrair a **soma**"
   ]
  },
  {
   "cell_type": "markdown",
   "metadata": {
    "id": "u1kxPpkUArKw"
   },
   "source": [
    "Aplique a função reduce para somar os elementos da lista `valor_emprestimos_lista_filtrada` na variavel `soma_valor_emprestimos`."
   ]
  },
  {
   "cell_type": "code",
   "metadata": {
    "id": "ptAFEVpMAr6_"
   },
   "source": [
    "from functools import reduce\n",
    "\n",
    "soma_valor_emprestimos = reduce(lambda a, b: a + b, valor_emprestimos_lista_filtrada)"
   ],
   "execution_count": 8,
   "outputs": []
  },
  {
   "cell_type": "code",
   "metadata": {
    "id": "fPosL2LZBDxz",
    "colab": {
     "base_uri": "https://localhost:8080/"
    },
    "outputId": "81e03663-4347-43da-a65e-4eb1d5d7680a"
   },
   "source": [
    "print(soma_valor_emprestimos) # 14872.550000000001"
   ],
   "execution_count": 9,
   "outputs": [
    {
     "name": "stdout",
     "output_type": "stream",
     "text": [
      "14872.550000000001\n"
     ]
    }
   ]
  },
  {
   "cell_type": "markdown",
   "metadata": {
    "id": "HMHZCN7gco3D"
   },
   "source": []
  },
  {
   "cell_type": "markdown",
   "metadata": {
    "id": "v8h9TkYqBLPn"
   },
   "source": [
    "### 3\\.2\\. Função `reduce` para extrair a **media aritimética**"
   ]
  },
  {
   "cell_type": "markdown",
   "metadata": {
    "id": "VXsNI53NBLPo"
   },
   "source": [
    "Aplique a função reduce para extrair a média aritimética (mais informações [aqui](https://pt.wikipedia.org/wiki/M%C3%A9dia#M%C3%A9dia_aritm%C3%A9tica)) dos elementos da lista `valor_emprestimos_lista_filtrada` na variavel `media_valor_emprestimos`."
   ]
  },
  {
   "cell_type": "code",
   "metadata": {
    "id": "qbWv8a2GBLPp"
   },
   "source": [
    "from functools import reduce\n",
    "\n",
    "MA = lambda X: 1 / len(X) * reduce(lambda a, b: (a + b), X)\n",
    "\n",
    "media_valor_emprestimos = MA(valor_emprestimos_lista_filtrada)"
   ],
   "execution_count": 10,
   "outputs": []
  },
  {
   "cell_type": "code",
   "metadata": {
    "id": "V-hh5hCKBLPr",
    "colab": {
     "base_uri": "https://localhost:8080/"
    },
    "outputId": "ba76098e-98fb-4a99-9947-4965ee3bfae4"
   },
   "source": [
    "print(media_valor_emprestimos) # 1859.0687500000001"
   ],
   "execution_count": 11,
   "outputs": [
    {
     "name": "stdout",
     "output_type": "stream",
     "text": [
      "1859.0687500000001\n"
     ]
    }
   ]
  },
  {
   "cell_type": "markdown",
   "metadata": {
    "id": "rCwM3DcJBeyB"
   },
   "source": [
    "### 3\\.3\\. (**Desafio**) Função `reduce` para extrair o **desvio padrão**"
   ]
  },
  {
   "cell_type": "markdown",
   "metadata": {
    "id": "jw3azoT_BeyC"
   },
   "source": [
    "Aplique a função reduce para extrair a média aritimética (mais informações [aqui](https://pt.wikipedia.org/wiki/M%C3%A9dia#M%C3%A9dia_aritm%C3%A9tica)) dos elementos da lista `valor_emprestimos_lista_filtrada` na variavel `desvio_padrao_valor_emprestimos`.\n",
    "\n"
   ]
  },
  {
   "cell_type": "markdown",
   "metadata": {
    "id": "zPr6eJN-imeH"
   },
   "source": [
    "O [**desvio padrão**](https://pt.wikipedia.org/wiki/Desvio_padr%C3%A3o), *i.e.,* a raiz quadrada da variância \n",
    "$\\sigma^2 = \\textrm{Var}[X]$, \n",
    "de uma variável aleatória discreta \n",
    "$X = \\{x_1, x_2, ..., x_N\\}$,\n",
    "para \n",
    "$p(x_i)=1/N$,\n",
    "é dada por\n",
    "$$\\sigma = \\sqrt{\\frac{1}{N} \\sum_{i=1}^N (x_i - \\mu)^2}$$\n",
    "onde $\\mu$ é o valor esperado (*i.e.,* o valor médio) \n",
    "$$\\mu = \\textrm{E}[X] = \\frac{1}{N} \\sum_{i=1}^N x_i$$\n",
    "A definição de desvio padrão acima é válida para toda a *população* de amostras o que dificilmente sabemos na prática. "
   ]
  },
  {
   "cell_type": "markdown",
   "metadata": {
    "id": "uJmPalFlcdYt"
   },
   "source": [
    "Matlab script:\n",
    "\n",
    "X = [448.0, 826.7, 313.6, 2212.0, 2771.3, 2240.0, 2021.95, 4039.0];\n",
    "\n",
    "N = length(X);\n",
    "\n",
    "mu = sum(X)/N;\n",
    "\n",
    "Mu = mu*ones(1,N);\n",
    "\n",
    "S = (X-Mu)*(X-Mu)';\n",
    "\n",
    "std = sqrt(S/N)\n",
    "\n",
    "     1.189844496388472e+03"
   ]
  },
  {
   "cell_type": "markdown",
   "metadata": {
    "id": "hEbmrBHhHoSC"
   },
   "source": [
    "Quando trabalhamos com uma amostragem da população, i.e., um subgrupo da população, a melhor estimativa do valor médio da população continua sendo o próprio valor médio amostral, isto é,\n",
    "$$\\hat{\\mu} \\equiv \\textrm{E}[X] \\simeq \\mu$$\n",
    "\n",
    "Entretanto, o desvio padrão da população estimado a partir do cálculo do desvio padrão *amostral* é dito *enviesado* uma vez que um grau de liberdade é perdido ao estimar o valor médio \n",
    "$\\hat{\\mu} = \\frac{1}{N} \\Sigma_{i=1} ^N x_i$\n",
    "\n",
    "O cálculo do desvio padrão estimado é então corregido por\n",
    "$$\\hat{\\sigma} = \\sqrt{\\frac{1}{N-1} \\sum_{i=1}^N (x_i - \\mu)^2}$$\n",
    "\n",
    "A divisão $(N-1)$ é conhecida como correção de Bessel e, para uma grande número de amostras de subconjunto, o desvio padrão estimado tende ao desvio padrão da população, isto é, \n",
    "\n",
    "$$\\lim_{n\\rightarrow\\infty} \\hat{\\sigma}[\\{x_i\\}_{i=1}^n] \\rightarrow \\sigma$$"
   ]
  },
  {
   "cell_type": "code",
   "metadata": {
    "id": "8HnNxp9mBeyD"
   },
   "source": [
    "from functools import reduce\n",
    "\n",
    "def STD(X: list):\n",
    "    N = len(X)\n",
    "    mu = 1/N * reduce(lambda a, b: (a + b), X) # calcula media\n",
    "    S = reduce(lambda a, b: (a + b), map(lambda x: (x-mu)**2, X)) # calcula soma dos quadrados\n",
    "    return (S/(N-1)) **0.5 # retorna a raiz quadrada do valor medio de (X-mu)^2\n",
    "\n",
    "desvio_padrao_valor_emprestimos = STD(valor_emprestimos_lista_filtrada)"
   ],
   "execution_count": 12,
   "outputs": []
  },
  {
   "cell_type": "code",
   "metadata": {
    "id": "3dDC-KRYBeyE",
    "colab": {
     "base_uri": "https://localhost:8080/"
    },
    "outputId": "f6f16014-ef86-428b-ca48-9c302914c77f"
   },
   "source": [
    "print(desvio_padrao_valor_emprestimos) # 1271.997271149785"
   ],
   "execution_count": 13,
   "outputs": [
    {
     "name": "stdout",
     "output_type": "stream",
     "text": [
      "1271.9972711497849\n"
     ]
    }
   ]
  },
  {
   "cell_type": "markdown",
   "metadata": {
    "id": "ai2mZYnG_b_s"
   },
   "source": [
    "---"
   ]
  }
 ]
}
