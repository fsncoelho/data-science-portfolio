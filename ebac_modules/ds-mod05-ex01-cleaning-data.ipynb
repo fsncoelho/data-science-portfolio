{
 "cells": [
  {
   "cell_type": "markdown",
   "metadata": {},
   "source": [
    "# Módulo 5 Tarefa 1\n",
    "## Base de nascidos vivos do DataSUS\n",
    "O DataSUS disponibiliza diversos arquivos de dados com relação a seus segurados, conforme a [lei da transparência de informações públicas](https://www.sisgov.com/transparencia-acesso-informacao/#:~:text=A%20Lei%20da%20Transpar%C3%AAncia%20(LC,em%20um%20site%20na%20internet.). \n",
    "\n",
    "Essas informações podem ser obtidas pela internet [aqui](http://www2.datasus.gov.br/DATASUS/index.php?area=0901&item=1). Como o processo de obtenção desses arquivos foge um pouco do nosso escopo, deixamos o arquivo SINASC_RO_2019.csv` já como vai ser encontrado no DataSUS. O dicionário de dados está no arquivo `estrutura_sinasc_para_CD.pdf` (o nome do arquivo tal qual no portal do DataSUS).\n",
    "\n",
    "### Nosso objetivo\n",
    "Queremos deixar uma base organizada para podermos estudar a relação entre partos com risco para o bebê e algumas condições como tempo de parto, consultas de pré-natal etc.\n",
    "\n",
    "#### Preparação da base\n",
    "1. Carregue a base 'SINASC_RO_2019.csv'. Conte o número de registros e o número de registros não duplicados da base. Dica: você aprendeu um método que remove duplicados, encadeie este método com um outro método que conta o número de linhas. **Há linhas duplicadas?**  \n",
    "\n",
    "2. Conte o número de valores *missing* por variável.  \n",
    "\n",
    "3. Ok, no item anterior você deve ter achado pouco prático ler a informação de tantas variáveis, muitas delas nem devem ser interesantes. Então crie uma seleção dessa base somente com as colunas que interessam. São elas:\n",
    "` \n",
    "['LOCNASC', 'IDADEMAE', 'ESTCIVMAE', 'ESCMAE', 'QTDFILVIVO', \n",
    "    'GESTACAO', 'GRAVIDEZ', 'CONSULTAS', 'APGAR5'] \n",
    "`\n",
    "Refaça a contagem de valores *missings*.  \n",
    "\n",
    "4. Apgar é uma *nota* que o pediatra dá ao bebê quando nasce de acordo com algumas características associadas principalmente à respiração. Apgar 1 e Apgar 5 são as notas 1 e 5 minutos do nascimento. Apgar5 será a nossa variável de interesse principal. Então remova todos os registros com Apgar5 não preenchido. Para esta seleção, conte novamente o número de linhas e o número de *missings*.  \n",
    "\n",
    "5. observe que as variáveis `['ESTCIVMAE', 'CONSULTAS']` possuem o código `9`, que significa *ignorado*. Vamos assumir que o não preenchido é o mesmo que o código `9`.<br>\n",
    "6. Substitua os valores faltantes da quantitativa (`QTDFILVIVO`) por zero.  \n",
    "7. Das restantes, decida que valore te parece mais adequado (um 'não preenchido' ou um valor 'mais provável' como no item anterior) e preencha. Justifique. Lembre-se de que tratamento de dados é trabalho do cientista, e que estamos tomando decisões a todo o momento - não há necessariamente certo e errado aqui.  \n",
    "8. O Apgar possui uma classificação indicando se o bebê passou por asfixia:\n",
    "- Entre 8 e 10 está em uma faixa 'normal'. \n",
    "- Entre 6 e 7, significa que o recém-nascido passou por 'asfixia leve'. \n",
    "- Entre 4 e 5 significa 'asfixia moderada'.\n",
    "- Entre 0 e 3 significa 'asfixia severa'.  \n",
    "\n",
    "Crie uma categorização dessa variável com essa codificação e calcule as frequências dessa categorização.  \n",
    "<br>\n",
    "9. Renomeie as variáveis para que fiquem no *snake case*, ou seja, em letras minúsculas, com um *underscore* entre as palávras. Dica: repare que se você não quiser criar um *dataframe* novo, você vai precisar usar a opção `inplace = True`."
   ]
  },
  {
   "cell_type": "code",
   "execution_count": 67,
   "metadata": {},
   "outputs": [
    {
     "name": "stdout",
     "output_type": "stream",
     "text": [
      "(27028, 69)\n",
      "27028 linhas, e 69 colunas.\n"
     ]
    }
   ],
   "source": [
    "import pandas as pd\n",
    "import requests\n",
    "\n",
    "# 1)\n",
    "sinasc = pd.read_csv('SINASC_RO_2019.csv')\n",
    "print(sinasc.shape)\n",
    "m, n = sinasc.drop_duplicates().shape\n",
    "print(f\"{m} linhas,\", f\"e {n} colunas.\")"
   ]
  },
  {
   "cell_type": "markdown",
   "source": [
    "> Não há linhas duplicadas"
   ],
   "metadata": {
    "collapsed": false
   }
  },
  {
   "cell_type": "code",
   "execution_count": 68,
   "metadata": {},
   "outputs": [
    {
     "name": "stdout",
     "output_type": "stream",
     "text": [
      "<class 'pandas.core.frame.DataFrame'>\n",
      "RangeIndex: 27028 entries, 0 to 27027\n",
      "Data columns (total 69 columns):\n",
      " #   Column        Non-Null Count  Dtype  \n",
      "---  ------        --------------  -----  \n",
      " 0   ORIGEM        27028 non-null  int64  \n",
      " 1   CODESTAB      26913 non-null  float64\n",
      " 2   CODMUNNASC    27028 non-null  int64  \n",
      " 3   LOCNASC       27028 non-null  int64  \n",
      " 4   IDADEMAE      27028 non-null  int64  \n",
      " 5   ESTCIVMAE     26711 non-null  float64\n",
      " 6   ESCMAE        26716 non-null  object \n",
      " 7   CODOCUPMAE    24121 non-null  float64\n",
      " 8   QTDFILVIVO    25455 non-null  float64\n",
      " 9   QTDFILMORT    24930 non-null  float64\n",
      " 10  CODMUNRES     27028 non-null  int64  \n",
      " 11  GESTACAO      25796 non-null  object \n",
      " 12  GRAVIDEZ      26949 non-null  object \n",
      " 13  PARTO         26979 non-null  object \n",
      " 14  CONSULTAS     27028 non-null  int64  \n",
      " 15  DTNASC        27028 non-null  object \n",
      " 16  HORANASC      27007 non-null  float64\n",
      " 17  SEXO          27024 non-null  object \n",
      " 18  APGAR1        26932 non-null  float64\n",
      " 19  APGAR5        26925 non-null  float64\n",
      " 20  RACACOR       26381 non-null  object \n",
      " 21  PESO          27028 non-null  int64  \n",
      " 22  IDANOMAL      26437 non-null  float64\n",
      " 23  DTCADASTRO    27028 non-null  object \n",
      " 24  CODANOMAL     214 non-null    object \n",
      " 25  NUMEROLOTE    27028 non-null  int64  \n",
      " 26  VERSAOSIST    27028 non-null  object \n",
      " 27  DTRECEBIM     27028 non-null  object \n",
      " 28  DIFDATA       27028 non-null  int64  \n",
      " 29  DTRECORIGA    0 non-null      float64\n",
      " 30  NATURALMAE    26730 non-null  float64\n",
      " 31  CODMUNNATU    26730 non-null  float64\n",
      " 32  CODUFNATU     26730 non-null  float64\n",
      " 33  ESCMAE2010    26779 non-null  float64\n",
      " 34  SERIESCMAE    14318 non-null  float64\n",
      " 35  DTNASCMAE     26988 non-null  float64\n",
      " 36  RACACORMAE    26367 non-null  float64\n",
      " 37  QTDGESTANT    25816 non-null  float64\n",
      " 38  QTDPARTNOR    25149 non-null  float64\n",
      " 39  QTDPARTCES    25237 non-null  float64\n",
      " 40  IDADEPAI      7607 non-null   float64\n",
      " 41  DTULTMENST    16956 non-null  float64\n",
      " 42  SEMAGESTAC    25790 non-null  float64\n",
      " 43  TPMETESTIM    25790 non-null  float64\n",
      " 44  CONSPRENAT    26098 non-null  float64\n",
      " 45  MESPRENAT     24161 non-null  float64\n",
      " 46  TPAPRESENT    26763 non-null  float64\n",
      " 47  STTRABPART    26081 non-null  float64\n",
      " 48  STCESPARTO    26281 non-null  float64\n",
      " 49  TPNASCASSI    26967 non-null  float64\n",
      " 50  TPFUNCRESP    26961 non-null  float64\n",
      " 51  TPDOCRESP     27014 non-null  float64\n",
      " 52  DTDECLARAC    26976 non-null  float64\n",
      " 53  ESCMAEAGR1    26779 non-null  float64\n",
      " 54  STDNEPIDEM    27028 non-null  int64  \n",
      " 55  STDNNOVA      27028 non-null  int64  \n",
      " 56  CODPAISRES    27028 non-null  int64  \n",
      " 57  TPROBSON      27028 non-null  int64  \n",
      " 58  PARIDADE      27028 non-null  int64  \n",
      " 59  KOTELCHUCK    27028 non-null  int64  \n",
      " 60  CONTADOR      27028 non-null  int64  \n",
      " 61  munResStatus  27028 non-null  object \n",
      " 62  munResTipo    27028 non-null  object \n",
      " 63  munResNome    27028 non-null  object \n",
      " 64  munResUf      27028 non-null  object \n",
      " 65  munResLat     27027 non-null  float64\n",
      " 66  munResLon     27027 non-null  float64\n",
      " 67  munResAlt     27027 non-null  float64\n",
      " 68  munResArea    27027 non-null  float64\n",
      "dtypes: float64(38), int64(16), object(15)\n",
      "memory usage: 14.2+ MB\n"
     ]
    }
   ],
   "source": [
    "sinasc.info(verbose=True)"
   ]
  },
  {
   "cell_type": "code",
   "execution_count": 69,
   "outputs": [
    {
     "data": {
      "text/plain": "ORIGEM          0\nCODESTAB      115\nCODMUNNASC      0\nLOCNASC         0\nIDADEMAE        0\n             ... \nmunResUf        0\nmunResLat       1\nmunResLon       1\nmunResAlt       1\nmunResArea      1\nLength: 69, dtype: int64"
     },
     "execution_count": 69,
     "metadata": {},
     "output_type": "execute_result"
    }
   ],
   "source": [
    "# 2) dados faltantes por variavel\n",
    "sinasc.isna().sum()"
   ],
   "metadata": {
    "collapsed": false
   }
  },
  {
   "cell_type": "code",
   "execution_count": 70,
   "metadata": {},
   "outputs": [
    {
     "data": {
      "text/plain": "LOCNASC          0\nIDADEMAE         0\nESTCIVMAE      317\nESCMAE         312\nQTDFILVIVO    1573\nGESTACAO      1232\nGRAVIDEZ        79\nCONSULTAS        0\nAPGAR5         103\ndtype: int64"
     },
     "execution_count": 70,
     "metadata": {},
     "output_type": "execute_result"
    }
   ],
   "source": [
    "# 3) seleciona colunas de interesse e conta dados faltantes\n",
    "filtro = [\"LOCNASC\",\"IDADEMAE\",\"ESTCIVMAE\",\"ESCMAE\",\"QTDFILVIVO\",\"GESTACAO\",\"GRAVIDEZ\",\"CONSULTAS\",\"APGAR5\"]\n",
    "sinasc_red = sinasc[filtro].copy()\n",
    "sinasc_red.isna().sum()"
   ]
  },
  {
   "cell_type": "code",
   "execution_count": 97,
   "metadata": {},
   "outputs": [
    {
     "data": {
      "text/plain": "LOCNASC          0\nIDADEMAE         0\nESTCIVMAE      315\nESCMAE         310\nQTDFILVIVO    1566\nGESTACAO      1216\nGRAVIDEZ        76\nCONSULTAS        0\nAPGAR5           0\ndtype: int64"
     },
     "execution_count": 97,
     "metadata": {},
     "output_type": "execute_result"
    }
   ],
   "source": [
    "# 4) extrair apenas APGAR5 preenchido\n",
    "sinasc_apgar5 = sinasc_red[~sinasc_red['APGAR5'].isna()].copy()\n",
    "sinasc_apgar5.isna().sum()"
   ]
  },
  {
   "cell_type": "code",
   "execution_count": 98,
   "metadata": {},
   "outputs": [
    {
     "name": "stdout",
     "output_type": "stream",
     "text": [
      "<class 'pandas.core.frame.DataFrame'>\n",
      "Index: 26925 entries, 0 to 27027\n",
      "Data columns (total 9 columns):\n",
      " #   Column      Non-Null Count  Dtype  \n",
      "---  ------      --------------  -----  \n",
      " 0   LOCNASC     26925 non-null  int64  \n",
      " 1   IDADEMAE    26925 non-null  int64  \n",
      " 2   ESTCIVMAE   26925 non-null  int64  \n",
      " 3   ESCMAE      26615 non-null  object \n",
      " 4   QTDFILVIVO  25359 non-null  float64\n",
      " 5   GESTACAO    25709 non-null  object \n",
      " 6   GRAVIDEZ    26849 non-null  object \n",
      " 7   CONSULTAS   26925 non-null  int64  \n",
      " 8   APGAR5      26925 non-null  float64\n",
      "dtypes: float64(2), int64(4), object(3)\n",
      "memory usage: 2.1+ MB\n"
     ]
    },
    {
     "data": {
      "text/plain": "LOCNASC          0\nIDADEMAE         0\nESTCIVMAE        0\nESCMAE         310\nQTDFILVIVO    1566\nGESTACAO      1216\nGRAVIDEZ        76\nCONSULTAS        0\nAPGAR5           0\ndtype: int64"
     },
     "execution_count": 98,
     "metadata": {},
     "output_type": "execute_result"
    }
   ],
   "source": [
    "# 5) seu código aqui\n",
    "# sinasc_apgar5[sinasc_apgar5['ESTCIVMAE'] == 9]\n",
    "# sinasc_apgar5[['ESTCIVMAE','CONSULTAS']].value_counts()\n",
    "sinasc_apgar5.ESTCIVMAE = sinasc_apgar5.ESTCIVMAE.fillna(9)\n",
    "sinasc_apgar5.CONSULTAS = sinasc_apgar5.CONSULTAS.fillna(9)\n",
    "sinasc_apgar5.ESTCIVMAE = sinasc_apgar5.ESTCIVMAE.astype('int64')\n",
    "sinasc_apgar5.CONSULTAS = sinasc_apgar5.CONSULTAS.astype('int64')\n",
    "\n",
    "sinasc_apgar5.info()\n",
    "sinasc_apgar5.isna().sum()"
   ]
  },
  {
   "cell_type": "code",
   "execution_count": 99,
   "metadata": {},
   "outputs": [
    {
     "data": {
      "text/plain": "LOCNASC          0\nIDADEMAE         0\nESTCIVMAE        0\nESCMAE         310\nQTDFILVIVO       0\nGESTACAO      1216\nGRAVIDEZ        76\nCONSULTAS        0\nAPGAR5           0\ndtype: int64"
     },
     "execution_count": 99,
     "metadata": {},
     "output_type": "execute_result"
    }
   ],
   "source": [
    "# 6) Seu código aqui\n",
    "sinasc_apgar5.QTDFILVIVO = sinasc_apgar5.QTDFILVIVO.fillna(0)\n",
    "sinasc_apgar5.isna().sum()"
   ]
  },
  {
   "cell_type": "code",
   "execution_count": 108,
   "metadata": {},
   "outputs": [],
   "source": [
    "# 7) seu código aqui\n",
    "sinasc_apgar5.ESCMAE = sinasc_apgar5.ESCMAE.fillna('Ignorado')\n",
    "sinasc_apgar5.GESTACAO = sinasc_apgar5.GESTACAO.fillna('Ignorado')\n",
    "sinasc_apgar5.GRAVIDEZ = sinasc_apgar5.GRAVIDEZ.fillna('Ignorado')"
   ]
  },
  {
   "cell_type": "code",
   "execution_count": 106,
   "outputs": [],
   "source": [
    "# mapp = sinasc_apgar5[\"ESCMAE\"].map({\n",
    "#     'Nenhuma':1,\n",
    "#     '1 a 3 anos':2,\n",
    "#     '4 a 7 anos':3,\n",
    "#     '8 a 11 anos':4,\n",
    "#     '12 anos ou mais':5,\n",
    "#     'Ignorado':9\n",
    "# })\n"
   ],
   "metadata": {
    "collapsed": false
   }
  },
  {
   "cell_type": "code",
   "execution_count": 110,
   "outputs": [
    {
     "data": {
      "text/plain": "array([10.,  9.,  7.,  0.,  8.,  4.,  3.,  6.,  5.,  2.,  1.])"
     },
     "execution_count": 110,
     "metadata": {},
     "output_type": "execute_result"
    }
   ],
   "source": [
    "# sinasc_apgar5.isna().sum()\n",
    "sinasc_apgar5.APGAR5.unique()"
   ],
   "metadata": {
    "collapsed": false
   }
  },
  {
   "cell_type": "code",
   "execution_count": 121,
   "metadata": {},
   "outputs": [
    {
     "data": {
      "text/plain": "APGAR5  APGAR5_cat      \n9.0     normal              16076\n10.0    normal               8393\n8.0     normal               1994\n7.0     asfixia leve          241\n6.0     asfixia leve           79\n5.0     asfixia moderada       45\n1.0     asfixia severa         24\n4.0     asfixia moderada       23\n2.0     asfixia severa         18\n0.0     asfixia severa         17\n3.0     asfixia severa         15\nName: count, dtype: int64"
     },
     "execution_count": 121,
     "metadata": {},
     "output_type": "execute_result"
    }
   ],
   "source": [
    "# 8)\n",
    "sinasc_apgar5.loc[(sinasc_apgar5.APGAR5 >= 8) & (sinasc_apgar5.APGAR5 <= 10), 'APGAR5_cat'] = 'normal'\n",
    "sinasc_apgar5.loc[(sinasc_apgar5.APGAR5 >= 6) & (sinasc_apgar5.APGAR5 <= 7), 'APGAR5_cat'] = 'asfixia leve'\n",
    "sinasc_apgar5.loc[(sinasc_apgar5.APGAR5 >= 4) & (sinasc_apgar5.APGAR5 <= 5), 'APGAR5_cat'] = 'asfixia moderada'\n",
    "sinasc_apgar5.loc[(sinasc_apgar5.APGAR5 >= 0) & (sinasc_apgar5.APGAR5 <= 3), 'APGAR5_cat'] = 'asfixia severa'\n",
    "\n",
    "sinasc_apgar5[['APGAR5','APGAR5_cat']].value_counts()"
   ]
  },
  {
   "cell_type": "code",
   "execution_count": 124,
   "metadata": {},
   "outputs": [
    {
     "data": {
      "text/plain": "Index(['LOCNASC', 'IDADEMAE', 'ESTCIVMAE', 'ESCMAE', 'QTDFILVIVO', 'GESTACAO',\n       'GRAVIDEZ', 'CONSULTAS', 'APGAR5', 'APGAR5_cat'],\n      dtype='object')"
     },
     "execution_count": 124,
     "metadata": {},
     "output_type": "execute_result"
    }
   ],
   "source": [
    "# 9)\n",
    "snake_case = [\n",
    "    'local_nascimento',\n",
    "    'idade_mae',\n",
    "    'estado_civil_mae',\n",
    "    'escolaridade_mae',\n",
    "    'qtd_filhos_vivos',\n",
    "    'semanas_gestacao',\n",
    "    'tipo_gravidez',\n",
    "    'num_consultas',\n",
    "    'apgar_5min',\n",
    "    'apgar_5min_cat'\n",
    "]\n",
    "sinasc_apgar5.rename(\n",
    "    columns={\n",
    "        'LOCNASC':'local_nascimento',\n",
    "        'IDADEMAE':'idade_mae',\n",
    "        'ESTCIVMAE':'estado_civil_mae',\n",
    "        'ESCMAE':'escolaridade_mae',\n",
    "        'QTDFILVIVO':'qtd_filhos_vivos',\n",
    "        'GESTACAO':'semanas_gestacao',\n",
    "        'GRAVIDEZ':'tipo_gravidez',\n",
    "        'CONSULTAS':'num_consultas',\n",
    "        'APGAR5':'apgar_5min',\n",
    "        'APGAR5_cat':'apgar_5min_cat'\n",
    "    },\n",
    "    inplace=True,\n",
    "    errors='raise'\n",
    ")\n",
    "\n",
    "sinasc_apgar5.head()"
   ]
  }
 ],
 "metadata": {
  "kernelspec": {
   "display_name": "Python 3",
   "language": "python",
   "name": "python3"
  },
  "language_info": {
   "codemirror_mode": {
    "name": "ipython",
    "version": 3
   },
   "file_extension": ".py",
   "mimetype": "text/x-python",
   "name": "python",
   "nbconvert_exporter": "python",
   "pygments_lexer": "ipython3",
   "version": "3.8.5"
  }
 },
 "nbformat": 4,
 "nbformat_minor": 4
}
