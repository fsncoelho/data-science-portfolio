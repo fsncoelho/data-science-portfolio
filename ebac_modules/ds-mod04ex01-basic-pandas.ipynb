{
 "cells": [
  {
   "cell_type": "markdown",
   "metadata": {},
   "source": [
    "# Tarefa 01\n",
    "\n",
    "- Leia os enunciados com atenção\n",
    "- Saiba que pode haver mais de uma resposta correta\n",
    "- Insira novas células de código sempre que achar necessário\n",
    "- Em caso de dúvidas, procure os tutores\n",
    "- Divirta-se :)\n",
    "\n",
    "#### 1)  crie uma série do pandas a partir de uma lista com os dados abaixo:\n",
    "\n",
    "Em um estudo sobre alteração na tempreatura global, A NASA disponibiliza dados de diferenças de de temperatura média da superfície terrestre relativos às médias de temperatura entre 1951 e 1980. Os dados originais podem ser vistos no site da NASA/GISS, e estão dispostos a cada década na tabela abaixo.\n",
    "\n",
    "|ano|anomalia termica|\n",
    "|:-:|:----:|\n",
    "| 1900 | -0.08 |\n",
    "| 1920 | -0.27 |\n",
    "| 1940 | 0.12 |\n",
    "| 1960 | -0.03 |\n",
    "| 1980 | 0.26 |\n",
    "| 2000 | 0.40 |\n",
    "| 2020 | 1.02 |\n",
    "\n",
    "Crie uma séries do Pandas a partir de uma lista com esses dados."
   ]
  },
  {
   "cell_type": "code",
   "execution_count": 2,
   "metadata": {},
   "outputs": [
    {
     "data": {
      "text/plain": "0   -0.08\n1   -0.27\n2    0.12\n3   -0.03\n4    0.26\n5    0.40\n6    1.02\ndtype: float64"
     },
     "execution_count": 2,
     "metadata": {},
     "output_type": "execute_result"
    }
   ],
   "source": [
    "import pandas as pd\n",
    "import numpy as np\n",
    "\n",
    "\n",
    "listaDados = [-0.08,-0.27, 0.12,-0.03, 0.26, 0.40, 1.02]\n",
    "\n",
    "ssAnomalia=pd.Series(listaDados)\n",
    "ssAnomalia"
   ]
  },
  {
   "cell_type": "markdown",
   "metadata": {},
   "source": [
    "#### 2) Coloque os anos nos índices conforme a tabela."
   ]
  },
  {
   "cell_type": "code",
   "execution_count": 3,
   "metadata": {},
   "outputs": [
    {
     "data": {
      "text/plain": "1900   -0.08\n1920   -0.27\n1940    0.12\n1960   -0.03\n1980    0.26\n2000    0.40\n2020    1.02\ndtype: float64"
     },
     "execution_count": 3,
     "metadata": {},
     "output_type": "execute_result"
    }
   ],
   "source": [
    "listaAnos = np.arange(1900,2040,20)\n",
    "ssAnomalia = pd.Series(listaDados, index=listaAnos)\n",
    "ssAnomalia"
   ]
  },
  {
   "cell_type": "markdown",
   "metadata": {},
   "source": [
    "#### 3) A partir do dicionário abaixo, crie uma séries do Pandas:"
   ]
  },
  {
   "cell_type": "code",
   "execution_count": 4,
   "metadata": {},
   "outputs": [
    {
     "data": {
      "text/plain": "1900   -0.08\n1920   -0.27\n1940    0.12\n1960   -0.03\n1980    0.26\n2000    0.40\n2020    1.02\ndtype: float64"
     },
     "execution_count": 4,
     "metadata": {},
     "output_type": "execute_result"
    }
   ],
   "source": [
    "dic_temperaturas = {1900: -.08, 1920: -.27, 1940: .12, 1960: -.03, 1980: .26, 2000: .40, 2020: 1.02}\n",
    "\n",
    "pd.Series(dic_temperaturas)"
   ]
  },
  {
   "cell_type": "markdown",
   "metadata": {},
   "source": [
    "#### 4) Transforme o ndarray abaixo em um dataframe. \n",
    "O numpy é capaz de gerar arrays n-dimensionais com números pseudo-aleatórios de acordo com uma variedade de distribuições, como no exemplo abaixo. Transforme esse nd-array em um DataFrame."
   ]
  },
  {
   "cell_type": "code",
   "execution_count": 5,
   "metadata": {},
   "outputs": [
    {
     "data": {
      "text/plain": "             0           1           2\n0    94.571072   92.359856   97.463516\n1   108.534260  102.876578  100.443657\n2   114.810739  113.915525   90.988063\n3   111.052477   82.501792  104.835759\n4   101.160238   90.113978  107.445057\n5    94.319563   90.607073   87.651754\n6   106.569278   94.028638  110.878577\n7    99.821745   87.541937   81.014673\n8   108.445445  101.225518  102.312331\n9   109.298141   92.352748   93.545119\n10   93.552517  105.266121   98.904681\n11  104.117686  111.331865  101.510355\n12  100.153693  106.895706   94.643411\n13   93.256864   83.626967   92.951954\n14   99.661590  112.362011  100.990184\n15  101.015141  106.748700   93.927497\n16   96.362141   95.044499   92.674509\n17   96.305458  106.995759   93.096900\n18  101.496274  103.121576  117.765214\n19   91.275549   84.635620   97.233820",
      "text/html": "<div>\n<style scoped>\n    .dataframe tbody tr th:only-of-type {\n        vertical-align: middle;\n    }\n\n    .dataframe tbody tr th {\n        vertical-align: top;\n    }\n\n    .dataframe thead th {\n        text-align: right;\n    }\n</style>\n<table border=\"1\" class=\"dataframe\">\n  <thead>\n    <tr style=\"text-align: right;\">\n      <th></th>\n      <th>0</th>\n      <th>1</th>\n      <th>2</th>\n    </tr>\n  </thead>\n  <tbody>\n    <tr>\n      <th>0</th>\n      <td>94.571072</td>\n      <td>92.359856</td>\n      <td>97.463516</td>\n    </tr>\n    <tr>\n      <th>1</th>\n      <td>108.534260</td>\n      <td>102.876578</td>\n      <td>100.443657</td>\n    </tr>\n    <tr>\n      <th>2</th>\n      <td>114.810739</td>\n      <td>113.915525</td>\n      <td>90.988063</td>\n    </tr>\n    <tr>\n      <th>3</th>\n      <td>111.052477</td>\n      <td>82.501792</td>\n      <td>104.835759</td>\n    </tr>\n    <tr>\n      <th>4</th>\n      <td>101.160238</td>\n      <td>90.113978</td>\n      <td>107.445057</td>\n    </tr>\n    <tr>\n      <th>5</th>\n      <td>94.319563</td>\n      <td>90.607073</td>\n      <td>87.651754</td>\n    </tr>\n    <tr>\n      <th>6</th>\n      <td>106.569278</td>\n      <td>94.028638</td>\n      <td>110.878577</td>\n    </tr>\n    <tr>\n      <th>7</th>\n      <td>99.821745</td>\n      <td>87.541937</td>\n      <td>81.014673</td>\n    </tr>\n    <tr>\n      <th>8</th>\n      <td>108.445445</td>\n      <td>101.225518</td>\n      <td>102.312331</td>\n    </tr>\n    <tr>\n      <th>9</th>\n      <td>109.298141</td>\n      <td>92.352748</td>\n      <td>93.545119</td>\n    </tr>\n    <tr>\n      <th>10</th>\n      <td>93.552517</td>\n      <td>105.266121</td>\n      <td>98.904681</td>\n    </tr>\n    <tr>\n      <th>11</th>\n      <td>104.117686</td>\n      <td>111.331865</td>\n      <td>101.510355</td>\n    </tr>\n    <tr>\n      <th>12</th>\n      <td>100.153693</td>\n      <td>106.895706</td>\n      <td>94.643411</td>\n    </tr>\n    <tr>\n      <th>13</th>\n      <td>93.256864</td>\n      <td>83.626967</td>\n      <td>92.951954</td>\n    </tr>\n    <tr>\n      <th>14</th>\n      <td>99.661590</td>\n      <td>112.362011</td>\n      <td>100.990184</td>\n    </tr>\n    <tr>\n      <th>15</th>\n      <td>101.015141</td>\n      <td>106.748700</td>\n      <td>93.927497</td>\n    </tr>\n    <tr>\n      <th>16</th>\n      <td>96.362141</td>\n      <td>95.044499</td>\n      <td>92.674509</td>\n    </tr>\n    <tr>\n      <th>17</th>\n      <td>96.305458</td>\n      <td>106.995759</td>\n      <td>93.096900</td>\n    </tr>\n    <tr>\n      <th>18</th>\n      <td>101.496274</td>\n      <td>103.121576</td>\n      <td>117.765214</td>\n    </tr>\n    <tr>\n      <th>19</th>\n      <td>91.275549</td>\n      <td>84.635620</td>\n      <td>97.233820</td>\n    </tr>\n  </tbody>\n</table>\n</div>"
     },
     "execution_count": 5,
     "metadata": {},
     "output_type": "execute_result"
    }
   ],
   "source": [
    "arr = np.random.normal(100, 10, (20,3))\n",
    "\n",
    "df_arr = pd.DataFrame(arr)\n",
    "df_arr"
   ]
  },
  {
   "cell_type": "markdown",
   "metadata": {},
   "source": [
    "#### 5) Nomeie os índices das linhas com inteiros de 1 a 20, e as colunas com os nomes \"x1\", \"x2\", e \"x3\" respectivamente."
   ]
  },
  {
   "cell_type": "code",
   "execution_count": 6,
   "metadata": {},
   "outputs": [
    {
     "data": {
      "text/plain": "            x1          x2          x3\n1    94.571072   92.359856   97.463516\n2   108.534260  102.876578  100.443657\n3   114.810739  113.915525   90.988063\n4   111.052477   82.501792  104.835759\n5   101.160238   90.113978  107.445057\n6    94.319563   90.607073   87.651754\n7   106.569278   94.028638  110.878577\n8    99.821745   87.541937   81.014673\n9   108.445445  101.225518  102.312331\n10  109.298141   92.352748   93.545119\n11   93.552517  105.266121   98.904681\n12  104.117686  111.331865  101.510355\n13  100.153693  106.895706   94.643411\n14   93.256864   83.626967   92.951954\n15   99.661590  112.362011  100.990184\n16  101.015141  106.748700   93.927497\n17   96.362141   95.044499   92.674509\n18   96.305458  106.995759   93.096900\n19  101.496274  103.121576  117.765214\n20   91.275549   84.635620   97.233820",
      "text/html": "<div>\n<style scoped>\n    .dataframe tbody tr th:only-of-type {\n        vertical-align: middle;\n    }\n\n    .dataframe tbody tr th {\n        vertical-align: top;\n    }\n\n    .dataframe thead th {\n        text-align: right;\n    }\n</style>\n<table border=\"1\" class=\"dataframe\">\n  <thead>\n    <tr style=\"text-align: right;\">\n      <th></th>\n      <th>x1</th>\n      <th>x2</th>\n      <th>x3</th>\n    </tr>\n  </thead>\n  <tbody>\n    <tr>\n      <th>1</th>\n      <td>94.571072</td>\n      <td>92.359856</td>\n      <td>97.463516</td>\n    </tr>\n    <tr>\n      <th>2</th>\n      <td>108.534260</td>\n      <td>102.876578</td>\n      <td>100.443657</td>\n    </tr>\n    <tr>\n      <th>3</th>\n      <td>114.810739</td>\n      <td>113.915525</td>\n      <td>90.988063</td>\n    </tr>\n    <tr>\n      <th>4</th>\n      <td>111.052477</td>\n      <td>82.501792</td>\n      <td>104.835759</td>\n    </tr>\n    <tr>\n      <th>5</th>\n      <td>101.160238</td>\n      <td>90.113978</td>\n      <td>107.445057</td>\n    </tr>\n    <tr>\n      <th>6</th>\n      <td>94.319563</td>\n      <td>90.607073</td>\n      <td>87.651754</td>\n    </tr>\n    <tr>\n      <th>7</th>\n      <td>106.569278</td>\n      <td>94.028638</td>\n      <td>110.878577</td>\n    </tr>\n    <tr>\n      <th>8</th>\n      <td>99.821745</td>\n      <td>87.541937</td>\n      <td>81.014673</td>\n    </tr>\n    <tr>\n      <th>9</th>\n      <td>108.445445</td>\n      <td>101.225518</td>\n      <td>102.312331</td>\n    </tr>\n    <tr>\n      <th>10</th>\n      <td>109.298141</td>\n      <td>92.352748</td>\n      <td>93.545119</td>\n    </tr>\n    <tr>\n      <th>11</th>\n      <td>93.552517</td>\n      <td>105.266121</td>\n      <td>98.904681</td>\n    </tr>\n    <tr>\n      <th>12</th>\n      <td>104.117686</td>\n      <td>111.331865</td>\n      <td>101.510355</td>\n    </tr>\n    <tr>\n      <th>13</th>\n      <td>100.153693</td>\n      <td>106.895706</td>\n      <td>94.643411</td>\n    </tr>\n    <tr>\n      <th>14</th>\n      <td>93.256864</td>\n      <td>83.626967</td>\n      <td>92.951954</td>\n    </tr>\n    <tr>\n      <th>15</th>\n      <td>99.661590</td>\n      <td>112.362011</td>\n      <td>100.990184</td>\n    </tr>\n    <tr>\n      <th>16</th>\n      <td>101.015141</td>\n      <td>106.748700</td>\n      <td>93.927497</td>\n    </tr>\n    <tr>\n      <th>17</th>\n      <td>96.362141</td>\n      <td>95.044499</td>\n      <td>92.674509</td>\n    </tr>\n    <tr>\n      <th>18</th>\n      <td>96.305458</td>\n      <td>106.995759</td>\n      <td>93.096900</td>\n    </tr>\n    <tr>\n      <th>19</th>\n      <td>101.496274</td>\n      <td>103.121576</td>\n      <td>117.765214</td>\n    </tr>\n    <tr>\n      <th>20</th>\n      <td>91.275549</td>\n      <td>84.635620</td>\n      <td>97.233820</td>\n    </tr>\n  </tbody>\n</table>\n</div>"
     },
     "execution_count": 6,
     "metadata": {},
     "output_type": "execute_result"
    }
   ],
   "source": [
    "df_arr = pd.DataFrame(arr, index=np.arange(1,21,1), columns=['x1','x2','x3'])\n",
    "df_arr"
   ]
  },
  {
   "cell_type": "markdown",
   "metadata": {},
   "source": [
    "#### 6) No DataFrame do exercício 5, crie uma nova coluna como sendo a média das três colunas, e dê a ela o nome de \"media\" (não recomendo colocar acentos em nomes de variáveis)."
   ]
  },
  {
   "cell_type": "code",
   "execution_count": 7,
   "metadata": {},
   "outputs": [
    {
     "data": {
      "text/plain": "            x1          x2          x3       media\n1    94.571072   92.359856   97.463516   94.798148\n2   108.534260  102.876578  100.443657  103.951499\n3   114.810739  113.915525   90.988063  106.571442\n4   111.052477   82.501792  104.835759   99.463343\n5   101.160238   90.113978  107.445057   99.573091\n6    94.319563   90.607073   87.651754   90.859463\n7   106.569278   94.028638  110.878577  103.825497\n8    99.821745   87.541937   81.014673   89.459452\n9   108.445445  101.225518  102.312331  103.994431\n10  109.298141   92.352748   93.545119   98.398670\n11   93.552517  105.266121   98.904681   99.241106\n12  104.117686  111.331865  101.510355  105.653302\n13  100.153693  106.895706   94.643411  100.564270\n14   93.256864   83.626967   92.951954   89.945262\n15   99.661590  112.362011  100.990184  104.337928\n16  101.015141  106.748700   93.927497  100.563779\n17   96.362141   95.044499   92.674509   94.693716\n18   96.305458  106.995759   93.096900   98.799372\n19  101.496274  103.121576  117.765214  107.461022\n20   91.275549   84.635620   97.233820   91.048330",
      "text/html": "<div>\n<style scoped>\n    .dataframe tbody tr th:only-of-type {\n        vertical-align: middle;\n    }\n\n    .dataframe tbody tr th {\n        vertical-align: top;\n    }\n\n    .dataframe thead th {\n        text-align: right;\n    }\n</style>\n<table border=\"1\" class=\"dataframe\">\n  <thead>\n    <tr style=\"text-align: right;\">\n      <th></th>\n      <th>x1</th>\n      <th>x2</th>\n      <th>x3</th>\n      <th>media</th>\n    </tr>\n  </thead>\n  <tbody>\n    <tr>\n      <th>1</th>\n      <td>94.571072</td>\n      <td>92.359856</td>\n      <td>97.463516</td>\n      <td>94.798148</td>\n    </tr>\n    <tr>\n      <th>2</th>\n      <td>108.534260</td>\n      <td>102.876578</td>\n      <td>100.443657</td>\n      <td>103.951499</td>\n    </tr>\n    <tr>\n      <th>3</th>\n      <td>114.810739</td>\n      <td>113.915525</td>\n      <td>90.988063</td>\n      <td>106.571442</td>\n    </tr>\n    <tr>\n      <th>4</th>\n      <td>111.052477</td>\n      <td>82.501792</td>\n      <td>104.835759</td>\n      <td>99.463343</td>\n    </tr>\n    <tr>\n      <th>5</th>\n      <td>101.160238</td>\n      <td>90.113978</td>\n      <td>107.445057</td>\n      <td>99.573091</td>\n    </tr>\n    <tr>\n      <th>6</th>\n      <td>94.319563</td>\n      <td>90.607073</td>\n      <td>87.651754</td>\n      <td>90.859463</td>\n    </tr>\n    <tr>\n      <th>7</th>\n      <td>106.569278</td>\n      <td>94.028638</td>\n      <td>110.878577</td>\n      <td>103.825497</td>\n    </tr>\n    <tr>\n      <th>8</th>\n      <td>99.821745</td>\n      <td>87.541937</td>\n      <td>81.014673</td>\n      <td>89.459452</td>\n    </tr>\n    <tr>\n      <th>9</th>\n      <td>108.445445</td>\n      <td>101.225518</td>\n      <td>102.312331</td>\n      <td>103.994431</td>\n    </tr>\n    <tr>\n      <th>10</th>\n      <td>109.298141</td>\n      <td>92.352748</td>\n      <td>93.545119</td>\n      <td>98.398670</td>\n    </tr>\n    <tr>\n      <th>11</th>\n      <td>93.552517</td>\n      <td>105.266121</td>\n      <td>98.904681</td>\n      <td>99.241106</td>\n    </tr>\n    <tr>\n      <th>12</th>\n      <td>104.117686</td>\n      <td>111.331865</td>\n      <td>101.510355</td>\n      <td>105.653302</td>\n    </tr>\n    <tr>\n      <th>13</th>\n      <td>100.153693</td>\n      <td>106.895706</td>\n      <td>94.643411</td>\n      <td>100.564270</td>\n    </tr>\n    <tr>\n      <th>14</th>\n      <td>93.256864</td>\n      <td>83.626967</td>\n      <td>92.951954</td>\n      <td>89.945262</td>\n    </tr>\n    <tr>\n      <th>15</th>\n      <td>99.661590</td>\n      <td>112.362011</td>\n      <td>100.990184</td>\n      <td>104.337928</td>\n    </tr>\n    <tr>\n      <th>16</th>\n      <td>101.015141</td>\n      <td>106.748700</td>\n      <td>93.927497</td>\n      <td>100.563779</td>\n    </tr>\n    <tr>\n      <th>17</th>\n      <td>96.362141</td>\n      <td>95.044499</td>\n      <td>92.674509</td>\n      <td>94.693716</td>\n    </tr>\n    <tr>\n      <th>18</th>\n      <td>96.305458</td>\n      <td>106.995759</td>\n      <td>93.096900</td>\n      <td>98.799372</td>\n    </tr>\n    <tr>\n      <th>19</th>\n      <td>101.496274</td>\n      <td>103.121576</td>\n      <td>117.765214</td>\n      <td>107.461022</td>\n    </tr>\n    <tr>\n      <th>20</th>\n      <td>91.275549</td>\n      <td>84.635620</td>\n      <td>97.233820</td>\n      <td>91.048330</td>\n    </tr>\n  </tbody>\n</table>\n</div>"
     },
     "execution_count": 7,
     "metadata": {},
     "output_type": "execute_result"
    }
   ],
   "source": [
    "df_arr['media'] = (df_arr['x1'] + df_arr['x2'] + df_arr['x3']) / 3\n",
    "df_arr"
   ]
  },
  {
   "cell_type": "markdown",
   "metadata": {},
   "source": [
    "#### 7) No DataFrame do exercício 6, crie uma nova coluna chamada \"log_med\", contendo o logaritmo natural da média calculada no exercício 6 <br>"
   ]
  },
  {
   "cell_type": "code",
   "execution_count": 8,
   "metadata": {},
   "outputs": [
    {
     "data": {
      "text/plain": "            x1          x2          x3       media   log_med\n1    94.571072   92.359856   97.463516   94.798148  4.551750\n2   108.534260  102.876578  100.443657  103.951499  4.643924\n3   114.810739  113.915525   90.988063  106.571442  4.668816\n4   111.052477   82.501792  104.835759   99.463343  4.599789\n5   101.160238   90.113978  107.445057   99.573091  4.600892\n6    94.319563   90.607073   87.651754   90.859463  4.509314\n7   106.569278   94.028638  110.878577  103.825497  4.642712\n8    99.821745   87.541937   81.014673   89.459452  4.493785\n9   108.445445  101.225518  102.312331  103.994431  4.644337\n10  109.298141   92.352748   93.545119   98.398670  4.589027\n11   93.552517  105.266121   98.904681   99.241106  4.597552\n12  104.117686  111.331865  101.510355  105.653302  4.660163\n13  100.153693  106.895706   94.643411  100.564270  4.610797\n14   93.256864   83.626967   92.951954   89.945262  4.499201\n15   99.661590  112.362011  100.990184  104.337928  4.647635\n16  101.015141  106.748700   93.927497  100.563779  4.610792\n17   96.362141   95.044499   92.674509   94.693716  4.550648\n18   96.305458  106.995759   93.096900   98.799372  4.593091\n19  101.496274  103.121576  117.765214  107.461022  4.677128\n20   91.275549   84.635620   97.233820   91.048330  4.511390",
      "text/html": "<div>\n<style scoped>\n    .dataframe tbody tr th:only-of-type {\n        vertical-align: middle;\n    }\n\n    .dataframe tbody tr th {\n        vertical-align: top;\n    }\n\n    .dataframe thead th {\n        text-align: right;\n    }\n</style>\n<table border=\"1\" class=\"dataframe\">\n  <thead>\n    <tr style=\"text-align: right;\">\n      <th></th>\n      <th>x1</th>\n      <th>x2</th>\n      <th>x3</th>\n      <th>media</th>\n      <th>log_med</th>\n    </tr>\n  </thead>\n  <tbody>\n    <tr>\n      <th>1</th>\n      <td>94.571072</td>\n      <td>92.359856</td>\n      <td>97.463516</td>\n      <td>94.798148</td>\n      <td>4.551750</td>\n    </tr>\n    <tr>\n      <th>2</th>\n      <td>108.534260</td>\n      <td>102.876578</td>\n      <td>100.443657</td>\n      <td>103.951499</td>\n      <td>4.643924</td>\n    </tr>\n    <tr>\n      <th>3</th>\n      <td>114.810739</td>\n      <td>113.915525</td>\n      <td>90.988063</td>\n      <td>106.571442</td>\n      <td>4.668816</td>\n    </tr>\n    <tr>\n      <th>4</th>\n      <td>111.052477</td>\n      <td>82.501792</td>\n      <td>104.835759</td>\n      <td>99.463343</td>\n      <td>4.599789</td>\n    </tr>\n    <tr>\n      <th>5</th>\n      <td>101.160238</td>\n      <td>90.113978</td>\n      <td>107.445057</td>\n      <td>99.573091</td>\n      <td>4.600892</td>\n    </tr>\n    <tr>\n      <th>6</th>\n      <td>94.319563</td>\n      <td>90.607073</td>\n      <td>87.651754</td>\n      <td>90.859463</td>\n      <td>4.509314</td>\n    </tr>\n    <tr>\n      <th>7</th>\n      <td>106.569278</td>\n      <td>94.028638</td>\n      <td>110.878577</td>\n      <td>103.825497</td>\n      <td>4.642712</td>\n    </tr>\n    <tr>\n      <th>8</th>\n      <td>99.821745</td>\n      <td>87.541937</td>\n      <td>81.014673</td>\n      <td>89.459452</td>\n      <td>4.493785</td>\n    </tr>\n    <tr>\n      <th>9</th>\n      <td>108.445445</td>\n      <td>101.225518</td>\n      <td>102.312331</td>\n      <td>103.994431</td>\n      <td>4.644337</td>\n    </tr>\n    <tr>\n      <th>10</th>\n      <td>109.298141</td>\n      <td>92.352748</td>\n      <td>93.545119</td>\n      <td>98.398670</td>\n      <td>4.589027</td>\n    </tr>\n    <tr>\n      <th>11</th>\n      <td>93.552517</td>\n      <td>105.266121</td>\n      <td>98.904681</td>\n      <td>99.241106</td>\n      <td>4.597552</td>\n    </tr>\n    <tr>\n      <th>12</th>\n      <td>104.117686</td>\n      <td>111.331865</td>\n      <td>101.510355</td>\n      <td>105.653302</td>\n      <td>4.660163</td>\n    </tr>\n    <tr>\n      <th>13</th>\n      <td>100.153693</td>\n      <td>106.895706</td>\n      <td>94.643411</td>\n      <td>100.564270</td>\n      <td>4.610797</td>\n    </tr>\n    <tr>\n      <th>14</th>\n      <td>93.256864</td>\n      <td>83.626967</td>\n      <td>92.951954</td>\n      <td>89.945262</td>\n      <td>4.499201</td>\n    </tr>\n    <tr>\n      <th>15</th>\n      <td>99.661590</td>\n      <td>112.362011</td>\n      <td>100.990184</td>\n      <td>104.337928</td>\n      <td>4.647635</td>\n    </tr>\n    <tr>\n      <th>16</th>\n      <td>101.015141</td>\n      <td>106.748700</td>\n      <td>93.927497</td>\n      <td>100.563779</td>\n      <td>4.610792</td>\n    </tr>\n    <tr>\n      <th>17</th>\n      <td>96.362141</td>\n      <td>95.044499</td>\n      <td>92.674509</td>\n      <td>94.693716</td>\n      <td>4.550648</td>\n    </tr>\n    <tr>\n      <th>18</th>\n      <td>96.305458</td>\n      <td>106.995759</td>\n      <td>93.096900</td>\n      <td>98.799372</td>\n      <td>4.593091</td>\n    </tr>\n    <tr>\n      <th>19</th>\n      <td>101.496274</td>\n      <td>103.121576</td>\n      <td>117.765214</td>\n      <td>107.461022</td>\n      <td>4.677128</td>\n    </tr>\n    <tr>\n      <th>20</th>\n      <td>91.275549</td>\n      <td>84.635620</td>\n      <td>97.233820</td>\n      <td>91.048330</td>\n      <td>4.511390</td>\n    </tr>\n  </tbody>\n</table>\n</div>"
     },
     "execution_count": 8,
     "metadata": {},
     "output_type": "execute_result"
    }
   ],
   "source": [
    "df_arr['log_med'] = np.log(df_arr['media'])\n",
    "df_arr"
   ]
  }
 ],
 "metadata": {
  "kernelspec": {
   "display_name": "Python 3",
   "language": "python",
   "name": "python3"
  },
  "language_info": {
   "codemirror_mode": {
    "name": "ipython",
    "version": 3
   },
   "file_extension": ".py",
   "mimetype": "text/x-python",
   "name": "python",
   "nbconvert_exporter": "python",
   "pygments_lexer": "ipython3",
   "version": "3.8.5"
  }
 },
 "nbformat": 4,
 "nbformat_minor": 4
}
